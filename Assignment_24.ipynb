{
 "cells": [
  {
   "cell_type": "markdown",
   "id": "2314f9b9",
   "metadata": {},
   "source": [
    "**Question1**\n",
    "\n",
    "**Create a function that takes an integer and returns a list from 1 to the given number, where:**\n",
    "    \n",
    "1. **If the number can be divided evenly by 4, amplify it by 10 (i.e. return 10 times the number).**\n",
    "\n",
    "2. **If the number cannot be divided evenly by 4, simply return the number.**\n",
    "\n",
    "**Examples**\n",
    "\n",
    "**amplify(4) ➞ [1, 2, 3, 40]**\n",
    "\n",
    "**amplify(3) ➞ [1, 2, 3]**\n",
    "\n",
    "**amplify(25) ➞ [1, 2, 3, 40, 5, 6, 7, 80, 9, 10, 11, 120, 13, 14, 15, 160, 17, 18, 19, 200, 21, 22, 23, 240, 25]**\n",
    "\n",
    "**Notes**\n",
    "\n",
    "- **The given integer will always be equal to or greater than 1.**\n",
    "\n",
    "- **Include the number (see example above).**\n",
    "\n",
    "- **To perform this problem with its intended purpose, try doing it with list comprehensions. If that's too difficult, just solve the challenge any way you can.**"
   ]
  },
  {
   "cell_type": "code",
   "execution_count": 1,
   "id": "00c51953",
   "metadata": {},
   "outputs": [],
   "source": [
    "def amplify(num):\n",
    "    # Use a list comprehension to generate the list\n",
    "    return [n * 10 if n % 4 == 0 else n for n in range(1, num + 1)]"
   ]
  },
  {
   "cell_type": "code",
   "execution_count": 2,
   "id": "68e1c400",
   "metadata": {},
   "outputs": [
    {
     "data": {
      "text/plain": [
       "[1, 2, 3, 40]"
      ]
     },
     "execution_count": 2,
     "metadata": {},
     "output_type": "execute_result"
    }
   ],
   "source": [
    "amplify(4)"
   ]
  },
  {
   "cell_type": "code",
   "execution_count": 3,
   "id": "b7808aff",
   "metadata": {},
   "outputs": [
    {
     "data": {
      "text/plain": [
       "[1, 2, 3]"
      ]
     },
     "execution_count": 3,
     "metadata": {},
     "output_type": "execute_result"
    }
   ],
   "source": [
    "amplify(3)"
   ]
  },
  {
   "cell_type": "code",
   "execution_count": 4,
   "id": "4f69924b",
   "metadata": {},
   "outputs": [
    {
     "data": {
      "text/plain": [
       "[1,\n",
       " 2,\n",
       " 3,\n",
       " 40,\n",
       " 5,\n",
       " 6,\n",
       " 7,\n",
       " 80,\n",
       " 9,\n",
       " 10,\n",
       " 11,\n",
       " 120,\n",
       " 13,\n",
       " 14,\n",
       " 15,\n",
       " 160,\n",
       " 17,\n",
       " 18,\n",
       " 19,\n",
       " 200,\n",
       " 21,\n",
       " 22,\n",
       " 23,\n",
       " 240,\n",
       " 25]"
      ]
     },
     "execution_count": 4,
     "metadata": {},
     "output_type": "execute_result"
    }
   ],
   "source": [
    "amplify(25)"
   ]
  },
  {
   "cell_type": "markdown",
   "id": "844e64b5",
   "metadata": {},
   "source": [
    "**Question2**\n",
    "\n",
    "**Create a function that takes a list of numbers and return the number that's unique.**\n",
    "\n",
    "**Examples**\n",
    "\n",
    "**unique([3, 3, 3, 7, 3, 3]) ➞ 7**\n",
    "\n",
    "**unique([0, 0, 0.77, 0, 0]) ➞ 0.77**\n",
    "\n",
    "**unique([0, 1, 1, 1, 1, 1, 1, 1]) ➞ 0**\n",
    "\n",
    "**Notes**\n",
    "\n",
    "**Test cases will always have exactly one unique number while all others are the same.**"
   ]
  },
  {
   "cell_type": "markdown",
   "id": "c0c89655",
   "metadata": {},
   "source": [
    "**Solution:**"
   ]
  },
  {
   "cell_type": "code",
   "execution_count": 1,
   "id": "07afc18a",
   "metadata": {},
   "outputs": [],
   "source": [
    "def unique(numbers):\n",
    "    # Use a dictionary to count occurrences of each number\n",
    "    count_dict = {}\n",
    "    \n",
    "    # Count occurrences of each number in the list\n",
    "    for num in numbers:\n",
    "        if num in count_dict:\n",
    "            count_dict[num] += 1\n",
    "        else:\n",
    "            count_dict[num] = 1\n",
    "    \n",
    "    # Find the unique number (occurs only once)\n",
    "    for num, count in count_dict.items():\n",
    "        if count == 1:\n",
    "            return num"
   ]
  },
  {
   "cell_type": "code",
   "execution_count": 2,
   "id": "23230e32",
   "metadata": {},
   "outputs": [
    {
     "data": {
      "text/plain": [
       "7"
      ]
     },
     "execution_count": 2,
     "metadata": {},
     "output_type": "execute_result"
    }
   ],
   "source": [
    "unique([3, 3, 3, 7, 3, 3])"
   ]
  },
  {
   "cell_type": "code",
   "execution_count": 3,
   "id": "981895f7",
   "metadata": {},
   "outputs": [
    {
     "data": {
      "text/plain": [
       "0.77"
      ]
     },
     "execution_count": 3,
     "metadata": {},
     "output_type": "execute_result"
    }
   ],
   "source": [
    "unique([0, 0, 0.77, 0, 0]) "
   ]
  },
  {
   "cell_type": "code",
   "execution_count": 4,
   "id": "b03bfee9",
   "metadata": {},
   "outputs": [
    {
     "data": {
      "text/plain": [
       "0"
      ]
     },
     "execution_count": 4,
     "metadata": {},
     "output_type": "execute_result"
    }
   ],
   "source": [
    "unique([0, 1, 1, 1, 1, 1, 1, 1])"
   ]
  },
  {
   "cell_type": "markdown",
   "id": "b895e25b",
   "metadata": {},
   "source": [
    "**Question3**\n",
    "\n",
    "**Your task is to create a Circle constructor that creates a circle with a radius provided by an argument. The circles constructed must have two getters getArea() (PIr^2) and getPerimeter() (2PI*r) which give both respective areas and perimeter (circumference).**\n",
    "\n",
    "**For help with this class, I have provided you with a Rectangle constructor which you can use as a base example.**\n",
    "\n",
    "**Examples**\n",
    "\n",
    "**circy = Circle(11)**\n",
    "\n",
    "**circy.getArea()**\n",
    "\n",
    "- **Should return 380.132711084365**\n",
    "\n",
    "**circy = Circle(4.44)**\n",
    "\n",
    "**circy.getPerimeter()**\n",
    "\n",
    "- **Should return 27.897342763877365**\n",
    "\n",
    "**Notes**\n",
    "\n",
    "**Round results up to the nearest integer.**"
   ]
  },
  {
   "cell_type": "markdown",
   "id": "391c39eb",
   "metadata": {},
   "source": [
    "**Solution:**"
   ]
  },
  {
   "cell_type": "code",
   "execution_count": 6,
   "id": "5d3faa5d",
   "metadata": {},
   "outputs": [],
   "source": [
    "import math\n",
    "\n",
    "class Circle:\n",
    "    def __init__(self, radius):\n",
    "        self.radius = radius\n",
    "    \n",
    "    def getArea(self):\n",
    "        # Calculate and return the area of the circle\n",
    "        return round(math.pi * self.radius**2)\n",
    "    \n",
    "    def getPerimeter(self):\n",
    "        # Calculate and return the perimeter (circumference) of the circle\n",
    "        return round(2 * math.pi * self.radius)"
   ]
  },
  {
   "cell_type": "code",
   "execution_count": 7,
   "id": "31461211",
   "metadata": {},
   "outputs": [
    {
     "name": "stdout",
     "output_type": "stream",
     "text": [
      "380\n",
      "69\n"
     ]
    }
   ],
   "source": [
    "# Test cases\n",
    "circy = Circle(11)\n",
    "print(circy.getArea())       \n",
    "print(circy.getPerimeter())"
   ]
  },
  {
   "cell_type": "code",
   "execution_count": 8,
   "id": "61c5d176",
   "metadata": {},
   "outputs": [
    {
     "name": "stdout",
     "output_type": "stream",
     "text": [
      "62\n",
      "28\n"
     ]
    }
   ],
   "source": [
    "circy = Circle(4.44)\n",
    "print(circy.getArea())       \n",
    "print(circy.getPerimeter())"
   ]
  },
  {
   "cell_type": "markdown",
   "id": "79dc3929",
   "metadata": {},
   "source": [
    "**Question4**\n",
    "\n",
    "**Create a function that takes a list of strings and return a list, sorted from shortest to longest.**\n",
    "\n",
    "**Examples**\n",
    "\n",
    "**sort_by_length([\"Google\", \"Apple\", \"Microsoft\"]) ➞ [\"Apple\", \"Google\", \"Microsoft\"]**\n",
    "\n",
    "**sort_by_length([\"Leonardo\", \"Michelangelo\", \"Raphael\", \"Donatello\"]) ➞ [\"Raphael\", \"Leonardo\", \"Donatello\", \"Michelangelo\"]**\n",
    "\n",
    "**sort_by_length([\"Turing\", \"Einstein\", \"Jung\"]) ➞ [\"Jung\", \"Turing\", \"Einstein\"]**\n",
    "\n",
    "**Notes**\n",
    "\n",
    "**All test cases contain lists with strings of different lengths, so you won't have to deal with multiple strings of the same length.**"
   ]
  },
  {
   "cell_type": "markdown",
   "id": "a821de84",
   "metadata": {},
   "source": [
    "**Solution:**"
   ]
  },
  {
   "cell_type": "code",
   "execution_count": 10,
   "id": "2adc4f0e",
   "metadata": {},
   "outputs": [],
   "source": [
    "def sort_by_length(lst):\n",
    "  \n",
    "    return sorted(lst, key=len)     # Using sorted() function with a custom key function to sort by string length"
   ]
  },
  {
   "cell_type": "code",
   "execution_count": 11,
   "id": "7862b4b0",
   "metadata": {},
   "outputs": [
    {
     "data": {
      "text/plain": [
       "['Apple', 'Google', 'Microsoft']"
      ]
     },
     "execution_count": 11,
     "metadata": {},
     "output_type": "execute_result"
    }
   ],
   "source": [
    "sort_by_length([\"Google\", \"Apple\", \"Microsoft\"]) "
   ]
  },
  {
   "cell_type": "code",
   "execution_count": 12,
   "id": "7d31d418",
   "metadata": {},
   "outputs": [
    {
     "data": {
      "text/plain": [
       "['Raphael', 'Leonardo', 'Donatello', 'Michelangelo']"
      ]
     },
     "execution_count": 12,
     "metadata": {},
     "output_type": "execute_result"
    }
   ],
   "source": [
    "sort_by_length([\"Leonardo\", \"Michelangelo\", \"Raphael\", \"Donatello\"])"
   ]
  },
  {
   "cell_type": "code",
   "execution_count": 13,
   "id": "b0f14952",
   "metadata": {},
   "outputs": [
    {
     "data": {
      "text/plain": [
       "['Jung', 'Turing', 'Einstein']"
      ]
     },
     "execution_count": 13,
     "metadata": {},
     "output_type": "execute_result"
    }
   ],
   "source": [
    "sort_by_length([\"Turing\", \"Einstein\", \"Jung\"])"
   ]
  },
  {
   "cell_type": "markdown",
   "id": "f0275b2a",
   "metadata": {},
   "source": [
    "**Question5**\n",
    "\n",
    "**Create a function that validates whether three given integers form a Pythagorean triplet. The sum of the squares of the two smallest integers must equal the square of the largest number to be validated.**\n",
    "\n",
    "**Examples**\n",
    "\n",
    "**is_triplet(3, 4, 5) ➞ True**\n",
    "\n",
    "- **3² + 4² = 25**\n",
    "\n",
    "- **5² = 25**\n",
    "\n",
    "**is_triplet(13, 5, 12) ➞ True**\n",
    "\n",
    "- **5² + 12² = 169**\n",
    "\n",
    "- **13² = 169**\n",
    "\n",
    "**is_triplet(1, 2, 3) ➞ False**\n",
    "\n",
    "- **1² + 2² = 5**\n",
    "\n",
    "- **3² = 9**\n",
    "\n",
    "**Notes**\n",
    "\n",
    "**Numbers may not be given in a sorted order.**"
   ]
  },
  {
   "cell_type": "markdown",
   "id": "fb5f3c82",
   "metadata": {},
   "source": [
    "**Solution:**"
   ]
  },
  {
   "cell_type": "code",
   "execution_count": 14,
   "id": "7273b0fe",
   "metadata": {},
   "outputs": [],
   "source": [
    "def is_triplet(a, b, c):\n",
    "    # Sort the numbers in ascending order\n",
    "    sorted_numbers = sorted([a, b, c])\n",
    "    # Check if the sum of squares of the two smaller numbers equals the square of the largest number\n",
    "    return sorted_numbers[0] ** 2 + sorted_numbers[1] ** 2 == sorted_numbers[2] ** 2"
   ]
  },
  {
   "cell_type": "code",
   "execution_count": 15,
   "id": "e0a2c242",
   "metadata": {},
   "outputs": [
    {
     "data": {
      "text/plain": [
       "True"
      ]
     },
     "execution_count": 15,
     "metadata": {},
     "output_type": "execute_result"
    }
   ],
   "source": [
    "is_triplet(3, 4, 5)"
   ]
  },
  {
   "cell_type": "code",
   "execution_count": 16,
   "id": "0781abfe",
   "metadata": {},
   "outputs": [
    {
     "data": {
      "text/plain": [
       "True"
      ]
     },
     "execution_count": 16,
     "metadata": {},
     "output_type": "execute_result"
    }
   ],
   "source": [
    "is_triplet(13, 5, 12) "
   ]
  },
  {
   "cell_type": "code",
   "execution_count": 17,
   "id": "4080c159",
   "metadata": {},
   "outputs": [
    {
     "data": {
      "text/plain": [
       "False"
      ]
     },
     "execution_count": 17,
     "metadata": {},
     "output_type": "execute_result"
    }
   ],
   "source": [
    "is_triplet(1, 2, 3)"
   ]
  },
  {
   "cell_type": "code",
   "execution_count": null,
   "id": "d2259243",
   "metadata": {},
   "outputs": [],
   "source": []
  }
 ],
 "metadata": {
  "kernelspec": {
   "display_name": "Python 3 (ipykernel)",
   "language": "python",
   "name": "python3"
  },
  "language_info": {
   "codemirror_mode": {
    "name": "ipython",
    "version": 3
   },
   "file_extension": ".py",
   "mimetype": "text/x-python",
   "name": "python",
   "nbconvert_exporter": "python",
   "pygments_lexer": "ipython3",
   "version": "3.9.7"
  }
 },
 "nbformat": 4,
 "nbformat_minor": 5
}
