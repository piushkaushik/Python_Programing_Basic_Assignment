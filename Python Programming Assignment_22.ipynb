{
 "cells": [
  {
   "cell_type": "markdown",
   "id": "90d190ed",
   "metadata": {},
   "source": [
    "**Question1**\n",
    "\n",
    "**Create a function that takes three parameters where:**\n",
    "\n",
    "**- x is the start of the range (inclusive).**\n",
    "\n",
    "**- y is the end of the range (inclusive).**\n",
    "\n",
    "**- n is the divisor to be checked against.**\n",
    "\n",
    "**Return an ordered list with numbers in the range that are divisible by the third parameter n.**\n",
    "\n",
    "**Return an empty list if there are no numbers that are divisible by n.**\n",
    "\n",
    "**Examples**\n",
    "\n",
    "**list_operation(1, 10, 3) ➞ [3, 6, 9]**\n",
    "\n",
    "**list_operation(7, 9, 2) ➞ [8]**\n",
    "\n",
    "**list_operation(15, 20, 7) ➞ []**"
   ]
  },
  {
   "cell_type": "markdown",
   "id": "a1937c54",
   "metadata": {},
   "source": [
    "**Solution:**"
   ]
  },
  {
   "cell_type": "code",
   "execution_count": 1,
   "id": "1f1d9e9d",
   "metadata": {},
   "outputs": [],
   "source": [
    "def list_operation(x, y, n):\n",
    "    # Use list comprehension to generate the list of numbers divisible by n\n",
    "    return [num for num in range(x, y + 1) if num % n == 0]"
   ]
  },
  {
   "cell_type": "code",
   "execution_count": 2,
   "id": "64271bb2",
   "metadata": {},
   "outputs": [
    {
     "data": {
      "text/plain": [
       "[3, 6, 9]"
      ]
     },
     "execution_count": 2,
     "metadata": {},
     "output_type": "execute_result"
    }
   ],
   "source": [
    "list_operation(1, 10, 3)"
   ]
  },
  {
   "cell_type": "code",
   "execution_count": 3,
   "id": "9b057fb9",
   "metadata": {},
   "outputs": [
    {
     "data": {
      "text/plain": [
       "[8]"
      ]
     },
     "execution_count": 3,
     "metadata": {},
     "output_type": "execute_result"
    }
   ],
   "source": [
    "list_operation(7, 9, 2)"
   ]
  },
  {
   "cell_type": "code",
   "execution_count": 4,
   "id": "0a36d045",
   "metadata": {},
   "outputs": [
    {
     "data": {
      "text/plain": [
       "[]"
      ]
     },
     "execution_count": 4,
     "metadata": {},
     "output_type": "execute_result"
    }
   ],
   "source": [
    "list_operation(15, 20, 7)"
   ]
  },
  {
   "cell_type": "markdown",
   "id": "08848f12",
   "metadata": {},
   "source": [
    "**Question2**\n",
    "\n",
    "**Create a function that takes in two lists and returns True if the second list follows the first list by one element, and False otherwise. In other words, determine if the second list is the first\n",
    "list shifted to the right by 1.**\n",
    "\n",
    "**Examples**\n",
    "\n",
    "**simon_says([1, 2], [5, 1]) ➞ True**\n",
    "\n",
    "**simon_says([1, 2], [5, 5]) ➞ False**\n",
    "\n",
    "**simon_says([1, 2, 3, 4, 5], [0, 1, 2, 3, 4]) ➞ True**\n",
    "\n",
    "**simon_says([1, 2, 3, 4, 5], [5, 5, 1, 2, 3]) ➞ False**\n",
    "\n",
    "**Notes:**\n",
    "\n",
    "**- Both input lists will be of the same length, and will have a minimum length of 2.**\n",
    "\n",
    "**- The values of the 0-indexed element in the second list and the n-1th indexed element in the first list do not matter.**"
   ]
  },
  {
   "cell_type": "markdown",
   "id": "a28b14a3",
   "metadata": {},
   "source": [
    "**Solution:**"
   ]
  },
  {
   "cell_type": "code",
   "execution_count": 15,
   "id": "2fe714a8",
   "metadata": {},
   "outputs": [],
   "source": [
    "def simon_says(list1, list2):\n",
    "    # Check if the second list is the first list shifted to the right by 1\n",
    "    return list1[:-1] == list2[1:]"
   ]
  },
  {
   "cell_type": "code",
   "execution_count": 16,
   "id": "3a76cacf",
   "metadata": {},
   "outputs": [
    {
     "data": {
      "text/plain": [
       "True"
      ]
     },
     "execution_count": 16,
     "metadata": {},
     "output_type": "execute_result"
    }
   ],
   "source": [
    "simon_says([1, 2], [5, 1])"
   ]
  },
  {
   "cell_type": "code",
   "execution_count": 17,
   "id": "3a9c78fc",
   "metadata": {},
   "outputs": [
    {
     "data": {
      "text/plain": [
       "False"
      ]
     },
     "execution_count": 17,
     "metadata": {},
     "output_type": "execute_result"
    }
   ],
   "source": [
    "simon_says([1, 2], [5, 5])"
   ]
  },
  {
   "cell_type": "code",
   "execution_count": 19,
   "id": "7e6b4f7a",
   "metadata": {},
   "outputs": [
    {
     "data": {
      "text/plain": [
       "True"
      ]
     },
     "execution_count": 19,
     "metadata": {},
     "output_type": "execute_result"
    }
   ],
   "source": [
    "simon_says([1, 2, 3, 4, 5], [0, 1, 2, 3, 4])"
   ]
  },
  {
   "cell_type": "code",
   "execution_count": 18,
   "id": "2f88dfb6",
   "metadata": {},
   "outputs": [
    {
     "data": {
      "text/plain": [
       "False"
      ]
     },
     "execution_count": 18,
     "metadata": {},
     "output_type": "execute_result"
    }
   ],
   "source": [
    "simon_says([1, 2, 3, 4, 5], [5, 5, 1, 2, 3])"
   ]
  },
  {
   "cell_type": "markdown",
   "id": "b3ca0d60",
   "metadata": {},
   "source": [
    "**Question3**\n",
    "\n",
    "**A group of friends have decided to start a secret society. The name will be the first letter of each of their names, sorted in alphabetical order. Create a function that takes in a list of names and returns the name of the secret society.**\n",
    "\n",
    "**Examples**\n",
    "\n",
    "**society_name([\"Adam\", \"Sarah\", \"Malcolm\"]) ➞ \"AMS\"**\n",
    "\n",
    "**society_name([\"Harry\", \"Newt\", \"Luna\", \"Cho\"]) ➞ \"CHLN\"**\n",
    "\n",
    "**society_name([\"Phoebe\", \"Chandler\", \"Rachel\", \"Ross\", \"Monica\", \"Joey\"])**"
   ]
  },
  {
   "cell_type": "markdown",
   "id": "d514673a",
   "metadata": {},
   "source": [
    "**Solution:**"
   ]
  },
  {
   "cell_type": "code",
   "execution_count": 21,
   "id": "6be696e0",
   "metadata": {},
   "outputs": [],
   "source": [
    "def society_name(names):\n",
    "    # Extract the first letter of each name, sort them, and join into a single string\n",
    "    secret_name = ''.join(sorted([name[0] for name in names]))\n",
    "    return secret_name"
   ]
  },
  {
   "cell_type": "code",
   "execution_count": 22,
   "id": "839a9965",
   "metadata": {},
   "outputs": [
    {
     "data": {
      "text/plain": [
       "'AMS'"
      ]
     },
     "execution_count": 22,
     "metadata": {},
     "output_type": "execute_result"
    }
   ],
   "source": [
    "society_name([\"Adam\", \"Sarah\", \"Malcolm\"])"
   ]
  },
  {
   "cell_type": "code",
   "execution_count": 23,
   "id": "c84bbf8a",
   "metadata": {},
   "outputs": [
    {
     "data": {
      "text/plain": [
       "'CHLN'"
      ]
     },
     "execution_count": 23,
     "metadata": {},
     "output_type": "execute_result"
    }
   ],
   "source": [
    "society_name([\"Harry\", \"Newt\", \"Luna\", \"Cho\"])"
   ]
  },
  {
   "cell_type": "code",
   "execution_count": 24,
   "id": "52f0c360",
   "metadata": {},
   "outputs": [
    {
     "data": {
      "text/plain": [
       "'CJMPRR'"
      ]
     },
     "execution_count": 24,
     "metadata": {},
     "output_type": "execute_result"
    }
   ],
   "source": [
    "society_name([\"Phoebe\", \"Chandler\", \"Rachel\", \"Ross\", \"Monica\", \"Joey\"])"
   ]
  },
  {
   "cell_type": "markdown",
   "id": "1aa421a1",
   "metadata": {},
   "source": [
    "**Question4**\n",
    "\n",
    "**An isogram is a word that has no duplicate letters. Create a function that takes a string and returns either True or False depending on whether or not it's an \"isogram\".**\n",
    "\n",
    "**Examples**\n",
    "\n",
    "**is_isogram(\"Algorism\") ➞ True**\n",
    "\n",
    "**is_isogram(\"PasSword\") ➞ False**\n",
    "\n",
    "**- Not case sensitive.**\n",
    "\n",
    "**is_isogram(\"Consecutive\") ➞ False**\n",
    "\n",
    "**Notes**\n",
    "\n",
    "**Ignore letter case (should not be case sensitive).**\n",
    "\n",
    "**All test cases contain valid one word strings.**"
   ]
  },
  {
   "cell_type": "markdown",
   "id": "7d3f387a",
   "metadata": {},
   "source": [
    "**Solution:**"
   ]
  },
  {
   "cell_type": "code",
   "execution_count": 25,
   "id": "64f7c4e2",
   "metadata": {},
   "outputs": [],
   "source": [
    "def is_isogram(word):\n",
    "   \n",
    "    word = word.lower()\n",
    "    \n",
    "    # Create a set to store unique letters in the word\n",
    "    unique_letters = set()\n",
    "    \n",
    "\n",
    "    for letter in word:\n",
    "        # If the letter is already in the set, it's not an isogram\n",
    "        if letter in unique_letters:\n",
    "            return False\n",
    "        # Otherwise, add it to the set\n",
    "        unique_letters.add(letter)\n",
    "    \n",
    "    return True\n"
   ]
  },
  {
   "cell_type": "code",
   "execution_count": 26,
   "id": "340a85c8",
   "metadata": {},
   "outputs": [
    {
     "data": {
      "text/plain": [
       "True"
      ]
     },
     "execution_count": 26,
     "metadata": {},
     "output_type": "execute_result"
    }
   ],
   "source": [
    "is_isogram(\"Algorism\")"
   ]
  },
  {
   "cell_type": "code",
   "execution_count": 27,
   "id": "2e49849f",
   "metadata": {},
   "outputs": [
    {
     "data": {
      "text/plain": [
       "False"
      ]
     },
     "execution_count": 27,
     "metadata": {},
     "output_type": "execute_result"
    }
   ],
   "source": [
    "is_isogram(\"PasSword\") "
   ]
  },
  {
   "cell_type": "code",
   "execution_count": 28,
   "id": "8bfb2835",
   "metadata": {},
   "outputs": [
    {
     "data": {
      "text/plain": [
       "False"
      ]
     },
     "execution_count": 28,
     "metadata": {},
     "output_type": "execute_result"
    }
   ],
   "source": [
    "is_isogram(\"Consecutive\")"
   ]
  },
  {
   "cell_type": "markdown",
   "id": "b88a0ad9",
   "metadata": {},
   "source": [
    "**Question5**\n",
    "\n",
    "**Create a function that takes a string and returns True or False, depending on whether the characters are in order or not.**\n",
    "\n",
    "**Examples**\n",
    "\n",
    "**is_in_order(\"abc\") ➞ True**\n",
    "\n",
    "**is_in_order(\"edabit\") ➞ False**\n",
    "\n",
    "**is_in_order(\"123\") ➞ True**\n",
    "\n",
    "**is_in_order(\"xyzz\") ➞ True**\n",
    "\n",
    "**Notes**\n",
    "\n",
    "**You don't have to handle empty strings.**"
   ]
  },
  {
   "cell_type": "markdown",
   "id": "ea8e3196",
   "metadata": {},
   "source": [
    "**Solution:**"
   ]
  },
  {
   "cell_type": "code",
   "execution_count": 29,
   "id": "5f9c1a23",
   "metadata": {},
   "outputs": [],
   "source": [
    "def is_in_order(s):\n",
    "    \n",
    "    return s == ''.join(sorted(s))\n"
   ]
  },
  {
   "cell_type": "code",
   "execution_count": 30,
   "id": "50a6d7c3",
   "metadata": {},
   "outputs": [
    {
     "data": {
      "text/plain": [
       "True"
      ]
     },
     "execution_count": 30,
     "metadata": {},
     "output_type": "execute_result"
    }
   ],
   "source": [
    "is_in_order(\"abc\") "
   ]
  },
  {
   "cell_type": "code",
   "execution_count": 31,
   "id": "afa0f04c",
   "metadata": {},
   "outputs": [
    {
     "data": {
      "text/plain": [
       "False"
      ]
     },
     "execution_count": 31,
     "metadata": {},
     "output_type": "execute_result"
    }
   ],
   "source": [
    "is_in_order(\"edabit\") "
   ]
  },
  {
   "cell_type": "code",
   "execution_count": 32,
   "id": "a96ee72f",
   "metadata": {},
   "outputs": [
    {
     "data": {
      "text/plain": [
       "True"
      ]
     },
     "execution_count": 32,
     "metadata": {},
     "output_type": "execute_result"
    }
   ],
   "source": [
    "is_in_order(\"123\")"
   ]
  },
  {
   "cell_type": "code",
   "execution_count": 34,
   "id": "669cabf7",
   "metadata": {},
   "outputs": [
    {
     "data": {
      "text/plain": [
       "True"
      ]
     },
     "execution_count": 34,
     "metadata": {},
     "output_type": "execute_result"
    }
   ],
   "source": [
    "is_in_order(\"xyzz\")"
   ]
  },
  {
   "cell_type": "code",
   "execution_count": null,
   "id": "3f61eee5",
   "metadata": {},
   "outputs": [],
   "source": []
  }
 ],
 "metadata": {
  "kernelspec": {
   "display_name": "Python 3 (ipykernel)",
   "language": "python",
   "name": "python3"
  },
  "language_info": {
   "codemirror_mode": {
    "name": "ipython",
    "version": 3
   },
   "file_extension": ".py",
   "mimetype": "text/x-python",
   "name": "python",
   "nbconvert_exporter": "python",
   "pygments_lexer": "ipython3",
   "version": "3.9.7"
  }
 },
 "nbformat": 4,
 "nbformat_minor": 5
}
