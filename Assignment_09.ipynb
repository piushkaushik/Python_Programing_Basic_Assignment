{
 "cells": [
  {
   "cell_type": "markdown",
   "id": "b82bfa6c",
   "metadata": {},
   "source": [
    "# 1. Write a Python program to check if the given number is a Disarium Number?"
   ]
  },
  {
   "cell_type": "markdown",
   "id": "80b6bc7a",
   "metadata": {},
   "source": [
    "**A Disarium number is a number that is equal to the sum of its digits each raised to the power of its respective position. For example, 89 is a Disarium number because 8^1 + 9^2 = 8 + 81 = 89.**"
   ]
  },
  {
   "cell_type": "code",
   "execution_count": 18,
   "id": "1bd16a86",
   "metadata": {},
   "outputs": [
    {
     "name": "stdout",
     "output_type": "stream",
     "text": [
      "Enter a number: 89\n",
      "89 is a Disarium number.\n"
     ]
    }
   ],
   "source": [
    "def is_disarium(number):\n",
    "    # Convert the number to a string to iterate over its digits\n",
    "    num_str = str(number)\n",
    "    \n",
    "    # Calculate the sum of digits raised to their respective positions\n",
    "    digit_sum = sum(int(i) ** (index + 1) for index, i in enumerate(num_str))\n",
    "    \n",
    "    # Check if the sum is equal to the original number\n",
    "    return digit_sum == number\n",
    "\n",
    "# Input a number from the user\n",
    "try:\n",
    "    num = int(input(\"Enter a number: \"))\n",
    "    \n",
    "    # Check if it's a Disarium number\n",
    "    if is_disarium(num):\n",
    "        print(f\"{num} is a Disarium number.\")\n",
    "    else:\n",
    "        print(f\"{num} is not a Disarium number.\")\n",
    "except ValueError:\n",
    "    print(\"Invalid input. Please enter a valid number.\")\n"
   ]
  },
  {
   "cell_type": "markdown",
   "id": "cb91fde8",
   "metadata": {},
   "source": [
    "# 2. Write a Python program to print all disarium numbers between 1 to 100?"
   ]
  },
  {
   "cell_type": "code",
   "execution_count": 17,
   "id": "65b7a3f6",
   "metadata": {},
   "outputs": [
    {
     "name": "stdout",
     "output_type": "stream",
     "text": [
      "Disarium numbers between 1 and 100:\n",
      "1 | 2 | 3 | 4 | 5 | 6 | 7 | 8 | 9 | 89 | "
     ]
    }
   ],
   "source": [
    "def is_disarium(num):\n",
    "    num_str = str(num)\n",
    "    digit_sum = sum(int(i) ** (index + 1) for index, i in enumerate(num_str))\n",
    "    return num == digit_sum\n",
    "\n",
    "disarium_numbers = [num for num in range(1, 101) if is_disarium(num)]\n",
    "\n",
    "print(\"Disarium numbers between 1 and 100:\")\n",
    "for num in disarium_numbers:\n",
    "    print(num, end=\" | \")"
   ]
  },
  {
   "cell_type": "markdown",
   "id": "8d020a7f",
   "metadata": {},
   "source": [
    "# 3. Write a Python program to check if the given number is Happy Number?"
   ]
  },
  {
   "cell_type": "markdown",
   "id": "eb757de0",
   "metadata": {},
   "source": [
    "**Happy Number:**\n",
    "A Happy Number is a positive integer that, when you repeatedly replace the number by the sum of the squares of its digits and continue the process, eventually reaches 1. If the process never reaches 1 but instead loops endlessly in a cycle, the number is not a Happy Number.\n",
    "\n",
    "For example:\n",
    "\n",
    "19 is a Happy Number because:\n",
    "\n",
    "*1^2 + 9^2 = 82*\n",
    "\n",
    "*8^2 + 2^2 = 68*\n",
    "\n",
    "*6^2 + 8^2 = 100*\n",
    "\n",
    "*1^2 + 0^2 + 0^2 = 1*\n",
    "\n",
    "The process reaches 1, so 19 is a Happy Number."
   ]
  },
  {
   "cell_type": "code",
   "execution_count": 16,
   "id": "a375cc66",
   "metadata": {},
   "outputs": [
    {
     "name": "stdout",
     "output_type": "stream",
     "text": [
      "Enter a number: 23\n",
      "23 is a Happy Number\n"
     ]
    }
   ],
   "source": [
    "def is_happy_number(num):\n",
    "    seen = set()  # To store previously seen numbers\n",
    "    \n",
    "    while num != 1 and num not in seen:\n",
    "        seen.add(num)\n",
    "        num = sum(int(i) ** 2 for i in str(num))\n",
    "    \n",
    "    return num == 1\n",
    "\n",
    "# Test the function with a number\n",
    "num = int(input(\"Enter a number: \"))\n",
    "if is_happy_number(num):\n",
    "    print(f\"{num} is a Happy Number\")\n",
    "else:\n",
    "    print(f\"{num} is not a Happy Number\")\n"
   ]
  },
  {
   "cell_type": "markdown",
   "id": "a004d7f5",
   "metadata": {},
   "source": [
    "# 4. Write a Python program to print all happy numbers between 1 and 100?"
   ]
  },
  {
   "cell_type": "code",
   "execution_count": 19,
   "id": "772dbf35",
   "metadata": {},
   "outputs": [
    {
     "name": "stdout",
     "output_type": "stream",
     "text": [
      "Happy Numbers between 1 and 100:\n",
      "[1, 7, 10, 13, 19, 23, 28, 31, 32, 44, 49, 68, 70, 79, 82, 86, 91, 94, 97, 100]\n"
     ]
    }
   ],
   "source": [
    "def is_happy_number(num):\n",
    "    seen = set()\n",
    "    \n",
    "    while num != 1 and num not in seen:\n",
    "        seen.add(num)\n",
    "        num = sum(int(i) ** 2 for i in str(num))\n",
    "    \n",
    "    return num == 1\n",
    "\n",
    "happy_numbers = []\n",
    "\n",
    "for num in range(1, 101):\n",
    "    if is_happy_number(num):\n",
    "        happy_numbers.append(num)\n",
    "\n",
    "print(\"Happy Numbers between 1 and 100:\")\n",
    "print(happy_numbers)\n"
   ]
  },
  {
   "cell_type": "markdown",
   "id": "2b378199",
   "metadata": {},
   "source": [
    "# 5. Write a Python program to determine whether the given number is a Harshad Number?"
   ]
  },
  {
   "cell_type": "markdown",
   "id": "3b63fa04",
   "metadata": {},
   "source": [
    "A Harshad number (or Niven number) is an integer that is divisible by the sum of its digits. In other words, a number is considered a Harshad number if it can be evenly divided by the sum of its own digits.\n",
    "\n",
    "For example:\n",
    "\n",
    "- 18 is a Harshad number because 1 + 8 = 9, and 18 is divisible by 9\n",
    "\n",
    "- 42 is not a Harshad number because 4 + 2 = 6, and 42 is not divisible by 6."
   ]
  },
  {
   "cell_type": "code",
   "execution_count": 20,
   "id": "97d9f1e1",
   "metadata": {},
   "outputs": [
    {
     "name": "stdout",
     "output_type": "stream",
     "text": [
      "Enter a number: 18\n",
      "18 is a Harshad Number.\n"
     ]
    }
   ],
   "source": [
    "def is_harshad_number(num):\n",
    "    # Calculate the sum of the digits of the number\n",
    "    digit_sum = sum(int(i) for i in str(num))\n",
    "\n",
    "    # Check if the number is divisible by the sum of its digits\n",
    "    return num % digit_sum == 0\n",
    "\n",
    "# Input a number\n",
    "num = int(input(\"Enter a number: \"))\n",
    "\n",
    "# Check if it's a Harshad Number\n",
    "if is_harshad_number(num):\n",
    "    print(f\"{num} is a Harshad Number.\")\n",
    "else:\n",
    "    print(f\"{num} is not a Harshad Number.\")"
   ]
  },
  {
   "cell_type": "markdown",
   "id": "674ae347",
   "metadata": {},
   "source": [
    "# 6. Write a Python program to print all pronic numbers between 1 and 100?"
   ]
  },
  {
   "cell_type": "markdown",
   "id": "1d72f6a1",
   "metadata": {},
   "source": [
    "A pronic number, also known as an oblong number or rectangular number, is a type of figurate number that represents a rectangle. It is the product of two consecutive integers, n and (n + 1). Mathematically, a pronic number can be expressed as:\n",
    "\n",
    "`P_n = n*(n + 1)`\n",
    "\n",
    "For example, the first few pronic numbers are:\n",
    "\n",
    "- P_1 = 1*(1 + 1) = 2\n",
    "- P_2 = 2*(2 + 1) = 6\n",
    "- P_3 = 3*(3 + 1) = 12\n",
    "- P_4 = 4*(4 + 1) = 20"
   ]
  },
  {
   "cell_type": "code",
   "execution_count": 23,
   "id": "15c5ae93",
   "metadata": {},
   "outputs": [
    {
     "name": "stdout",
     "output_type": "stream",
     "text": [
      "Pronic numbers between 1 and 100 are:\n",
      "2 | 6 | 12 | 20 | 30 | 42 | 56 | 72 | 90 | "
     ]
    }
   ],
   "source": [
    "def is_pronic_number(num):\n",
    "    for n in range(1, int(num**0.5) + 1):\n",
    "        if n * (n + 1) == num:\n",
    "            return True\n",
    "    return False\n",
    "\n",
    "print(\"Pronic numbers between 1 and 100 are:\")\n",
    "for i in range(1, 101):\n",
    "    if is_pronic_number(i):\n",
    "        print(i, end=\" | \")\n"
   ]
  }
 ],
 "metadata": {
  "kernelspec": {
   "display_name": "Python 3 (ipykernel)",
   "language": "python",
   "name": "python3"
  },
  "language_info": {
   "codemirror_mode": {
    "name": "ipython",
    "version": 3
   },
   "file_extension": ".py",
   "mimetype": "text/x-python",
   "name": "python",
   "nbconvert_exporter": "python",
   "pygments_lexer": "ipython3",
   "version": "3.9.7"
  }
 },
 "nbformat": 4,
 "nbformat_minor": 5
}
