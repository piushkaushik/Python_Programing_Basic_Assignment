{
 "cells": [
  {
   "cell_type": "markdown",
   "id": "ccd1bcf9",
   "metadata": {},
   "source": [
    "**Question1.**\n",
    "\n",
    "**Create a function that takes three arguments a, b, c and returns the sum of the numbers that are evenly divided by c from the range a, b inclusive.**\n",
    "\n",
    "**Examples**\n",
    "\n",
    "**evenly_divisible(1, 10, 20) ➞ 0**\n",
    "\n",
    "**`# No number between 1 and 10 can be evenly divided by 20.`**\n",
    "\n",
    "**evenly_divisible(1, 10, 2) ➞ 30**\n",
    "\n",
    "**`# 2 + 4 + 6 + 8 + 10 = 30`**\n",
    "\n",
    "**evenly_divisible(1, 10, 3) ➞ 18**\n",
    "\n",
    "**`# 3 + 6 + 9 = 18`**"
   ]
  },
  {
   "cell_type": "markdown",
   "id": "0bbd4d40",
   "metadata": {},
   "source": [
    "**Solution:**"
   ]
  },
  {
   "cell_type": "code",
   "execution_count": 1,
   "id": "c5cd88e2",
   "metadata": {},
   "outputs": [],
   "source": [
    "def evenly_divisible(a, b, c):\n",
    "    total = 0\n",
    "    for num in range(a, b + 1):\n",
    "        if num % c == 0:\n",
    "            total += num\n",
    "    return total"
   ]
  },
  {
   "cell_type": "code",
   "execution_count": 3,
   "id": "3a1ae6e5",
   "metadata": {},
   "outputs": [
    {
     "name": "stdout",
     "output_type": "stream",
     "text": [
      "0\n",
      "30\n",
      "18\n"
     ]
    }
   ],
   "source": [
    "print(evenly_divisible(1, 10, 20))\n",
    "print(evenly_divisible(1, 10, 2))\n",
    "print(evenly_divisible(1, 10, 3))"
   ]
  },
  {
   "cell_type": "markdown",
   "id": "f7d88812",
   "metadata": {},
   "source": [
    "**Question2.**\n",
    "\n",
    "**Create a function that returns True if a given inequality expression is correct and False otherwise.**\n",
    "\n",
    "**Examples**\n",
    "\n",
    "**correct_signs(\"3 < 7 < 11\") ➞ True**\n",
    "\n",
    "**correct_signs(\"13 > 44 > 33 <1\") ➞ False**\n",
    "\n",
    "**correct_signs(\"1 < 2 < 6 < 9 > 3\") ➞ True**"
   ]
  },
  {
   "cell_type": "markdown",
   "id": "a786dfa1",
   "metadata": {},
   "source": [
    "**Solution:**"
   ]
  },
  {
   "cell_type": "code",
   "execution_count": 5,
   "id": "3dcb17cf",
   "metadata": {},
   "outputs": [],
   "source": [
    "def correct_signs(expression):\n",
    "    try:\n",
    "        return eval(expression)\n",
    "    except:\n",
    "        return False"
   ]
  },
  {
   "cell_type": "code",
   "execution_count": 6,
   "id": "778dae0c",
   "metadata": {},
   "outputs": [
    {
     "name": "stdout",
     "output_type": "stream",
     "text": [
      "True\n",
      "False\n",
      "True\n"
     ]
    }
   ],
   "source": [
    "print(correct_signs(\"3 < 7 < 11\"))\n",
    "print(correct_signs(\"13 > 44 > 33 < 1\"))\n",
    "print(correct_signs(\"1 < 2 < 6 < 9 > 3\"))"
   ]
  },
  {
   "cell_type": "markdown",
   "id": "1dc8b4d6",
   "metadata": {},
   "source": [
    "**Question3.**\n",
    "\n",
    "**Create a function that replaces all the vowels in a string with a specified character.**\n",
    "\n",
    "**Examples**\n",
    "\n",
    "**replace_vowels(\"the aardvark\", \"#\") ➞ \"th# ##rdv#rk\"**\n",
    "\n",
    "**replace_vowels(\"minnie mouse\", \"?\") ➞ \"m?nn?? m??s?\"**\n",
    "\n",
    "**replace_vowels(\"shakespeare\", \"*\") ➞ &quot;sh*k*sp**r*&quot;"
   ]
  },
  {
   "cell_type": "markdown",
   "id": "ab921fd1",
   "metadata": {},
   "source": [
    "**Solution:**"
   ]
  },
  {
   "cell_type": "code",
   "execution_count": 7,
   "id": "eab7b6df",
   "metadata": {},
   "outputs": [],
   "source": [
    "def replace_vowels(string, char):\n",
    "    vowels = \"AEIOUaeiou\"  # List of vowels to be replaced\n",
    "    for vowel in vowels:\n",
    "        string = string.replace(vowel, char)  # Replace each vowel with the specified character\n",
    "    return string"
   ]
  },
  {
   "cell_type": "code",
   "execution_count": 8,
   "id": "b56a5f6c",
   "metadata": {},
   "outputs": [
    {
     "name": "stdout",
     "output_type": "stream",
     "text": [
      "th# ##rdv#rk\n",
      "m?nn?? m??s?\n",
      "sh*k*sp**r*\n"
     ]
    }
   ],
   "source": [
    "print(replace_vowels(\"the aardvark\", \"#\"))\n",
    "print(replace_vowels(\"minnie mouse\", \"?\"))\n",
    "print(replace_vowels(\"shakespeare\", \"*\"))"
   ]
  },
  {
   "cell_type": "markdown",
   "id": "3cce8f6c",
   "metadata": {},
   "source": [
    "**Question4.**\n",
    "\n",
    "**Write a function that calculates the factorial of a number recursively.**\n",
    "\n",
    "**Examples**\n",
    "\n",
    "**factorial(5) ➞ 120**\n",
    "\n",
    "**factorial(3) ➞ 6**\n",
    "\n",
    "**factorial(1) ➞ 1**\n",
    "\n",
    "**factorial(0) ➞ 1**"
   ]
  },
  {
   "cell_type": "markdown",
   "id": "332d51ed",
   "metadata": {},
   "source": [
    "**Solution:**"
   ]
  },
  {
   "cell_type": "code",
   "execution_count": 10,
   "id": "932c4408",
   "metadata": {},
   "outputs": [],
   "source": [
    "def factorial(n):\n",
    "    if n == 0:\n",
    "        return 1  # Base case: factorial of 0 is 1\n",
    "    else:\n",
    "        return n * factorial(n - 1)  # Recursive case: n! = n * (n-1)!"
   ]
  },
  {
   "cell_type": "code",
   "execution_count": 11,
   "id": "411417b6",
   "metadata": {},
   "outputs": [
    {
     "name": "stdout",
     "output_type": "stream",
     "text": [
      "120\n",
      "6\n",
      "1\n",
      "1\n"
     ]
    }
   ],
   "source": [
    "print(factorial(5))\n",
    "print(factorial(3))\n",
    "print(factorial(1))  \n",
    "print(factorial(0))"
   ]
  },
  {
   "cell_type": "markdown",
   "id": "67deaf5e",
   "metadata": {},
   "source": [
    "**Question 5**\n",
    "\n",
    "**Hamming distance is the number of characters that differ between two strings.**\n",
    "\n",
    "**To illustrate:**\n",
    "    \n",
    "**String1: \"abcbba\"**\n",
    "    \n",
    "**String2: \"abcbda\"**\n",
    "    \n",
    "**Hamming Distance: 1 - \"b\" vs. \"d\" is the only difference.**\n",
    "    \n",
    "**Create a function that computes the hamming distance between two strings.**\n",
    "\n",
    "**Examples**\n",
    "\n",
    "**hamming_distance(\"abcde\", \"bcdef\") ➞ 5**\n",
    "\n",
    "**hamming_distance(\"abcde\", \"abcde\") ➞ 0**\n",
    "\n",
    "**hamming_distance(\"strong\", \"strung\") ➞ 1**"
   ]
  },
  {
   "cell_type": "markdown",
   "id": "ab4b9f15",
   "metadata": {},
   "source": [
    "**Solution:**"
   ]
  },
  {
   "cell_type": "code",
   "execution_count": 13,
   "id": "71e22b15",
   "metadata": {},
   "outputs": [],
   "source": [
    "def hamming_distance(str1, str2):\n",
    "    # Check if the strings have the same length\n",
    "    if len(str1) != len(str2):\n",
    "        raise ValueError(\"Input strings must have the same length\")\n",
    "\n",
    "    # Initialize a counter to keep track of differences\n",
    "    distance = 0\n",
    "\n",
    "    # Iterate through the characters of both strings\n",
    "    for i in range(len(str1)):\n",
    "        if str1[i] != str2[i]:\n",
    "            distance += 1  # Increment the counter for differences\n",
    "\n",
    "    return distance"
   ]
  },
  {
   "cell_type": "code",
   "execution_count": 19,
   "id": "02337fd9",
   "metadata": {},
   "outputs": [
    {
     "name": "stdout",
     "output_type": "stream",
     "text": [
      "5\n",
      "0\n",
      "1\n"
     ]
    }
   ],
   "source": [
    "print(hamming_distance(\"abcde\", \"bcdef\"))\n",
    "print(hamming_distance(\"abcde\", \"abcde\"))\n",
    "print(hamming_distance(\"strong\", \"strung\"))"
   ]
  },
  {
   "cell_type": "code",
   "execution_count": null,
   "id": "db0c546b",
   "metadata": {},
   "outputs": [],
   "source": []
  }
 ],
 "metadata": {
  "kernelspec": {
   "display_name": "Python 3 (ipykernel)",
   "language": "python",
   "name": "python3"
  },
  "language_info": {
   "codemirror_mode": {
    "name": "ipython",
    "version": 3
   },
   "file_extension": ".py",
   "mimetype": "text/x-python",
   "name": "python",
   "nbconvert_exporter": "python",
   "pygments_lexer": "ipython3",
   "version": "3.9.7"
  }
 },
 "nbformat": 4,
 "nbformat_minor": 5
}
