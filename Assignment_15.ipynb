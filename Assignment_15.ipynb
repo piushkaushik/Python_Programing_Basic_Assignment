{
 "cells": [
  {
   "cell_type": "markdown",
   "id": "e48ea123",
   "metadata": {},
   "source": [
    "**Question 1:**\n",
    "\n",
    "**Please write a program using generator to print the numbers which can be divisible by 5 and 7 between 0 and n in comma separated form while n is input by console.**\n",
    "\n",
    "**Example:**\n",
    "\n",
    "**If the following n is given as input to the program:**\n",
    "\n",
    "**100**\n",
    "\n",
    "**Then, the output of the program should be:**\n",
    "\n",
    "**0,35,70**"
   ]
  },
  {
   "cell_type": "markdown",
   "id": "ab7d7816",
   "metadata": {},
   "source": [
    "**Solution:**"
   ]
  },
  {
   "cell_type": "code",
   "execution_count": 1,
   "id": "cdc4739f",
   "metadata": {},
   "outputs": [],
   "source": [
    "def divisible_by_5_and_7(n):\n",
    "    for num in range(n + 1):\n",
    "        if num % 5 == 0 and num % 7 == 0:\n",
    "            yield num"
   ]
  },
  {
   "cell_type": "code",
   "execution_count": 3,
   "id": "de511a9b",
   "metadata": {},
   "outputs": [
    {
     "name": "stdout",
     "output_type": "stream",
     "text": [
      "Enter a value for n: 100\n",
      "0,35,70\n"
     ]
    }
   ],
   "source": [
    "try:\n",
    "    n = int(input(\"Enter a value for n: \"))\n",
    "    result = divisible_by_5_and_7(n)\n",
    "    print(','.join(map(str, result)))\n",
    "except ValueError:\n",
    "    print(\"Invalid input. Please enter a valid integer for n.\")"
   ]
  },
  {
   "cell_type": "markdown",
   "id": "b8f3c47a",
   "metadata": {},
   "source": [
    "**Question 2:**\n",
    "    \n",
    "**Please write a program using generator to print the even numbers between 0 and n in comma separated form while n is input by console.**\n",
    "\n",
    "**Example:**\n",
    "\n",
    "**If the following n is given as input to the program:**\n",
    "\n",
    "**10**\n",
    "\n",
    "**Then, the output of the program should be:**\n",
    "\n",
    "**0,2,4,6,8,10**"
   ]
  },
  {
   "cell_type": "markdown",
   "id": "ef36cff6",
   "metadata": {},
   "source": [
    "**Solution:**"
   ]
  },
  {
   "cell_type": "code",
   "execution_count": 6,
   "id": "b1345330",
   "metadata": {},
   "outputs": [],
   "source": [
    "def even_numbers(n):\n",
    "    for num in range(n + 1):\n",
    "        if num % 2 == 0:\n",
    "            yield num"
   ]
  },
  {
   "cell_type": "code",
   "execution_count": 7,
   "id": "7f07792d",
   "metadata": {},
   "outputs": [
    {
     "name": "stdout",
     "output_type": "stream",
     "text": [
      "Enter a value for n: 10\n",
      "0,2,4,6,8,10\n"
     ]
    }
   ],
   "source": [
    "try:\n",
    "    n = int(input(\"Enter a value for n: \"))\n",
    "    result = even_numbers(n)\n",
    "    print(','.join(map(str, result)))\n",
    "except ValueError:\n",
    "    print(\"Invalid input. Please enter a valid integer for n.\")"
   ]
  },
  {
   "cell_type": "markdown",
   "id": "69382e1e",
   "metadata": {},
   "source": [
    "**Question 3:**\n",
    "\n",
    "**The Fibonacci Sequence is computed based on the following formula:**\n",
    "\n",
    "**`f(n)=0 if n=0`**\n",
    "\n",
    "**`f(n)=1 if n=1`**\n",
    "\n",
    "**`f(n)=f(n-1)+f(n-2) if n>1`**\n",
    "\n",
    "**Please write a program using list comprehension to print the Fibonacci Sequence in comma separated form with a given n input by console.**\n",
    "\n",
    "**Example:**\n",
    "\n",
    "**If the following n is given as input to the program:**\n",
    "\n",
    "**8**\n",
    "\n",
    "**Then, the output of the program should be:**\n",
    "\n",
    "**0,1,1,2,3,5,8,13**"
   ]
  },
  {
   "cell_type": "markdown",
   "id": "f53ae710",
   "metadata": {},
   "source": [
    "**Solution:**"
   ]
  },
  {
   "cell_type": "code",
   "execution_count": 8,
   "id": "424e10f9",
   "metadata": {},
   "outputs": [],
   "source": [
    "def fibonacci(n):\n",
    "    sequence = [0, 1]  # Initializing the sequence with the first two Fibonacci numbers\n",
    "    [sequence.append(sequence[-1] + sequence[-2]) for _ in range(2, n)]\n",
    "    return sequence"
   ]
  },
  {
   "cell_type": "code",
   "execution_count": 10,
   "id": "d6125bb5",
   "metadata": {},
   "outputs": [
    {
     "name": "stdout",
     "output_type": "stream",
     "text": [
      "Enter a value for n: 8\n",
      "0,1,1,2,3,5,8,13\n"
     ]
    }
   ],
   "source": [
    "try:\n",
    "    n = int(input(\"Enter a value for n: \"))\n",
    "    result = fibonacci(n)\n",
    "    print(','.join(map(str, result)))\n",
    "except ValueError:\n",
    "    print(\"Invalid input. Please enter a valid integer for n.\")"
   ]
  },
  {
   "cell_type": "markdown",
   "id": "000456de",
   "metadata": {},
   "source": [
    "**Question 4:**\n",
    "\n",
    "**Assuming that we have some email addresses in the \"username@companyname.com\" format, please write program to print the user name of a given email address. Both user names and\n",
    "company names are composed of letters only.**\n",
    "\n",
    "**Example:**\n",
    "    \n",
    "**If the following email address is given as input to the program:**\n",
    "    \n",
    "**john@google.com**\n",
    "\n",
    "**Then, the output of the program should be:**\n",
    "    \n",
    "**john**"
   ]
  },
  {
   "cell_type": "markdown",
   "id": "55d1cbf0",
   "metadata": {},
   "source": [
    "**Solution:**"
   ]
  },
  {
   "cell_type": "code",
   "execution_count": 11,
   "id": "0a47c61a",
   "metadata": {},
   "outputs": [],
   "source": [
    "def extract_username(email):\n",
    "    # Split the email address at '@' to separate the username and domain\n",
    "    parts = email.split('@')\n",
    "    \n",
    "    # Check if the email address has the expected format\n",
    "    if len(parts) == 2:\n",
    "        return parts[0]  # The username is the first part\n",
    "    else:\n",
    "        return \"Invalid email format\""
   ]
  },
  {
   "cell_type": "code",
   "execution_count": 15,
   "id": "dd17c994",
   "metadata": {},
   "outputs": [
    {
     "name": "stdout",
     "output_type": "stream",
     "text": [
      "Enter an email address: john@google.com\n",
      "john\n"
     ]
    }
   ],
   "source": [
    "try:\n",
    "    email = input(\"Enter an email address: \")\n",
    "    username = extract_username(email)\n",
    "    print(username)\n",
    "except ValueError:\n",
    "    print(\"Invalid input. Please enter a valid email address.\")"
   ]
  },
  {
   "cell_type": "markdown",
   "id": "a6388257",
   "metadata": {},
   "source": [
    "**Question 5:**\n",
    "\n",
    "**Define a class named Shape and its subclass Square. The Square class has an init function which takes a length as argument. Both classes have an area function which can print the area\n",
    "of the shape where Shape's area is 0 by default.**"
   ]
  },
  {
   "cell_type": "markdown",
   "id": "f2931fbe",
   "metadata": {},
   "source": [
    "**Solution:**"
   ]
  },
  {
   "cell_type": "code",
   "execution_count": 18,
   "id": "836ba947",
   "metadata": {},
   "outputs": [],
   "source": [
    "class Shape:\n",
    "    def __init__(self):\n",
    "        pass  # Default constructor, no need to initialize anything\n",
    "\n",
    "    def area(self):\n",
    "        return 0  # Shape's area is 0 by default\n",
    "\n",
    "\n",
    "class Square(Shape):\n",
    "    def __init__(self, length):\n",
    "        super().__init__()  # Call the constructor of the parent class\n",
    "        self.length = length\n",
    "\n",
    "    def area(self):\n",
    "        return self.length ** 2  # Calculate the area of the square\n"
   ]
  },
  {
   "cell_type": "code",
   "execution_count": 29,
   "id": "f516bcc1",
   "metadata": {},
   "outputs": [
    {
     "name": "stdout",
     "output_type": "stream",
     "text": [
      "Enter the shape of the square: 5\n",
      "Shape's area by default: 0\n",
      "Area of the square: 25.0\n"
     ]
    }
   ],
   "source": [
    "# Create instances of the classes\n",
    "shape = Shape()\n",
    "square = Square(float(input(\"Enter the shape of the square: \")))\n",
    "\n",
    "# Calculate and print the areas\n",
    "print(\"Shape's area by default:\", shape.area()) \n",
    "print(\"Area of the square:\", square.area()) "
   ]
  },
  {
   "cell_type": "code",
   "execution_count": null,
   "id": "c5121f82",
   "metadata": {},
   "outputs": [],
   "source": []
  },
  {
   "cell_type": "code",
   "execution_count": null,
   "id": "011d1344",
   "metadata": {},
   "outputs": [],
   "source": []
  }
 ],
 "metadata": {
  "kernelspec": {
   "display_name": "Python 3 (ipykernel)",
   "language": "python",
   "name": "python3"
  },
  "language_info": {
   "codemirror_mode": {
    "name": "ipython",
    "version": 3
   },
   "file_extension": ".py",
   "mimetype": "text/x-python",
   "name": "python",
   "nbconvert_exporter": "python",
   "pygments_lexer": "ipython3",
   "version": "3.9.7"
  }
 },
 "nbformat": 4,
 "nbformat_minor": 5
}
