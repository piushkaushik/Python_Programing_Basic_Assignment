{
 "cells": [
  {
   "cell_type": "markdown",
   "id": "2550bdf8",
   "metadata": {},
   "source": [
    "**Question 1**\n",
    "\n",
    "**Create a function that takes a number as an argument and returns True or False depending on whether the number is symmetrical or not. A number is symmetrical when it is the same as its reverse.**\n",
    "\n",
    "**Examples**\n",
    "\n",
    "**is_symmetrical(7227) ➞ True**\n",
    "\n",
    "**is_symmetrical(12567) ➞ False**\n",
    "\n",
    "**is_symmetrical(44444444) ➞ True**\n",
    "\n",
    "**is_symmetrical(9939) ➞ False**\n",
    "\n",
    "**is_symmetrical(1112111) ➞ True**"
   ]
  },
  {
   "cell_type": "markdown",
   "id": "70ddcfc3",
   "metadata": {},
   "source": [
    "**Solution:**"
   ]
  },
  {
   "cell_type": "code",
   "execution_count": 1,
   "id": "e19d5e16",
   "metadata": {},
   "outputs": [],
   "source": [
    "def is_symmetrical(num):\n",
    "    # Convert the number to a string\n",
    "    num_str = str(num)\n",
    "    \n",
    "    # Check if the string is equal to its reverse\n",
    "    return num_str == num_str[::-1]"
   ]
  },
  {
   "cell_type": "code",
   "execution_count": 2,
   "id": "b55140cd",
   "metadata": {},
   "outputs": [
    {
     "data": {
      "text/plain": [
       "True"
      ]
     },
     "execution_count": 2,
     "metadata": {},
     "output_type": "execute_result"
    }
   ],
   "source": [
    "is_symmetrical(7227)"
   ]
  },
  {
   "cell_type": "code",
   "execution_count": 3,
   "id": "2d6d528f",
   "metadata": {},
   "outputs": [
    {
     "data": {
      "text/plain": [
       "False"
      ]
     },
     "execution_count": 3,
     "metadata": {},
     "output_type": "execute_result"
    }
   ],
   "source": [
    "is_symmetrical(12567) "
   ]
  },
  {
   "cell_type": "code",
   "execution_count": 4,
   "id": "b00dbd80",
   "metadata": {},
   "outputs": [
    {
     "data": {
      "text/plain": [
       "True"
      ]
     },
     "execution_count": 4,
     "metadata": {},
     "output_type": "execute_result"
    }
   ],
   "source": [
    "is_symmetrical(44444444)"
   ]
  },
  {
   "cell_type": "code",
   "execution_count": 5,
   "id": "3fda44c3",
   "metadata": {},
   "outputs": [
    {
     "data": {
      "text/plain": [
       "True"
      ]
     },
     "execution_count": 5,
     "metadata": {},
     "output_type": "execute_result"
    }
   ],
   "source": [
    "is_symmetrical(44444444) "
   ]
  },
  {
   "cell_type": "code",
   "execution_count": 6,
   "id": "ac409c07",
   "metadata": {},
   "outputs": [
    {
     "data": {
      "text/plain": [
       "True"
      ]
     },
     "execution_count": 6,
     "metadata": {},
     "output_type": "execute_result"
    }
   ],
   "source": [
    "is_symmetrical(1112111)"
   ]
  },
  {
   "cell_type": "markdown",
   "id": "9f11ebec",
   "metadata": {},
   "source": [
    "**Question 2**\n",
    "\n",
    "**Given a string of numbers separated by a comma and space, return the product of the numbers.**\n",
    "\n",
    "**Examples**\n",
    "\n",
    "**multiply_nums(\"2, 3\") ➞ 6**\n",
    "\n",
    "**multiply_nums(\"1, 2, 3, 4\") ➞ 24**\n",
    "\n",
    "**multiply_nums(\"54, 75, 453, 0\") ➞ 0**\n",
    "\n",
    "**multiply_nums(\"10, -2\") ➞ -20**"
   ]
  },
  {
   "cell_type": "code",
   "execution_count": 7,
   "id": "3ce6797a",
   "metadata": {},
   "outputs": [],
   "source": [
    "def multiply_nums(nums_str):\n",
    "    # Split the input string by comma and space, then convert to integers\n",
    "    nums = [int(num) for num in nums_str.split(\", \")]\n",
    "    \n",
    "    # Initialize the result with 1\n",
    "    result = 1\n",
    "    \n",
    "    # Multiply all the numbers together\n",
    "    for num in nums:\n",
    "        result *= num\n",
    "    \n",
    "    return result"
   ]
  },
  {
   "cell_type": "code",
   "execution_count": 8,
   "id": "d2b7d129",
   "metadata": {},
   "outputs": [
    {
     "data": {
      "text/plain": [
       "6"
      ]
     },
     "execution_count": 8,
     "metadata": {},
     "output_type": "execute_result"
    }
   ],
   "source": [
    "multiply_nums(\"2, 3\") "
   ]
  },
  {
   "cell_type": "code",
   "execution_count": 9,
   "id": "26e306a2",
   "metadata": {},
   "outputs": [
    {
     "data": {
      "text/plain": [
       "24"
      ]
     },
     "execution_count": 9,
     "metadata": {},
     "output_type": "execute_result"
    }
   ],
   "source": [
    "multiply_nums(\"1, 2, 3, 4\")"
   ]
  },
  {
   "cell_type": "code",
   "execution_count": 10,
   "id": "ca9b688a",
   "metadata": {},
   "outputs": [
    {
     "data": {
      "text/plain": [
       "0"
      ]
     },
     "execution_count": 10,
     "metadata": {},
     "output_type": "execute_result"
    }
   ],
   "source": [
    "multiply_nums(\"54, 75, 453, 0\") "
   ]
  },
  {
   "cell_type": "code",
   "execution_count": 11,
   "id": "2960bdfb",
   "metadata": {},
   "outputs": [
    {
     "data": {
      "text/plain": [
       "-20"
      ]
     },
     "execution_count": 11,
     "metadata": {},
     "output_type": "execute_result"
    }
   ],
   "source": [
    "multiply_nums(\"10, -2\")"
   ]
  },
  {
   "cell_type": "markdown",
   "id": "5c5aac47",
   "metadata": {},
   "source": [
    "**Question 3**\n",
    "\n",
    "**Create a function that squares every digit of a number.**\n",
    "\n",
    "**Examples**\n",
    "\n",
    "**square_digits(9119) ➞ 811181**\n",
    "\n",
    "**square_digits(2483) ➞ 416649**\n",
    "\n",
    "**square_digits(3212) ➞ 9414**\n",
    "\n",
    "**Notes**\n",
    "\n",
    "**The function receives an integer and must return an integer.**"
   ]
  },
  {
   "cell_type": "markdown",
   "id": "f4d40468",
   "metadata": {},
   "source": [
    "**Solution**"
   ]
  },
  {
   "cell_type": "code",
   "execution_count": 12,
   "id": "db533c61",
   "metadata": {},
   "outputs": [],
   "source": [
    "def square_digits(n):\n",
    "    # Convert the number to a string to iterate through its digits\n",
    "    num_str = str(n)\n",
    "    \n",
    "    # Initialize an empty string to store the squared digits\n",
    "    result_str = \"\"\n",
    "    \n",
    "    # Iterate through the digits\n",
    "    for digit in num_str:\n",
    "        # Square the digit and convert it back to an integer\n",
    "        squared_digit = int(digit) ** 2\n",
    "        \n",
    "        # Append the squared digit to the result string\n",
    "        result_str += str(squared_digit)\n",
    "    \n",
    "   \n",
    "    return int(result_str)\n"
   ]
  },
  {
   "cell_type": "code",
   "execution_count": 13,
   "id": "fe1f7961",
   "metadata": {},
   "outputs": [
    {
     "data": {
      "text/plain": [
       "811181"
      ]
     },
     "execution_count": 13,
     "metadata": {},
     "output_type": "execute_result"
    }
   ],
   "source": [
    "square_digits(9119) "
   ]
  },
  {
   "cell_type": "code",
   "execution_count": 14,
   "id": "31a658ae",
   "metadata": {},
   "outputs": [
    {
     "data": {
      "text/plain": [
       "416649"
      ]
     },
     "execution_count": 14,
     "metadata": {},
     "output_type": "execute_result"
    }
   ],
   "source": [
    "square_digits(2483)"
   ]
  },
  {
   "cell_type": "code",
   "execution_count": 15,
   "id": "07136d27",
   "metadata": {},
   "outputs": [
    {
     "data": {
      "text/plain": [
       "9414"
      ]
     },
     "execution_count": 15,
     "metadata": {},
     "output_type": "execute_result"
    }
   ],
   "source": [
    "square_digits(3212) "
   ]
  },
  {
   "cell_type": "markdown",
   "id": "b48f3ca2",
   "metadata": {},
   "source": [
    "**Question 4**\n",
    "\n",
    "**Create a function that sorts a list and removes all duplicate items from it.**\n",
    "\n",
    "**Examples**\n",
    "\n",
    "**setify([1, 3, 3, 5, 5]) ➞ [1, 3, 5]**\n",
    "\n",
    "**setify([4, 4, 4, 4]) ➞ [4]**\n",
    "\n",
    "**setify([5, 7, 8, 9, 10, 15]) ➞ [5, 7, 8, 9, 10, 15]**\n",
    "\n",
    "**setify([3, 3, 3, 2, 1]) ➞ [1, 2, 3]**"
   ]
  },
  {
   "cell_type": "markdown",
   "id": "34a66514",
   "metadata": {},
   "source": [
    "**Solution:**"
   ]
  },
  {
   "cell_type": "code",
   "execution_count": 16,
   "id": "0081b011",
   "metadata": {},
   "outputs": [],
   "source": [
    "def setify(lst):\n",
    "\n",
    "    unique_set = set(sorted(lst))\n",
    "    \n",
    "    # Convert the set back to a list and return it\n",
    "    return list(unique_set)"
   ]
  },
  {
   "cell_type": "code",
   "execution_count": 17,
   "id": "b0567dec",
   "metadata": {},
   "outputs": [
    {
     "data": {
      "text/plain": [
       "[1, 3, 5]"
      ]
     },
     "execution_count": 17,
     "metadata": {},
     "output_type": "execute_result"
    }
   ],
   "source": [
    "setify([1, 3, 3, 5, 5]) "
   ]
  },
  {
   "cell_type": "code",
   "execution_count": 18,
   "id": "5a3b88ed",
   "metadata": {},
   "outputs": [
    {
     "data": {
      "text/plain": [
       "[4]"
      ]
     },
     "execution_count": 18,
     "metadata": {},
     "output_type": "execute_result"
    }
   ],
   "source": [
    "setify([4, 4, 4, 4]) "
   ]
  },
  {
   "cell_type": "code",
   "execution_count": 19,
   "id": "1ec85df5",
   "metadata": {},
   "outputs": [
    {
     "data": {
      "text/plain": [
       "[5, 7, 8, 9, 10, 15]"
      ]
     },
     "execution_count": 19,
     "metadata": {},
     "output_type": "execute_result"
    }
   ],
   "source": [
    "setify([5, 7, 8, 9, 10, 15])"
   ]
  },
  {
   "cell_type": "code",
   "execution_count": 20,
   "id": "dadd77a8",
   "metadata": {},
   "outputs": [
    {
     "data": {
      "text/plain": [
       "[1, 2, 3]"
      ]
     },
     "execution_count": 20,
     "metadata": {},
     "output_type": "execute_result"
    }
   ],
   "source": [
    "setify([3, 3, 3, 2, 1])"
   ]
  },
  {
   "cell_type": "markdown",
   "id": "998887c3",
   "metadata": {},
   "source": [
    "**Question 5**\n",
    "\n",
    "**Create a function that returns the mean of all digits.**\n",
    "\n",
    "**Examples**\n",
    "\n",
    "**mean(42) ➞ 3**\n",
    "\n",
    "**mean(12345) ➞ 3**\n",
    "\n",
    "**mean(666) ➞ 6**\n",
    "\n",
    "**Notes**\n",
    "\n",
    "- **The mean of all digits is the sum of digits / how many digits there are (e.g. mean of digits in 512 is (5+1+2)/3(number of digits) = 8/3=2).**\n",
    "- **The mean will always be an integer.**"
   ]
  },
  {
   "cell_type": "markdown",
   "id": "b891f1c9",
   "metadata": {},
   "source": [
    "**Solution:**"
   ]
  },
  {
   "cell_type": "code",
   "execution_count": 21,
   "id": "70951473",
   "metadata": {},
   "outputs": [],
   "source": [
    "def mean(n):\n",
    "    # Convert the number to a string to iterate through its digits\n",
    "    n_str = str(n)\n",
    "    \n",
    "    # Calculate the sum of digits\n",
    "    digit_sum = sum(int(digit) for digit in n_str)\n",
    "    \n",
    "    # Calculate the mean by dividing the sum by the number of digits\n",
    "    digit_count = len(n_str)\n",
    "    digit_mean = digit_sum / digit_count\n",
    "    \n",
    "    return int(digit_mean) "
   ]
  },
  {
   "cell_type": "code",
   "execution_count": 22,
   "id": "5aff1ff9",
   "metadata": {},
   "outputs": [
    {
     "data": {
      "text/plain": [
       "3"
      ]
     },
     "execution_count": 22,
     "metadata": {},
     "output_type": "execute_result"
    }
   ],
   "source": [
    "mean(42) "
   ]
  },
  {
   "cell_type": "code",
   "execution_count": 23,
   "id": "f423f934",
   "metadata": {},
   "outputs": [
    {
     "data": {
      "text/plain": [
       "3"
      ]
     },
     "execution_count": 23,
     "metadata": {},
     "output_type": "execute_result"
    }
   ],
   "source": [
    "mean(12345)"
   ]
  },
  {
   "cell_type": "code",
   "execution_count": 24,
   "id": "11618bd4",
   "metadata": {},
   "outputs": [
    {
     "data": {
      "text/plain": [
       "6"
      ]
     },
     "execution_count": 24,
     "metadata": {},
     "output_type": "execute_result"
    }
   ],
   "source": [
    "mean(666)"
   ]
  },
  {
   "cell_type": "code",
   "execution_count": null,
   "id": "19248dea",
   "metadata": {},
   "outputs": [],
   "source": []
  }
 ],
 "metadata": {
  "kernelspec": {
   "display_name": "Python 3 (ipykernel)",
   "language": "python",
   "name": "python3"
  },
  "language_info": {
   "codemirror_mode": {
    "name": "ipython",
    "version": 3
   },
   "file_extension": ".py",
   "mimetype": "text/x-python",
   "name": "python",
   "nbconvert_exporter": "python",
   "pygments_lexer": "ipython3",
   "version": "3.9.7"
  }
 },
 "nbformat": 4,
 "nbformat_minor": 5
}
