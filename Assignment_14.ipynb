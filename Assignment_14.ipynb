{
 "cells": [
  {
   "cell_type": "markdown",
   "id": "db909018",
   "metadata": {},
   "source": [
    "**Question 1:**\n",
    "\n",
    "**Define a class with a generator which can iterate the numbers, which are divisible by 7, between a given range 0 and n.**"
   ]
  },
  {
   "cell_type": "markdown",
   "id": "7eb39fb9",
   "metadata": {},
   "source": [
    "**Solution:**"
   ]
  },
  {
   "cell_type": "code",
   "execution_count": 3,
   "id": "a80efb18",
   "metadata": {},
   "outputs": [],
   "source": [
    "class DivisibleBySeven:\n",
    "    def __init__(self,n):\n",
    "        self.n = n\n",
    "    \n",
    "    def generate_divisible_by_seven(self):\n",
    "        for num in range(self.n + 1):\n",
    "            if num%7 == 0:\n",
    "                yield num"
   ]
  },
  {
   "cell_type": "code",
   "execution_count": 5,
   "id": "97cd8883",
   "metadata": {},
   "outputs": [
    {
     "name": "stdout",
     "output_type": "stream",
     "text": [
      "Enter your desired range: 50\n",
      "0\n",
      "7\n",
      "14\n",
      "21\n",
      "28\n",
      "35\n",
      "42\n",
      "49\n"
     ]
    }
   ],
   "source": [
    "n = int(input(\"Enter your desired range: \"))\n",
    "\n",
    "divisible_by_seven_generator = DivisibleBySeven(n).generate_divisible_by_seven()\n",
    "\n",
    "for num in divisible_by_seven_generator:\n",
    "    print(num)"
   ]
  },
  {
   "cell_type": "markdown",
   "id": "f41b7681",
   "metadata": {},
   "source": [
    "**Question 2:**\n",
    "\n",
    "**Write a program to compute the frequency of the words from the input. The output should output after sorting the key alphanumerically. Suppose the following input is supplied to the program:**\n",
    "\n",
    "**New to Python or choosing between Python 2 and Python 3? Read Python 2 or Python 3.**\n",
    "\n",
    "**Then, the output should be:**\n",
    "\n",
    "**2:2**\n",
    "\n",
    "**3.:1**\n",
    "\n",
    "**3?:1**\n",
    "\n",
    "**New:1**\n",
    "\n",
    "**Python:5**\n",
    "\n",
    "**Read:1**\n",
    "\n",
    "**and:1**\n",
    "\n",
    "**between:1**\n",
    "\n",
    "**choosing:1**\n",
    "\n",
    "**or:2**\n",
    "\n",
    "**to:1**"
   ]
  },
  {
   "cell_type": "markdown",
   "id": "a49dbc3e",
   "metadata": {},
   "source": [
    "**Solution:**"
   ]
  },
  {
   "cell_type": "code",
   "execution_count": 6,
   "id": "8a7daa71",
   "metadata": {},
   "outputs": [
    {
     "name": "stdout",
     "output_type": "stream",
     "text": [
      "Enter a sentence: New to Python or choosing between Python 2 and Python 3? Read Python 2 or Python 3.\n",
      "2:2\n",
      "3:2\n",
      "and:1\n",
      "between:1\n",
      "choosing:1\n",
      "new:1\n",
      "or:2\n",
      "python:5\n",
      "read:1\n",
      "to:1\n"
     ]
    }
   ],
   "source": [
    "input_sentence = input(\"Enter a sentence: \")\n",
    "\n",
    "# Split the sentence into words\n",
    "words = input_sentence.split()\n",
    "\n",
    "# Create a dictionary to store word frequencies\n",
    "word_freq = {}\n",
    "\n",
    "# Count word frequencies\n",
    "for word in words:\n",
    "    # Remove punctuation (., ?) from the word\n",
    "    word = word.strip('.,?')\n",
    "    # Convert the word to lowercase to ensure case-insensitive counting\n",
    "    word = word.lower()\n",
    "    # Update the word frequency in the dictionary\n",
    "    if word in word_freq:\n",
    "        word_freq[word] += 1\n",
    "    else:\n",
    "        word_freq[word] = 1\n",
    "\n",
    "# Sort the words alphanumerically\n",
    "sorted_words = sorted(word_freq.items())\n",
    "\n",
    "# Print the word frequencies\n",
    "for word, frequency in sorted_words:\n",
    "    print(f\"{word}:{frequency}\")\n"
   ]
  },
  {
   "cell_type": "markdown",
   "id": "74b4e7f3",
   "metadata": {},
   "source": [
    "**Question 3:**\n",
    "\n",
    "**Define a class Person and its two child classes: Male and Female. All classes have a method \"getGender\" which can print \"Male\" for Male class and \"Female\" for Female class.**"
   ]
  },
  {
   "cell_type": "markdown",
   "id": "4560a8fe",
   "metadata": {},
   "source": [
    "**Solution:**"
   ]
  },
  {
   "cell_type": "code",
   "execution_count": 7,
   "id": "a76f66a7",
   "metadata": {},
   "outputs": [],
   "source": [
    "class Person:\n",
    "    def getGender(self):\n",
    "        return \"Unknown\"\n",
    "\n",
    "class Male(Person):\n",
    "    def getGender(self):\n",
    "        return \"Male\"\n",
    "\n",
    "class Female(Person):\n",
    "    def getGender(self):\n",
    "        return \"Female\""
   ]
  },
  {
   "cell_type": "code",
   "execution_count": 9,
   "id": "d8ff355e",
   "metadata": {},
   "outputs": [
    {
     "name": "stdout",
     "output_type": "stream",
     "text": [
      "Unknown\n",
      "Male\n",
      "Female\n"
     ]
    }
   ],
   "source": [
    "person = Person()\n",
    "male = Male()\n",
    "female = Female()\n",
    "\n",
    "print(person.getGender())  \n",
    "print(male.getGender())    \n",
    "print(female.getGender()) "
   ]
  },
  {
   "cell_type": "markdown",
   "id": "cb6d9fbb",
   "metadata": {},
   "source": [
    "**Question 4:**\n",
    "\n",
    "**Please write a program to generate all sentences where subject is in [\"I\", \"You\"] and verb is in [\"Play\", \"Love\"] and the object is in [\"Hockey\",\"Football\"].**"
   ]
  },
  {
   "cell_type": "markdown",
   "id": "433fe6a2",
   "metadata": {},
   "source": [
    "**Solution:**"
   ]
  },
  {
   "cell_type": "code",
   "execution_count": 11,
   "id": "153fb35c",
   "metadata": {},
   "outputs": [
    {
     "name": "stdout",
     "output_type": "stream",
     "text": [
      "I Play Hockey.\n",
      "I Play Football.\n",
      "I Love Hockey.\n",
      "I Love Football.\n",
      "You Play Hockey.\n",
      "You Play Football.\n",
      "You Love Hockey.\n",
      "You Love Football.\n"
     ]
    }
   ],
   "source": [
    "subjects = [\"I\", \"You\"]\n",
    "verbs = [\"Play\", \"Love\"]\n",
    "objects = [\"Hockey\", \"Football\"]\n",
    "\n",
    "sentences = []\n",
    "\n",
    "for sub in subjects:\n",
    "    for vrb in verbs:\n",
    "        for obj in objects:\n",
    "            sentence = f\"{sub} {vrb} {obj}.\"\n",
    "            sentences.append(sentence)\n",
    "\n",
    "for sentence in sentences:\n",
    "    print(sentence)"
   ]
  },
  {
   "cell_type": "markdown",
   "id": "ea94898a",
   "metadata": {},
   "source": [
    "**Question 5:**\n",
    "\n",
    "**Please write a program to compress and decompress the string \"hello world!hello world!hello world!hello world!\".**"
   ]
  },
  {
   "cell_type": "markdown",
   "id": "bf0c6118",
   "metadata": {},
   "source": [
    "**Solution:**"
   ]
  },
  {
   "cell_type": "code",
   "execution_count": 12,
   "id": "5fd8220e",
   "metadata": {},
   "outputs": [
    {
     "name": "stdout",
     "output_type": "stream",
     "text": [
      "Original String: hello world!hello world!hello world!hello world!\n",
      "Compressed String: b'x\\x9c\\xcbH\\xcd\\xc9\\xc9W(\\xcf/\\xcaIQ\\xcc \\x82\\r\\x00\\xbd[\\x11\\xf5'\n",
      "Decompressed String: hello world!hello world!hello world!hello world!\n"
     ]
    }
   ],
   "source": [
    "import zlib\n",
    "\n",
    "string = \"hello world!hello world!hello world!hello world!\"\n",
    "\n",
    "# Compress the string\n",
    "compressed_string = zlib.compress(string.encode())\n",
    "\n",
    "# Decompress the string\n",
    "decompressed_string = zlib.decompress(compressed_string).decode()\n",
    "\n",
    "print(\"Original String:\", string)\n",
    "print(\"Compressed String:\", compressed_string)\n",
    "print(\"Decompressed String:\", decompressed_string)"
   ]
  },
  {
   "cell_type": "markdown",
   "id": "9212c53b",
   "metadata": {},
   "source": [
    "**Question 6:**\n",
    "\n",
    "**Please write a binary search function which searches an item in a sorted list. The function should return the index of element to be searched in the list.**"
   ]
  },
  {
   "cell_type": "markdown",
   "id": "497f57a4",
   "metadata": {},
   "source": [
    "**Solution:**"
   ]
  },
  {
   "cell_type": "code",
   "execution_count": 19,
   "id": "2c27bf78",
   "metadata": {},
   "outputs": [
    {
     "name": "stdout",
     "output_type": "stream",
     "text": [
      "Element 4 found at index 3\n"
     ]
    }
   ],
   "source": [
    "def binary_search(arr, target):\n",
    "    left, right = 0, len(arr) - 1\n",
    "\n",
    "    while left <= right:\n",
    "        mid = (left + right) // 2\n",
    "\n",
    "        if arr[mid] == target:\n",
    "            return mid  # Element found, return its index\n",
    "        elif arr[mid] < target:\n",
    "            left = mid + 1  # Target is in the right half\n",
    "        else:\n",
    "            right = mid - 1  # Target is in the left half\n",
    "\n",
    "    return -1  # Element not found in the list\n",
    "\n",
    "# Example usage:\n",
    "sorted_list = [1, 2, 3, 4, 5, 6, 7, 8, 9]\n",
    "target_element = 4\n",
    "\n",
    "result = binary_search(sorted_list, target_element)\n",
    "\n",
    "if result != -1:\n",
    "    print(f\"Element {target_element} found at index {result}\")\n",
    "else:\n",
    "    print(f\"Element {target_element} not found in the list\")\n"
   ]
  },
  {
   "cell_type": "code",
   "execution_count": null,
   "id": "51107bf1",
   "metadata": {},
   "outputs": [],
   "source": []
  }
 ],
 "metadata": {
  "kernelspec": {
   "display_name": "Python 3 (ipykernel)",
   "language": "python",
   "name": "python3"
  },
  "language_info": {
   "codemirror_mode": {
    "name": "ipython",
    "version": 3
   },
   "file_extension": ".py",
   "mimetype": "text/x-python",
   "name": "python",
   "nbconvert_exporter": "python",
   "pygments_lexer": "ipython3",
   "version": "3.9.7"
  }
 },
 "nbformat": 4,
 "nbformat_minor": 5
}
