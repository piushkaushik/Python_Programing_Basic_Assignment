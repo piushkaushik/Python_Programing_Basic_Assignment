{
 "cells": [
  {
   "cell_type": "markdown",
   "id": "f9ef61b5",
   "metadata": {},
   "source": [
    "# 1. Write a Python program to find sum of elements in list?"
   ]
  },
  {
   "cell_type": "code",
   "execution_count": 9,
   "id": "5b25020a",
   "metadata": {},
   "outputs": [
    {
     "name": "stdout",
     "output_type": "stream",
     "text": [
      "Sum of elements in the list: 150\n"
     ]
    }
   ],
   "source": [
    "# Sample list of numbers\n",
    "numbers = [10, 20, 30, 40, 50]\n",
    "\n",
    "# Initialize a variable to store the sum\n",
    "sum_of_numbers = 0\n",
    "\n",
    "# Iterate through the list and accumulate the sum\n",
    "for i in numbers:\n",
    "    sum_of_numbers += i\n",
    "\n",
    "# Print the sum\n",
    "print(\"Sum of elements in the list:\", sum_of_numbers)\n"
   ]
  },
  {
   "cell_type": "markdown",
   "id": "e7e5377d",
   "metadata": {},
   "source": [
    "# 2. Write a Python program to Multiply all numbers in the list?"
   ]
  },
  {
   "cell_type": "code",
   "execution_count": 12,
   "id": "00afd05f",
   "metadata": {},
   "outputs": [
    {
     "name": "stdout",
     "output_type": "stream",
     "text": [
      "Product of elements in the list: 12000000\n"
     ]
    }
   ],
   "source": [
    "# Sample list of numbers\n",
    "numbers = [10, 20, 30, 40, 50]\n",
    "\n",
    "# Initialize a variable to store the product\n",
    "product_of_numbers = 1\n",
    "\n",
    "# Iterate through the list and accumulate the product\n",
    "for i in numbers:\n",
    "    product_of_numbers *= i\n",
    "\n",
    "# Print the product\n",
    "print(\"Product of elements in the list:\", product_of_numbers)\n"
   ]
  },
  {
   "cell_type": "markdown",
   "id": "d643ca31",
   "metadata": {},
   "source": [
    "# 3. Write a Python program to find smallest number in a list?"
   ]
  },
  {
   "cell_type": "code",
   "execution_count": 21,
   "id": "121dd136",
   "metadata": {},
   "outputs": [
    {
     "name": "stdout",
     "output_type": "stream",
     "text": [
      "The smallest number in the list is: -45\n"
     ]
    }
   ],
   "source": [
    "# Sample list of numbers\n",
    "numbers = [30, 10, -45, 5, 20]\n",
    "\n",
    "# Initialize a variable to store the minimum value, initially set to the first element\n",
    "minimum = numbers[0]\n",
    "\n",
    "# Iterate through the list and update the minimum value if a smaller number is found\n",
    "for i in numbers:\n",
    "    if i < minimum:\n",
    "        minimum = i\n",
    "\n",
    "# Print the minimum value\n",
    "print(\"The smallest number in the list is:\", minimum)\n"
   ]
  },
  {
   "cell_type": "markdown",
   "id": "640d3906",
   "metadata": {},
   "source": [
    "# 4. Write a Python program to find largest number in a list?"
   ]
  },
  {
   "cell_type": "code",
   "execution_count": 22,
   "id": "7a6a23bd",
   "metadata": {},
   "outputs": [
    {
     "name": "stdout",
     "output_type": "stream",
     "text": [
      "The largest number in the list is: 30\n"
     ]
    }
   ],
   "source": [
    "# Sample list of numbers\n",
    "numbers = [30, 10, -45, 5, 20]\n",
    "\n",
    "# Initialize a variable to store the minimum value, initially set to the first element\n",
    "minimum = numbers[0]\n",
    "\n",
    "# Iterate through the list and update the minimum value if a smaller number is found\n",
    "for i in numbers:\n",
    "    if i > minimum:\n",
    "        minimum = i\n",
    "\n",
    "# Print the minimum value\n",
    "print(\"The largest number in the list is:\", minimum)"
   ]
  },
  {
   "cell_type": "markdown",
   "id": "ab35796d",
   "metadata": {},
   "source": [
    "# 5. Write a Python program to find second largest number in a list?"
   ]
  },
  {
   "cell_type": "code",
   "execution_count": 29,
   "id": "5f7e9a9c",
   "metadata": {},
   "outputs": [
    {
     "name": "stdout",
     "output_type": "stream",
     "text": [
      "The second largest number in the list is: 30\n"
     ]
    }
   ],
   "source": [
    "# Sample list of numbers\n",
    "numbers = [30, 10, 45, 5, 20]\n",
    "\n",
    "# Sort the list in descending order\n",
    "numbers.sort(reverse=True)\n",
    "\n",
    "# Check if there are at least two elements in the list\n",
    "if len(numbers) >= 2:\n",
    "    second_largest = numbers[1]\n",
    "    print(\"The second largest number in the list is:\", second_largest)\n",
    "else:\n",
    "    print(\"The list does not contain a second largest number.\")"
   ]
  },
  {
   "cell_type": "markdown",
   "id": "7b0bc14a",
   "metadata": {},
   "source": [
    "# 6. Write a Python program to find N largest elements from a list?"
   ]
  },
  {
   "cell_type": "code",
   "execution_count": 32,
   "id": "a5b26f9c",
   "metadata": {},
   "outputs": [
    {
     "name": "stdout",
     "output_type": "stream",
     "text": [
      "N = 3\n",
      "The 3 largest elements in the list are: [345, 100, 98]\n"
     ]
    }
   ],
   "source": [
    "def find_n_largest_elements(lst, n):\n",
    "    # Sort the list in descending order\n",
    "    sorted_lst = sorted(lst, reverse=True)\n",
    "    \n",
    "    # Get the first N elements\n",
    "    largest_elements = sorted_lst[:n]\n",
    "    \n",
    "    return largest_elements\n",
    "\n",
    "# Sample list of numbers\n",
    "numbers = [30, 10, 45, 5, 20, 50, 15, 3, 345, 54, 67, 87, 98, 100, 34, 5, 4]\n",
    "\n",
    "# Number of largest elements to find\n",
    "N = int(input(\"N = \" ))\n",
    "\n",
    "# Find the N largest elements from the list\n",
    "result = find_n_largest_elements(numbers, N)\n",
    "\n",
    "# Print the N largest elements\n",
    "print(f\"The {N} largest elements in the list are:\", result)\n"
   ]
  },
  {
   "cell_type": "markdown",
   "id": "3a3866ee",
   "metadata": {},
   "source": [
    "# 7. Write a Python program to print even numbers in a list?"
   ]
  },
  {
   "cell_type": "code",
   "execution_count": 33,
   "id": "188deeea",
   "metadata": {},
   "outputs": [
    {
     "name": "stdout",
     "output_type": "stream",
     "text": [
      "Even numbers in the list: [2, 4, 6, 8, 10]\n"
     ]
    }
   ],
   "source": [
    "# Sample list of numbers\n",
    "numbers = [1, 2, 3, 4, 5, 6, 7, 8, 9, 10]\n",
    "\n",
    "# Using a list comprehension to filter even numbers\n",
    "even_numbers = [num for num in numbers if num % 2 == 0]\n",
    "\n",
    "# Print the even numbers\n",
    "print(\"Even numbers in the list:\", even_numbers)"
   ]
  },
  {
   "cell_type": "markdown",
   "id": "01ba2067",
   "metadata": {},
   "source": [
    "# 8. Write a Python program to print odd numbers in a List?"
   ]
  },
  {
   "cell_type": "code",
   "execution_count": 34,
   "id": "e09e6790",
   "metadata": {},
   "outputs": [
    {
     "name": "stdout",
     "output_type": "stream",
     "text": [
      "Odd numbers in the list: [1, 3, 5, 7, 9]\n"
     ]
    }
   ],
   "source": [
    "# Sample list of numbers\n",
    "numbers = [1, 2, 3, 4, 5, 6, 7, 8, 9, 10]\n",
    "\n",
    "# Using a list comprehension to filter even numbers\n",
    "even_numbers = [num for num in numbers if num % 2 != 0]\n",
    "\n",
    "# Print the even numbers\n",
    "print(\"Odd numbers in the list:\", even_numbers)"
   ]
  },
  {
   "cell_type": "markdown",
   "id": "bf56360c",
   "metadata": {},
   "source": [
    "# 9. Write a Python program to Remove empty List from List?"
   ]
  },
  {
   "cell_type": "code",
   "execution_count": 35,
   "id": "53a10d70",
   "metadata": {},
   "outputs": [
    {
     "name": "stdout",
     "output_type": "stream",
     "text": [
      "List after removing empty lists: [[1, 2, 3], [4, 5], [6, 7, 8]]\n"
     ]
    }
   ],
   "source": [
    "# Sample list containing lists\n",
    "list_of_lists = [[1, 2, 3], [], [4, 5], [], [6, 7, 8], []]\n",
    "\n",
    "# Using a list comprehension to remove empty lists\n",
    "filtered_list = [i for i in list_of_lists if i]\n",
    "\n",
    "# Print the filtered list\n",
    "print(\"List after removing empty lists:\", filtered_list)\n"
   ]
  },
  {
   "cell_type": "markdown",
   "id": "91732358",
   "metadata": {},
   "source": [
    "# 10. Write a Python program to Cloning or Copying a list?"
   ]
  },
  {
   "cell_type": "code",
   "execution_count": 39,
   "id": "511196f6",
   "metadata": {},
   "outputs": [
    {
     "name": "stdout",
     "output_type": "stream",
     "text": [
      "[1, 2, 3, 4, 5]\n"
     ]
    }
   ],
   "source": [
    "#Using Using the Slice Operator\n",
    "original_list = [1, 2, 3, 4, 5]\n",
    "cloned_list = original_list[:]\n",
    "print(cloned_list)"
   ]
  },
  {
   "cell_type": "code",
   "execution_count": 40,
   "id": "2443003e",
   "metadata": {},
   "outputs": [
    {
     "name": "stdout",
     "output_type": "stream",
     "text": [
      "[1, 2, 3, 4, 5]\n"
     ]
    }
   ],
   "source": [
    "# Using the list() constructor\n",
    "original_list = [1, 2, 3, 4, 5]\n",
    "cloned_list = list(original_list)\n",
    "print(cloned_list)"
   ]
  },
  {
   "cell_type": "code",
   "execution_count": 41,
   "id": "a0f99fd9",
   "metadata": {},
   "outputs": [
    {
     "name": "stdout",
     "output_type": "stream",
     "text": [
      "[1, 2, 3, 4, 5]\n"
     ]
    }
   ],
   "source": [
    "# Using List Comprehension\n",
    "original_list = [1, 2, 3, 4, 5]\n",
    "cloned_list = [item for item in original_list]\n",
    "print(cloned_list)"
   ]
  },
  {
   "cell_type": "markdown",
   "id": "0073f0d1",
   "metadata": {},
   "source": [
    "# 11. Write a Python program to Count occurrences of an element in a list?"
   ]
  },
  {
   "cell_type": "code",
   "execution_count": 48,
   "id": "39340715",
   "metadata": {},
   "outputs": [
    {
     "name": "stdout",
     "output_type": "stream",
     "text": [
      "The element 2 appears 3 times in the list.\n"
     ]
    }
   ],
   "source": [
    "def count_occurrences(l, element):\n",
    "    count = l.count(element)\n",
    "    return count\n",
    "\n",
    "# Example usage:\n",
    "my_list = [1, 2, 3, 4, 2, 5, 2, 3, 4, 6, 5]\n",
    "element_to_count = 2\n",
    "\n",
    "occurrences = count_occurrences(my_list, element_to_count)\n",
    "print(f\"The element {element_to_count} appears {occurrences} times in the list.\")\n"
   ]
  },
  {
   "cell_type": "code",
   "execution_count": null,
   "id": "9b4172fd",
   "metadata": {},
   "outputs": [],
   "source": []
  }
 ],
 "metadata": {
  "kernelspec": {
   "display_name": "Python 3 (ipykernel)",
   "language": "python",
   "name": "python3"
  },
  "language_info": {
   "codemirror_mode": {
    "name": "ipython",
    "version": 3
   },
   "file_extension": ".py",
   "mimetype": "text/x-python",
   "name": "python",
   "nbconvert_exporter": "python",
   "pygments_lexer": "ipython3",
   "version": "3.9.7"
  }
 },
 "nbformat": 4,
 "nbformat_minor": 5
}
