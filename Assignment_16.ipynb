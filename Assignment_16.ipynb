{
 "cells": [
  {
   "cell_type": "markdown",
   "id": "66f27374",
   "metadata": {},
   "source": [
    "**Question1.** \n",
    "\n",
    "**Write a function that stutters a word as if someone is struggling to read it. The first two letters are repeated twice with an ellipsis ... and space after each, and then the word is pronounced with a question mark ?.**\n",
    "\n",
    "**Examples**\n",
    "\n",
    "**stutter(\"incredible\") ➞ \"in... in... incredible?\"**\n",
    "\n",
    "**stutter(\"enthusiastic\") ➞ \"en... en... enthusiastic?\"**\n",
    "\n",
    "**stutter(\"outstanding\") ➞ \"ou... ou... outstanding?\"**\n",
    "\n",
    "**Hint :- Assume all input is in lower case and at least two characters long.**"
   ]
  },
  {
   "cell_type": "markdown",
   "id": "5f77a196",
   "metadata": {},
   "source": [
    "**Solution:**"
   ]
  },
  {
   "cell_type": "code",
   "execution_count": 1,
   "id": "9f90cf38",
   "metadata": {},
   "outputs": [],
   "source": [
    "def stutter(word):\n",
    "    if len(word) < 2:\n",
    "        return \"Word must be at least two characters long.\"\n",
    "    \n",
    "    stuttered_word = f\"{word[:2]}... {word[:2]}... {word}?\"\n",
    "    return stuttered_word"
   ]
  },
  {
   "cell_type": "code",
   "execution_count": 2,
   "id": "aa702d0c",
   "metadata": {},
   "outputs": [
    {
     "name": "stdout",
     "output_type": "stream",
     "text": [
      "in... in... incredible?\n",
      "en... en... enthusiastic?\n",
      "ou... ou... outstanding?\n"
     ]
    }
   ],
   "source": [
    "# Test cases\n",
    "print(stutter(\"incredible\"))  \n",
    "print(stutter(\"enthusiastic\"))  \n",
    "print(stutter(\"outstanding\"))"
   ]
  },
  {
   "cell_type": "markdown",
   "id": "4e4da785",
   "metadata": {},
   "source": [
    "**Question 2.**\n",
    "\n",
    "**Create a function that takes an angle in radians and returns the corresponding angle in degrees rounded to one decimal place.**\n",
    "\n",
    "**Examples**\n",
    "\n",
    "**radians_to_degrees(1) ➞ 57.3**\n",
    "\n",
    "**radians_to_degrees(20) ➞ 1145.9**\n",
    "\n",
    "**radians_to_degrees(50) ➞ 2864.8**"
   ]
  },
  {
   "cell_type": "markdown",
   "id": "33335339",
   "metadata": {},
   "source": [
    "**Solution:**"
   ]
  },
  {
   "cell_type": "code",
   "execution_count": 3,
   "id": "38320bd2",
   "metadata": {},
   "outputs": [],
   "source": [
    "import math\n",
    "\n",
    "def radians_to_degrees(radians):\n",
    "    degrees = radians * (180 / math.pi)\n",
    "    return round(degrees, 1)"
   ]
  },
  {
   "cell_type": "code",
   "execution_count": 5,
   "id": "3f312658",
   "metadata": {},
   "outputs": [
    {
     "name": "stdout",
     "output_type": "stream",
     "text": [
      "57.3\n",
      "1145.9\n",
      "2864.8\n"
     ]
    }
   ],
   "source": [
    "# Test cases\n",
    "print(radians_to_degrees(1))\n",
    "print(radians_to_degrees(20))\n",
    "print(radians_to_degrees(50))"
   ]
  },
  {
   "cell_type": "markdown",
   "id": "90108549",
   "metadata": {},
   "source": [
    "**Question 3.** \n",
    "\n",
    "**In this challenge, establish if a given integer num is a Curzon number. If 1 plus 2 elevated to num is exactly divisible by 1 plus 2 multiplied by num, then num is a Curzon number.**\n",
    "\n",
    "**Given a non-negative integer num, implement a function that returns True if num is a Curzon number, or False otherwise.**\n",
    "\n",
    "**Examples**\n",
    "\n",
    "**is_curzon(5) ➞ True**\n",
    "\n",
    "**`# 2 ** 5 + 1 = 33`**\n",
    "\n",
    "**`# 2 * 5 + 1 = 11`**\n",
    "\n",
    "**`# 33 is a multiple of 11`**\n",
    "\n",
    "**is_curzon(10) ➞ False**\n",
    "\n",
    "**`# 2 ** 10 + 1 = 1025`**\n",
    "\n",
    "**`# 2 * 10 + 1 = 21`**\n",
    "\n",
    "**`# 1025 is not a multiple of 21`**\n",
    "\n",
    "**is_curzon(14) ➞ True**\n",
    "\n",
    "**`# 2 ** 14 + 1 = 16385`**\n",
    "\n",
    "**`# 2 * 14 + 1 = 29`**\n",
    "\n",
    "**`# 16385 is a multiple of 29`**"
   ]
  },
  {
   "cell_type": "markdown",
   "id": "8c1a6970",
   "metadata": {},
   "source": [
    "**Solution:**"
   ]
  },
  {
   "cell_type": "markdown",
   "id": "43c0b42d",
   "metadata": {},
   "source": [
    "**Curzon Number:**"
   ]
  },
  {
   "cell_type": "markdown",
   "id": "9a1b7352",
   "metadata": {},
   "source": [
    "It is defined based on a specific mathematical relationship involving powers of 2. An integer 'n' is considered a Curzon number if it satisfies the following condition:\n",
    "\n",
    "\n",
    "*If (2^n + 1) is divisible by (2n + 1), then 'n' is a Curzon number.*\n",
    "\n",
    "\n",
    "For example:\n",
    "- If n = 5: 2^5 + 1 = 33, and 2*5 + 1 = 11. Since 33 is divisible by 11 (33 % 11 = 0), 5 is a Curzon number.\n",
    "- If n = 10: 2^10 + 1 = 1025, and 2*10 + 1 = 21. 1025 is not divisible by 21, so 10 is not a Curzon number.\n",
    "\n",
    "Curzon numbers are a specific **subset of integers** with this unique mathematical property."
   ]
  },
  {
   "cell_type": "code",
   "execution_count": 6,
   "id": "fbdb2d19",
   "metadata": {},
   "outputs": [],
   "source": [
    "def is_curzon(num):\n",
    "    numerator = 2 ** num + 1\n",
    "    denominator = 2 * num + 1\n",
    "    return numerator % denominator == 0"
   ]
  },
  {
   "cell_type": "code",
   "execution_count": 7,
   "id": "6903a95d",
   "metadata": {},
   "outputs": [
    {
     "name": "stdout",
     "output_type": "stream",
     "text": [
      "True\n",
      "False\n",
      "True\n"
     ]
    }
   ],
   "source": [
    "# Test cases\n",
    "print(is_curzon(5)) \n",
    "print(is_curzon(10)) \n",
    "print(is_curzon(14)) "
   ]
  },
  {
   "cell_type": "markdown",
   "id": "5ec3b7d7",
   "metadata": {},
   "source": [
    "**Question 4.**\n",
    "\n",
    "**Given the side length x find the area of a hexagon.**\n",
    "\n",
    "**Examples**\n",
    "\n",
    "**area_of_hexagon(1) ➞ 2.6**\n",
    "\n",
    "**area_of_hexagon(2) ➞ 10.4**\n",
    "\n",
    "**area_of_hexagon(3) ➞ 23.4**"
   ]
  },
  {
   "cell_type": "markdown",
   "id": "ba2c6a96",
   "metadata": {},
   "source": [
    "**Solution:**"
   ]
  },
  {
   "cell_type": "code",
   "execution_count": 9,
   "id": "0d464d52",
   "metadata": {},
   "outputs": [],
   "source": [
    "import math\n",
    "\n",
    "def area_of_hexagon(x):\n",
    "    area = (3 * math.sqrt(3) * x**2) / 2\n",
    "    return round(area, 1)"
   ]
  },
  {
   "cell_type": "code",
   "execution_count": 10,
   "id": "cac8f36c",
   "metadata": {},
   "outputs": [
    {
     "name": "stdout",
     "output_type": "stream",
     "text": [
      "2.6\n",
      "10.4\n",
      "23.4\n"
     ]
    }
   ],
   "source": [
    "# Example usage:\n",
    "print(area_of_hexagon(1))  \n",
    "print(area_of_hexagon(2))  \n",
    "print(area_of_hexagon(3)) "
   ]
  },
  {
   "cell_type": "markdown",
   "id": "cdadae5c",
   "metadata": {},
   "source": [
    "**Question 5.**\n",
    "\n",
    "**Create a function that returns a base-2 (binary) representation of a base-10 (decimal) string number. To convert is simple: ((2) means base-2 and (10) means base-10) 010101001(2) = 1 + 8 + 32 + 128.**\n",
    "\n",
    "**Going from right to left, the value of the most right bit is 1, now from that every bit to the left will be x2 the value, value of an 8 bit binary numbers are (256, 128, 64, 32, 16, 8, 4, 2, 1).**\n",
    "\n",
    "**Examples**\n",
    "\n",
    "**binary(1) ➞ \"1\"**\n",
    "\n",
    "**`# 1*1 = 1`**\n",
    "\n",
    "**binary(5) ➞ \"101\"**\n",
    "\n",
    "**`# 1*1 + 1*4 = 5`**\n",
    "\n",
    "**binary(10) ➞ 1010**\n",
    "\n",
    "**`# 1*2 + 1*8 = 10`**"
   ]
  },
  {
   "cell_type": "markdown",
   "id": "76574f88",
   "metadata": {},
   "source": [
    "**Solution:**"
   ]
  },
  {
   "cell_type": "code",
   "execution_count": 13,
   "id": "c5b50e86",
   "metadata": {},
   "outputs": [],
   "source": [
    "def binary(decimal):\n",
    "    binary_str = \"\"\n",
    "    while decimal > 0:\n",
    "        remainder = decimal % 2\n",
    "        binary_str = str(remainder) + binary_str\n",
    "        decimal = decimal // 2\n",
    "    return binary_str if binary_str else \"0\""
   ]
  },
  {
   "cell_type": "code",
   "execution_count": 14,
   "id": "8cc1a5fb",
   "metadata": {},
   "outputs": [
    {
     "name": "stdout",
     "output_type": "stream",
     "text": [
      "1\n",
      "101\n",
      "1010\n"
     ]
    }
   ],
   "source": [
    "print(binary(1))\n",
    "print(binary(5))   \n",
    "print(binary(10))  "
   ]
  },
  {
   "cell_type": "code",
   "execution_count": null,
   "id": "18628001",
   "metadata": {},
   "outputs": [],
   "source": []
  }
 ],
 "metadata": {
  "kernelspec": {
   "display_name": "Python 3 (ipykernel)",
   "language": "python",
   "name": "python3"
  },
  "language_info": {
   "codemirror_mode": {
    "name": "ipython",
    "version": 3
   },
   "file_extension": ".py",
   "mimetype": "text/x-python",
   "name": "python",
   "nbconvert_exporter": "python",
   "pygments_lexer": "ipython3",
   "version": "3.9.7"
  }
 },
 "nbformat": 4,
 "nbformat_minor": 5
}
