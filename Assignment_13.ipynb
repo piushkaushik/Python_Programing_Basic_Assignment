{
 "cells": [
  {
   "cell_type": "markdown",
   "id": "ee59fb3a",
   "metadata": {},
   "source": [
    "**Question 1:**\n",
    "\n",
    "**Write a program that calculates and prints the value according to the given formula:**\n",
    "\n",
    "**`Q = Square root of [(2 * C * D)/H]`**\n",
    "\n",
    "**Following are the fixed values of C and H:**\n",
    "\n",
    "**C is 50. H is 30.**\n",
    "\n",
    "**D is the variable whose values should be input to your program in a comma-separated sequence.**\n",
    "\n",
    "**Example**\n",
    "\n",
    "**Let us assume the following comma separated input sequence is given to the program:**\n",
    "\n",
    "**100,150,180**\n",
    "\n",
    "**The output of the program should be:**\n",
    "\n",
    "**18,22,24**"
   ]
  },
  {
   "cell_type": "markdown",
   "id": "46c5ab6a",
   "metadata": {},
   "source": [
    "**Solution:**"
   ]
  },
  {
   "cell_type": "code",
   "execution_count": 1,
   "id": "2dab1c98",
   "metadata": {},
   "outputs": [
    {
     "name": "stdout",
     "output_type": "stream",
     "text": [
      "Enter comma-separated values of D: 100,150,180\n",
      "18,22,24\n"
     ]
    }
   ],
   "source": [
    "import math\n",
    "\n",
    "# Fixed values\n",
    "C = 50\n",
    "H = 30\n",
    "\n",
    "# Function to calculate Q\n",
    "def calculate_Q(D):\n",
    "    return int(math.sqrt((2 * C * D) / H))\n",
    "\n",
    "# Input comma-separated sequence of D values\n",
    "input_sequence = input(\"Enter comma-separated values of D: \")\n",
    "D_values = input_sequence.split(',')\n",
    "\n",
    "# Calculate and print Q for each D value\n",
    "result = [calculate_Q(int(D)) for D in D_values]\n",
    "print(','.join(map(str, result)))"
   ]
  },
  {
   "cell_type": "markdown",
   "id": "744de210",
   "metadata": {},
   "source": [
    "**Question 2:**\n",
    "\n",
    "**Write a program which takes 2 digits, X,Y as input and generates a 2-dimensional array. The\n",
    "element value in the i-th row and j-th column of the array should be i*j.**\n",
    "\n",
    "**Note: i=0,1.., X-1; j=0,1,¡Y-1.**\n",
    "\n",
    "**Example**\n",
    "\n",
    "**Suppose the following inputs are given to the program:**\n",
    "\n",
    "**3,5**\n",
    "\n",
    "**Then, the output of the program should be:**\n",
    "\n",
    "**[[0, 0, 0, 0, 0], [0, 1, 2, 3, 4], [0, 2, 4, 6, 8]]**"
   ]
  },
  {
   "cell_type": "markdown",
   "id": "99f9f247",
   "metadata": {},
   "source": [
    "**Solution:**"
   ]
  },
  {
   "cell_type": "code",
   "execution_count": 2,
   "id": "36903c18",
   "metadata": {},
   "outputs": [
    {
     "name": "stdout",
     "output_type": "stream",
     "text": [
      "Enter two digits (X, Y): 3,5\n",
      "[0, 0, 0, 0, 0]\n",
      "[0, 1, 2, 3, 4]\n",
      "[0, 2, 4, 6, 8]\n"
     ]
    }
   ],
   "source": [
    "# Input two digits, X and Y\n",
    "X, Y = map(int, input(\"Enter two digits (X, Y): \").split(','))\n",
    "\n",
    "# Initialize a 2D array filled with zeros\n",
    "array = [[0 for j in range(Y)] for i in range(X)]\n",
    "\n",
    "# Fill the array with values i * j\n",
    "for i in range(X):\n",
    "    for j in range(Y):\n",
    "        array[i][j] = i * j\n",
    "\n",
    "# Print the 2D array\n",
    "for row in array:\n",
    "    print(row)"
   ]
  },
  {
   "cell_type": "markdown",
   "id": "606674e4",
   "metadata": {},
   "source": [
    "**Question 3:**\n",
    "\n",
    "**Write a program that accepts a comma separated sequence of words as input and prints the\n",
    "words in a comma-separated sequence after sorting them alphabetically.**\n",
    "\n",
    "**Suppose the following input is supplied to the program:**\n",
    "\n",
    "**without,hello,bag,world**\n",
    "\n",
    "**Then, the output should be:**\n",
    "\n",
    "**bag,hello,without,world**"
   ]
  },
  {
   "cell_type": "markdown",
   "id": "a9b2f536",
   "metadata": {},
   "source": [
    "**Solution:**"
   ]
  },
  {
   "cell_type": "code",
   "execution_count": 4,
   "id": "f2d4df8d",
   "metadata": {},
   "outputs": [
    {
     "name": "stdout",
     "output_type": "stream",
     "text": [
      "Enter a comma-separated sequence of words: without, hello, bag, world\n",
      "Sorted words:  bag, hello, world,without\n"
     ]
    }
   ],
   "source": [
    "# Accept input from the user\n",
    "input_sequence = input(\"Enter a comma-separated sequence of words: \")\n",
    "\n",
    "# Split the input into a list of words\n",
    "words = input_sequence.split(',')\n",
    "\n",
    "# Sort the words alphabetically\n",
    "sorted_words = sorted(words)\n",
    "\n",
    "# Join the sorted words into a comma-separated sequence\n",
    "sorted_sequence = ','.join(sorted_words)\n",
    "\n",
    "# Print the sorted sequence\n",
    "print(\"Sorted words:\", sorted_sequence)"
   ]
  },
  {
   "cell_type": "markdown",
   "id": "46b9788c",
   "metadata": {},
   "source": [
    "**Question 4:**\n",
    "\n",
    "**Write a program that accepts a sequence of whitespace separated words as input and prints\n",
    "the words after removing all duplicate words and sorting them alphanumerically.**\n",
    "\n",
    "**Suppose the following input is supplied to the program:**\n",
    "\n",
    "**hello world and practice makes perfect and hello world again**\n",
    "\n",
    "**Then, the output should be:**\n",
    "\n",
    "**again and hello makes perfect practice world**"
   ]
  },
  {
   "cell_type": "markdown",
   "id": "35372be2",
   "metadata": {},
   "source": [
    "**Solution:**"
   ]
  },
  {
   "cell_type": "code",
   "execution_count": 5,
   "id": "c6bca027",
   "metadata": {},
   "outputs": [
    {
     "name": "stdout",
     "output_type": "stream",
     "text": [
      "Enter a sequence of whitespace-separated words: hello world and practice makes perfect and hello world again\n",
      "Result: again and hello makes perfect practice world\n"
     ]
    }
   ],
   "source": [
    "# Accept input from the user\n",
    "input_sequence = input(\"Enter a sequence of whitespace-separated words: \")\n",
    "\n",
    "# Split the input into words and convert it into a set to remove duplicates\n",
    "words = set(input_sequence.split())\n",
    "\n",
    "# Sort the unique words alphanumerically\n",
    "sorted_words = sorted(words)\n",
    "\n",
    "# Join the sorted words into a string with whitespace separation\n",
    "result = ' '.join(sorted_words)\n",
    "\n",
    "# Print the result\n",
    "print(\"Result:\", result)"
   ]
  },
  {
   "cell_type": "markdown",
   "id": "46fd1d3c",
   "metadata": {},
   "source": [
    "**Question 5:**\n",
    "\n",
    "**Write a program that accepts a sentence and calculate the number of letters and digits. Suppose the following input is supplied to the program:**\n",
    "\n",
    "**hello world! 123**\n",
    "\n",
    "**Then, the output should be:**\n",
    "\n",
    "**LETTERS 10**\n",
    "\n",
    "**DIGITS 3**"
   ]
  },
  {
   "cell_type": "markdown",
   "id": "1798eea2",
   "metadata": {},
   "source": [
    "**Solution:**"
   ]
  },
  {
   "cell_type": "code",
   "execution_count": 8,
   "id": "1ea82d1f",
   "metadata": {},
   "outputs": [
    {
     "name": "stdout",
     "output_type": "stream",
     "text": [
      "Enter a sentence: hello world! 123\n",
      "LETTERS 10\n",
      "DIGITS 3\n"
     ]
    }
   ],
   "source": [
    "# Accept input from the user\n",
    "sentence = input(\"Enter a sentence: \")\n",
    "\n",
    "# Initialize counters for letters and digits\n",
    "letter_count = 0\n",
    "digit_count = 0\n",
    "\n",
    "# Iterate through each character in the sentence\n",
    "for char in sentence:\n",
    "    if char.isalpha():\n",
    "        letter_count += 1\n",
    "    elif char.isdigit():\n",
    "        digit_count += 1\n",
    "\n",
    "# Print the results\n",
    "print(\"LETTERS\", letter_count)\n",
    "print(\"DIGITS\", digit_count)"
   ]
  },
  {
   "cell_type": "markdown",
   "id": "555a6bff",
   "metadata": {},
   "source": [
    "**Question 6:**\n",
    "\n",
    "**A website requires the users to input username and password to register. Write a program to check the validity of password input by users. Following are the criteria for checking the password:**\n",
    "\n",
    "**1. At least 1 letter between [a-z]**\n",
    "\n",
    "**2. At least 1 number between [0-9]**\n",
    "\n",
    "**1. At least 1 letter between [A-Z]**\n",
    "\n",
    "3. At least 1 character from [$#@]\n",
    "\n",
    "**4. Minimum length of transaction password: 6**\n",
    "\n",
    "**5. Maximum length of transaction password: 12**\n",
    "\n",
    "**Your program should accept a sequence of comma separated passwords and will check them\n",
    "according to the above criteria. Passwords that match the criteria are to be printed, each\n",
    "separated by a comma.**\n",
    "\n",
    "**Example**\n",
    "\n",
    "**If the following passwords are given as input to the program:**\n",
    "\n",
    "**ABd1234@1,a F1#,2w3E*,2We3345**\n",
    "\n",
    "**Then, the output of the program should be:**\n",
    "\n",
    "**ABd1234@1**"
   ]
  },
  {
   "cell_type": "markdown",
   "id": "902ca73d",
   "metadata": {},
   "source": [
    "**Solution:**"
   ]
  },
  {
   "cell_type": "code",
   "execution_count": 9,
   "id": "e4790fcb",
   "metadata": {},
   "outputs": [
    {
     "name": "stdout",
     "output_type": "stream",
     "text": [
      "Enter passwords separated by commas: ABd1234@1,a F1#,2w3E*,2We3345\n",
      "ABd1234@1\n"
     ]
    }
   ],
   "source": [
    "import re\n",
    "\n",
    "# Function to check if a password is valid\n",
    "def is_valid_password(password):\n",
    "    # Check the length of the password\n",
    "    if 6 <= len(password) <= 12:\n",
    "        # Check if the password matches all the criteria using regular expressions\n",
    "        if re.match(r\"^(?=.*[a-z])(?=.*[A-Z])(?=.*[0-9])(?=.*[$#@])\", password):\n",
    "            return True\n",
    "    return False\n",
    "\n",
    "# Accept input from the user as comma-separated passwords\n",
    "passwords = input(\"Enter passwords separated by commas: \").split(',')\n",
    "\n",
    "# Initialize a list to store valid passwords\n",
    "valid_passwords = []\n",
    "\n",
    "# Iterate through the passwords and check their validity\n",
    "for psw in passwords:\n",
    "    if is_valid_password(psw):\n",
    "        valid_passwords.append(psw)\n",
    "\n",
    "# Print the valid passwords separated by commas\n",
    "print(','.join(valid_passwords))"
   ]
  },
  {
   "cell_type": "code",
   "execution_count": null,
   "id": "ebcd148e",
   "metadata": {},
   "outputs": [],
   "source": []
  }
 ],
 "metadata": {
  "kernelspec": {
   "display_name": "Python 3 (ipykernel)",
   "language": "python",
   "name": "python3"
  },
  "language_info": {
   "codemirror_mode": {
    "name": "ipython",
    "version": 3
   },
   "file_extension": ".py",
   "mimetype": "text/x-python",
   "name": "python",
   "nbconvert_exporter": "python",
   "pygments_lexer": "ipython3",
   "version": "3.9.7"
  }
 },
 "nbformat": 4,
 "nbformat_minor": 5
}
