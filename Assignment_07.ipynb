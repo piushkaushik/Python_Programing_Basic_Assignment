{
 "cells": [
  {
   "cell_type": "markdown",
   "id": "9f893fe8",
   "metadata": {},
   "source": [
    "# 1. Write a Python Program to find sum of array?"
   ]
  },
  {
   "cell_type": "code",
   "execution_count": 3,
   "id": "7b5424b8",
   "metadata": {},
   "outputs": [
    {
     "name": "stdout",
     "output_type": "stream",
     "text": [
      "Sum of the array is  6\n"
     ]
    }
   ],
   "source": [
    "# Python Program to Find Sum of Array Using sum()\n",
    "arr = [1,2,3]\n",
    "\n",
    "ans = sum(arr)\n",
    " \n",
    "print('Sum of the array is ', ans)"
   ]
  },
  {
   "cell_type": "code",
   "execution_count": 5,
   "id": "74b6d299",
   "metadata": {},
   "outputs": [
    {
     "name": "stdout",
     "output_type": "stream",
     "text": [
      "Sum of the array: 6\n"
     ]
    }
   ],
   "source": [
    "# Function to find the sum of elements in an array\n",
    "def sum_of_array(arr):\n",
    "    total = 0  # Initialize a variable to store the sum\n",
    "    \n",
    "    for element in arr:\n",
    "        total += element  # Add each element to the total\n",
    "    \n",
    "    return total\n",
    "\n",
    "# Example usage:\n",
    "array = [1, 2, 3]\n",
    "result = sum_of_array(array)\n",
    "print(\"Sum of the array:\", result)\n"
   ]
  },
  {
   "cell_type": "markdown",
   "id": "000e4de6",
   "metadata": {},
   "source": [
    "# 2. Write a Python Program to find largest element in an array?"
   ]
  },
  {
   "cell_type": "code",
   "execution_count": 7,
   "id": "6f8adf9b",
   "metadata": {},
   "outputs": [
    {
     "name": "stdout",
     "output_type": "stream",
     "text": [
      "Largest in given array: 99\n"
     ]
    }
   ],
   "source": [
    "\n",
    "def largest(arr, n):\n",
    "    ans = max(arr)\n",
    "    # Return the maximum value as the result of this function.\n",
    "    return ans\n",
    "\n",
    "# Check if the script is being run directly (not imported as a module).\n",
    "if __name__ == '__main__':\n",
    "    # If the script is being run directly, create an array 'arr' containing integers.\n",
    "    arr = [10, 20,30,99]\n",
    "    # Calculate the length (number of elements) of the array and store it in 'n'.\n",
    "    n = len(arr)\n",
    "    # Print the result of calling the 'largest' function with 'arr' and 'n' as arguments.\n",
    "    print(\"Largest in given array:\", largest(arr, n))\n"
   ]
  },
  {
   "cell_type": "markdown",
   "id": "4b5152ce",
   "metadata": {},
   "source": [
    "# 3. Write a Python Program for array rotation?"
   ]
  },
  {
   "cell_type": "code",
   "execution_count": 15,
   "id": "15e0aab5",
   "metadata": {},
   "outputs": [
    {
     "name": "stdout",
     "output_type": "stream",
     "text": [
      "Original Array: [1, 2, 3, 4, 5]\n",
      "Rotated Array: [3, 4, 5, 1, 2]\n"
     ]
    }
   ],
   "source": [
    "def rotate_array(arr, d):\n",
    "    n = len(arr)\n",
    "    \n",
    "    # Check if 'd' is valid, it should be within the range of array length.\n",
    "    if d < 0 or d >= n:\n",
    "        return \"Invalid rotation value\"\n",
    "    \n",
    "    # Create a new array to store the rotated elements.\n",
    "    rotated_arr = [0] * n\n",
    "    \n",
    "    # Perform the rotation.\n",
    "    for i in range(n):\n",
    "        rotated_arr[i] = arr[(i + d) % n]\n",
    "    \n",
    "    return rotated_arr\n",
    "\n",
    "# Input array\n",
    "arr = [1, 2, 3, 4, 5]\n",
    "\n",
    "# Number of positions to rotate\n",
    "d = 2\n",
    "\n",
    "# Call the rotate_array function\n",
    "result = rotate_array(arr, d)\n",
    "\n",
    "# Print the rotated array\n",
    "print(\"Original Array:\", arr)\n",
    "print(\"Rotated Array:\", result)\n"
   ]
  },
  {
   "cell_type": "markdown",
   "id": "4ad50d3f",
   "metadata": {},
   "source": [
    "# 4. Write a Python Program to Split the array and add the first part to the end?"
   ]
  },
  {
   "cell_type": "code",
   "execution_count": 27,
   "id": "97f83a6b",
   "metadata": {},
   "outputs": [
    {
     "name": "stdout",
     "output_type": "stream",
     "text": [
      "Original Array: [1, 2, 3, 4, 5]\n",
      "Array after splitting and adding: [4, 5, 1, 2, 3]\n"
     ]
    }
   ],
   "source": [
    "def split_and_add(arr, k):\n",
    "    if k <= 0 or k >= len(arr):\n",
    "        return arr  \n",
    "\n",
    "    # Split the array into two parts\n",
    "    first_part = arr[:k]\n",
    "    second_part = arr[k:]\n",
    "\n",
    "    # Add the first part to the end of the second part\n",
    "    result = second_part + first_part\n",
    "\n",
    "    return result\n",
    "\n",
    "# Test the function\n",
    "arr = [1, 2, 3, 4, 5]\n",
    "k = 3\n",
    "result = split_and_add(arr, k)\n",
    "print(\"Original Array:\", arr)\n",
    "print(\"Array after splitting and adding:\", result)\n"
   ]
  },
  {
   "cell_type": "markdown",
   "id": "ec2fbc81",
   "metadata": {},
   "source": [
    "# 5. Write a Python Program to check if given array is Monotonic?"
   ]
  },
  {
   "cell_type": "code",
   "execution_count": 28,
   "id": "2bb27bc6",
   "metadata": {},
   "outputs": [
    {
     "name": "stdout",
     "output_type": "stream",
     "text": [
      "arr1 is monotonic: True\n",
      "arr2 is monotonic: True\n",
      "arr3 is monotonic: False\n"
     ]
    }
   ],
   "source": [
    "def is_monotonic(arr):\n",
    "    increasing = decreasing = True\n",
    "\n",
    "    for i in range(1, len(arr)):\n",
    "        if arr[i] > arr[i - 1]:\n",
    "            decreasing = False\n",
    "        elif arr[i] < arr[i - 1]:\n",
    "            increasing = False\n",
    "\n",
    "    return increasing or decreasing\n",
    "\n",
    "# Test the function\n",
    "arr1 = [1, 2, 2, 3]  # Monotonic (non-decreasing)\n",
    "arr2 = [3, 2, 1]     # Monotonic (non-increasing)\n",
    "arr3 = [1, 3, 2, 4]  # Not monotonic\n",
    "\n",
    "print(\"arr1 is monotonic:\", is_monotonic(arr1))\n",
    "print(\"arr2 is monotonic:\", is_monotonic(arr2))\n",
    "print(\"arr3 is monotonic:\", is_monotonic(arr3))\n"
   ]
  },
  {
   "cell_type": "code",
   "execution_count": null,
   "id": "543e5e03",
   "metadata": {},
   "outputs": [],
   "source": []
  }
 ],
 "metadata": {
  "kernelspec": {
   "display_name": "Python 3 (ipykernel)",
   "language": "python",
   "name": "python3"
  },
  "language_info": {
   "codemirror_mode": {
    "name": "ipython",
    "version": 3
   },
   "file_extension": ".py",
   "mimetype": "text/x-python",
   "name": "python",
   "nbconvert_exporter": "python",
   "pygments_lexer": "ipython3",
   "version": "3.9.7"
  }
 },
 "nbformat": 4,
 "nbformat_minor": 5
}
