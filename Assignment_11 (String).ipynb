{
 "cells": [
  {
   "cell_type": "markdown",
   "id": "c49e843c",
   "metadata": {},
   "source": [
    "# 1. Write a Python program to find words which are greater than given length k?"
   ]
  },
  {
   "cell_type": "code",
   "execution_count": 9,
   "id": "7c26282e",
   "metadata": {},
   "outputs": [
    {
     "name": "stdout",
     "output_type": "stream",
     "text": [
      "Words longer than 5 characters: ['banana', 'cherry', 'elderberry', 'dragon fruit']\n"
     ]
    }
   ],
   "source": [
    "def find_words(words, k):\n",
    "    # Create an empty list to store words greater than k\n",
    "    result = []\n",
    "\n",
    "    # Iterate through each word in the list\n",
    "    for i in words:\n",
    "        # Check if the length of the i is greater than k\n",
    "        if len(i) > k:\n",
    "            # If yes, append it to the result list\n",
    "            result.append(i)\n",
    "\n",
    "    return result\n",
    "\n",
    "# Example usage\n",
    "word_list = [\"apple\", \"banana\", \"cherry\", \"date\", \"elderberry\", \"dragon fruit\"]\n",
    "k = 5\n",
    "long_words = find_words(word_list, k)\n",
    "\n",
    "print(f\"Words longer than {k} characters: {long_words}\")\n"
   ]
  },
  {
   "cell_type": "markdown",
   "id": "6625e6ab",
   "metadata": {},
   "source": [
    "# 2. Write a Python program for removing i-th character from a string?"
   ]
  },
  {
   "cell_type": "code",
   "execution_count": 10,
   "id": "c263c583",
   "metadata": {},
   "outputs": [
    {
     "name": "stdout",
     "output_type": "stream",
     "text": [
      "Original String: Hello, wWorld!\n",
      "String after removing 7th character : Hello, World!\n"
     ]
    }
   ],
   "source": [
    "def remove_char(input_str, i):\n",
    "    # Check if i is a valid index\n",
    "    if i < 0 or i >= len(input_str):\n",
    "        print(f\"Invalid index {i}. The string remains unchanged.\")\n",
    "        return input_str\n",
    "\n",
    "    # Remove the i-th character using slicing\n",
    "    result_str = input_str[:i] + input_str[i + 1:]\n",
    "\n",
    "    return result_str\n",
    "\n",
    "# Input string\n",
    "input_str = \"Hello, wWorld!\"\n",
    "i = 7  # Index of the character to remove\n",
    "\n",
    "# Remove the i-th character\n",
    "new_str = remove_char(input_str, i)\n",
    "\n",
    "print(f\"Original String: {input_str}\")\n",
    "print(f\"String after removing {i}th character : {new_str}\")"
   ]
  },
  {
   "cell_type": "markdown",
   "id": "7771a30e",
   "metadata": {},
   "source": [
    "# 3. Write a Python program to split and join a string?"
   ]
  },
  {
   "cell_type": "code",
   "execution_count": 18,
   "id": "923af62d",
   "metadata": {},
   "outputs": [
    {
     "name": "stdout",
     "output_type": "stream",
     "text": [
      "Original String: Python program to split and join a string\n",
      "List of split Words: ['Python', 'program', 'to', 'split', 'and', 'join', 'a', 'string']\n",
      "Joined String: Python program to split and join a string\n"
     ]
    }
   ],
   "source": [
    "# Split a string into a list of words\n",
    "input_str = \"Python program to split and join a string\"\n",
    "word_list = input_str.split()  # By default, split on whitespace\n",
    "\n",
    "# Join the list of words into a string\n",
    "separator = \" \" # specify the separator between words\n",
    "output_str = separator.join(word_list)\n",
    "\n",
    "# Print the results\n",
    "print(\"Original String:\", input_str)\n",
    "print(\"List of split Words:\", word_list)\n",
    "print(\"Joined String:\", output_str)"
   ]
  },
  {
   "cell_type": "markdown",
   "id": "f671f969",
   "metadata": {},
   "source": [
    "# 4. Write a Python program to check if a given string is binary string or not?"
   ]
  },
  {
   "cell_type": "code",
   "execution_count": 25,
   "id": "b7c302b3",
   "metadata": {},
   "outputs": [
    {
     "name": "stdout",
     "output_type": "stream",
     "text": [
      "'1001110' is a binary string.\n"
     ]
    }
   ],
   "source": [
    "def is_binary_str(input_str):\n",
    "    # Iterate through each character in the input string\n",
    "    for i in input_str:\n",
    "        # Check if the i is not '0' or '1'\n",
    "        if i not in '01':\n",
    "            return False  # If any character is not '0' or '1', it's not a binary string\n",
    "    return True  # If all characters are '0' or '1', it's a binary string\n",
    "\n",
    "# Input string to check\n",
    "input_str = \"1001110\"\n",
    "\n",
    "# Check if the input string is a binary string\n",
    "if is_binary_str(input_str):\n",
    "    print(f\"'{input_str}' is a binary string.\")\n",
    "else:\n",
    "    print(f\"'{input_str}' is not a binary string.\")\n"
   ]
  },
  {
   "cell_type": "markdown",
   "id": "32363e93",
   "metadata": {},
   "source": [
    "# 5. Write a Python program to find uncommon words from two Strings?"
   ]
  },
  {
   "cell_type": "code",
   "execution_count": 28,
   "id": "21b1e48b",
   "metadata": {},
   "outputs": [
    {
     "name": "stdout",
     "output_type": "stream",
     "text": [
      "Uncommon words: ['and', 'second', 'first']\n"
     ]
    }
   ],
   "source": [
    "def uncommon_words(str1, str2):\n",
    "    # Split the strings into words and convert them to sets\n",
    "    words1 = set(str1.split())\n",
    "    words2 = set(str2.split())\n",
    "    \n",
    "    # Find uncommon words by taking the set difference\n",
    "    uncommon_words_set = words1.symmetric_difference(words2)\n",
    "    \n",
    "    # Convert the set of uncommon words back to a list\n",
    "    uncommon_words_list = list(uncommon_words_set)\n",
    "    \n",
    "    return uncommon_words_list\n",
    "\n",
    "# Input two strings\n",
    "string1 = \"This is the first string\"\n",
    "string2 = \"This is the second string\"\n",
    "\n",
    "# Find uncommon words between the two strings\n",
    "uncommon = uncommon_words(string1, string2)\n",
    "\n",
    "# Print the uncommon words\n",
    "print(\"Uncommon words:\", uncommon)"
   ]
  },
  {
   "cell_type": "markdown",
   "id": "890792ee",
   "metadata": {},
   "source": [
    "# 6. Write a Python program to find all duplicate characters in string?"
   ]
  },
  {
   "cell_type": "code",
   "execution_count": 33,
   "id": "4faca96c",
   "metadata": {},
   "outputs": [
    {
     "name": "stdout",
     "output_type": "stream",
     "text": [
      "Duplicate characters: ['s', 'h', 'a']\n"
     ]
    }
   ],
   "source": [
    "def find_duplicates(input_str):\n",
    "    # Create an empty dictionary to store character counts\n",
    "    char_count = {}\n",
    "    \n",
    "    # Initialize a list to store duplicate characters\n",
    "    duplicates = []\n",
    "    \n",
    "    # Iterate through each character in the input string\n",
    "    for i in input_str:\n",
    "        # If the character is already in the dictionary, increment its count\n",
    "        if i in char_count:\n",
    "            char_count[i] += 1\n",
    "        else:\n",
    "            char_count[i] = 1\n",
    "    \n",
    "    # Iterate through the dictionary and add characters with count > 1 to duplicates list\n",
    "    for i, count in char_count.items():\n",
    "        if count > 1:\n",
    "            duplicates.append(i)\n",
    "    \n",
    "    return duplicates\n",
    "\n",
    "# Input a string\n",
    "input_string = \"piyush sharma\"\n",
    "\n",
    "# Find duplicate characters in the string\n",
    "duplicate_chars = find_duplicates(input_string)\n",
    "\n",
    "# Print the list of duplicate characters\n",
    "print(\"Duplicate characters:\", duplicate_chars)\n"
   ]
  },
  {
   "cell_type": "markdown",
   "id": "1197acb2",
   "metadata": {},
   "source": [
    "# 7. Write a Python Program to check if a string contains any special character?"
   ]
  },
  {
   "cell_type": "code",
   "execution_count": 39,
   "id": "7f9c08e1",
   "metadata": {},
   "outputs": [
    {
     "name": "stdout",
     "output_type": "stream",
     "text": [
      "Enter a string: \"Hello, World!\"\n",
      "The string contains special characters.\n"
     ]
    }
   ],
   "source": [
    "import re\n",
    "\n",
    "def check_special_char(in_str):\n",
    "    # Define a regular expression pattern to match special characters\n",
    "    pattern = r'[!@#$%^&*()_+{}\\[\\]:;<>,.?~\\\\\\/\\'\"\\-=]'\n",
    "\n",
    "    # Use re.search to find a match in the input string\n",
    "    if re.search(pattern, in_str):\n",
    "        return True\n",
    "    else:\n",
    "        return False\n",
    "\n",
    "# Input a string\n",
    "input_string = str(input(\"Enter a string: \"))\n",
    "\n",
    "# Check if the string contains any special characters\n",
    "contains_special = check_special_char(input_string)\n",
    "\n",
    "# Print the result\n",
    "if contains_special:\n",
    "    print(\"The string contains special characters.\")\n",
    "else:\n",
    "    print(\"The string does not contain special characters.\")"
   ]
  },
  {
   "cell_type": "code",
   "execution_count": null,
   "id": "ec3b445f",
   "metadata": {},
   "outputs": [],
   "source": []
  }
 ],
 "metadata": {
  "kernelspec": {
   "display_name": "Python 3 (ipykernel)",
   "language": "python",
   "name": "python3"
  },
  "language_info": {
   "codemirror_mode": {
    "name": "ipython",
    "version": 3
   },
   "file_extension": ".py",
   "mimetype": "text/x-python",
   "name": "python",
   "nbconvert_exporter": "python",
   "pygments_lexer": "ipython3",
   "version": "3.9.7"
  }
 },
 "nbformat": 4,
 "nbformat_minor": 5
}
