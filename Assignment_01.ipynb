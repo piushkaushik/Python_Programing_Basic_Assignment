{
 "cells": [
  {
   "cell_type": "markdown",
   "id": "d563a40f",
   "metadata": {},
   "source": [
    "# Program 1. Write a Python program to print \"Hello Python\"."
   ]
  },
  {
   "cell_type": "code",
   "execution_count": 1,
   "id": "635b6b2a",
   "metadata": {},
   "outputs": [
    {
     "name": "stdout",
     "output_type": "stream",
     "text": [
      "Hello Python\n"
     ]
    }
   ],
   "source": [
    "print(\"Hello Python\")"
   ]
  },
  {
   "cell_type": "markdown",
   "id": "d551d0a4",
   "metadata": {},
   "source": [
    "# Program 2. Write a Python program to do arithmetical operations addition and division."
   ]
  },
  {
   "cell_type": "code",
   "execution_count": 20,
   "id": "46e95e7c",
   "metadata": {},
   "outputs": [
    {
     "name": "stdout",
     "output_type": "stream",
     "text": [
      "Enter the first number for addition: 5\n",
      "Enter the second number for addition: 6\n",
      "sum: 5.0 + 6.0 = 11.0\n"
     ]
    }
   ],
   "source": [
    "# Addition\n",
    "num1 = float(input(\"Enter the first number for addition: \"))\n",
    "num2 = float(input(\"Enter the second number for addition: \"))\n",
    "sum_result = num1 + num2\n",
    "print(f\"sum: {num1} + {num2} = {sum_result}\")"
   ]
  },
  {
   "cell_type": "code",
   "execution_count": 10,
   "id": "19fc7466",
   "metadata": {},
   "outputs": [
    {
     "name": "stdout",
     "output_type": "stream",
     "text": [
      "Enter the dividend for division: 3\n",
      "Enter the divisor for division: 0\n",
      "Error: Division by zero is not allowed.\n"
     ]
    }
   ],
   "source": [
    "# Division\n",
    "num3 = float(input(\"Enter the dividend for division: \"))\n",
    "num4 = float(input(\"Enter the divisor for division: \"))\n",
    "if num4 == 0:\n",
    "    print(\"Error: Division by zero is not allowed.\")\n",
    "else:\n",
    "    div_result = num3 / num4\n",
    "    print(f\"Division: {num3} / {num4} = {div_result}\")"
   ]
  },
  {
   "cell_type": "markdown",
   "id": "21b97180",
   "metadata": {},
   "source": [
    "# Program 3. Write a Python program to find the area of a triangle?"
   ]
  },
  {
   "cell_type": "code",
   "execution_count": 11,
   "id": "e52cc573",
   "metadata": {},
   "outputs": [
    {
     "name": "stdout",
     "output_type": "stream",
     "text": [
      "Enter the length of the base of the triangle: 10\n",
      "Enter the height of the triangle: 15\n",
      "The area of the triangle is: 75.0\n"
     ]
    }
   ],
   "source": [
    "# Input the base and height from the user\n",
    "\n",
    "base = float(input(\"Enter the length of the base of the triangle: \"))\n",
    "height = float(input(\"Enter the height of the triangle: \"))\n",
    "\n",
    "# Calculate the area of the triangle\n",
    "area = 0.5 * base * height\n",
    "\n",
    "# Display the result\n",
    "print(f\"The area of the triangle is: {area}\")"
   ]
  },
  {
   "cell_type": "markdown",
   "id": "55ddcef8",
   "metadata": {},
   "source": [
    "# Program 4. Write a Python program to swap two variables?"
   ]
  },
  {
   "cell_type": "code",
   "execution_count": 12,
   "id": "2b04002e",
   "metadata": {},
   "outputs": [
    {
     "name": "stdout",
     "output_type": "stream",
     "text": [
      "Enter the value of the first variable (a): 5\n",
      "Enter the value of the second variable (b): 9\n",
      "Original values: a = 5, b = 9\n",
      "Swapped values: a = 9, b = 5\n"
     ]
    }
   ],
   "source": [
    "# Input two variables\n",
    "\n",
    "a = input(\"Enter the value of the first variable (a): \")\n",
    "b = input(\"Enter the value of the second variable (b): \")\n",
    "\n",
    "# Display the original values\n",
    "print(f\"Original values: a = {a}, b = {b}\")\n",
    "\n",
    "# Swap the values using a temporary variable\n",
    "\n",
    "temp = a\n",
    "a = b\n",
    "b = temp\n",
    "\n",
    "# Display the swapped values\n",
    "print(f\"Swapped values: a = {a}, b = {b}\")\n"
   ]
  },
  {
   "cell_type": "markdown",
   "id": "d80d7f6a",
   "metadata": {},
   "source": [
    "# Program 5. Write a Python program to generate a random number?"
   ]
  },
  {
   "cell_type": "code",
   "execution_count": 19,
   "id": "f07c6b0d",
   "metadata": {},
   "outputs": [
    {
     "name": "stdout",
     "output_type": "stream",
     "text": [
      "Random number: 54\n"
     ]
    }
   ],
   "source": [
    "import random\n",
    "\n",
    "print(f\"Random number: {random.randint(1, 100)}\")\n"
   ]
  },
  {
   "cell_type": "code",
   "execution_count": null,
   "id": "f711bfe8",
   "metadata": {},
   "outputs": [],
   "source": []
  }
 ],
 "metadata": {
  "kernelspec": {
   "display_name": "Python 3 (ipykernel)",
   "language": "python",
   "name": "python3"
  },
  "language_info": {
   "codemirror_mode": {
    "name": "ipython",
    "version": 3
   },
   "file_extension": ".py",
   "mimetype": "text/x-python",
   "name": "python",
   "nbconvert_exporter": "python",
   "pygments_lexer": "ipython3",
   "version": "3.9.7"
  }
 },
 "nbformat": 4,
 "nbformat_minor": 5
}
