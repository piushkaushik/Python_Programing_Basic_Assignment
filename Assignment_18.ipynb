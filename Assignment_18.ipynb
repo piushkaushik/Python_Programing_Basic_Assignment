{
 "cells": [
  {
   "cell_type": "markdown",
   "id": "c6c07e7a",
   "metadata": {},
   "source": [
    "**Question 1**\n",
    "\n",
    "**Create a function that takes a list of non-negative integers and strings and return a new list without the strings.**\n",
    "\n",
    "**Examples**\n",
    "\n",
    "**filter_list([1, 2, \"a\", \"b\"]) ➞ [1, 2]**\n",
    "\n",
    "**filter_list([1, \"a\", \"b\", 0, 15]) ➞ [1, 0, 15]**\n",
    "\n",
    "**filter_list([1, 2, \"aasf\", \"1\", \"123\", 123]) ➞ [1, 2, 123]**"
   ]
  },
  {
   "cell_type": "markdown",
   "id": "a3b2d882",
   "metadata": {},
   "source": [
    "**Solution:**"
   ]
  },
  {
   "cell_type": "code",
   "execution_count": 1,
   "id": "5ede7caa",
   "metadata": {},
   "outputs": [],
   "source": [
    "def filter_list(lst):\n",
    "    # Initialize an empty list to store non-string elements\n",
    "    result = []\n",
    "    \n",
    "    # Iterate through the elements in the input list\n",
    "    for element in lst:\n",
    "        # Check if the element is a non-negative integer (not a string)\n",
    "        if isinstance(element, int) and element >= 0:\n",
    "            result.append(element)\n",
    "    \n",
    "    return result"
   ]
  },
  {
   "cell_type": "code",
   "execution_count": 2,
   "id": "ee126cd2",
   "metadata": {},
   "outputs": [
    {
     "data": {
      "text/plain": [
       "[1, 2]"
      ]
     },
     "execution_count": 2,
     "metadata": {},
     "output_type": "execute_result"
    }
   ],
   "source": [
    "filter_list([1, 2, \"a\", \"b\"]) "
   ]
  },
  {
   "cell_type": "code",
   "execution_count": 3,
   "id": "f205e3d6",
   "metadata": {},
   "outputs": [
    {
     "data": {
      "text/plain": [
       "[1, 0, 15]"
      ]
     },
     "execution_count": 3,
     "metadata": {},
     "output_type": "execute_result"
    }
   ],
   "source": [
    "filter_list([1, \"a\", \"b\", 0, 15])"
   ]
  },
  {
   "cell_type": "code",
   "execution_count": 4,
   "id": "336235a9",
   "metadata": {},
   "outputs": [
    {
     "data": {
      "text/plain": [
       "[1, 2, 123]"
      ]
     },
     "execution_count": 4,
     "metadata": {},
     "output_type": "execute_result"
    }
   ],
   "source": [
    "filter_list([1, 2, \"aasf\", \"1\", \"123\", 123])"
   ]
  },
  {
   "cell_type": "markdown",
   "id": "87856329",
   "metadata": {},
   "source": [
    "**Question 2**\n",
    "\n",
    "**The \"Reverser\" takes a string as input and returns that string in reverse order, with the opposite case.**\n",
    "\n",
    "**Examples**\n",
    "\n",
    "**reverse(\"Hello World\") ➞ \"DLROw OLLEh\"**\n",
    "\n",
    "**reverse(\"ReVeRsE\") ➞ \"eSrEvEr\"**\n",
    "\n",
    "**reverse(\"Radar\") ➞ \"RADAr\"**"
   ]
  },
  {
   "cell_type": "markdown",
   "id": "959b16f1",
   "metadata": {},
   "source": [
    "**Solution:**"
   ]
  },
  {
   "cell_type": "code",
   "execution_count": 5,
   "id": "247e7683",
   "metadata": {},
   "outputs": [],
   "source": [
    "def reverse(input_str):\n",
    "    # Reverse the string and swap the case of characters\n",
    "    reversed_str = input_str[::-1].swapcase()\n",
    "    \n",
    "    return reversed_str"
   ]
  },
  {
   "cell_type": "code",
   "execution_count": 6,
   "id": "93453abd",
   "metadata": {},
   "outputs": [
    {
     "data": {
      "text/plain": [
       "'DLROw OLLEh'"
      ]
     },
     "execution_count": 6,
     "metadata": {},
     "output_type": "execute_result"
    }
   ],
   "source": [
    "reverse(\"Hello World\")"
   ]
  },
  {
   "cell_type": "code",
   "execution_count": 7,
   "id": "be082087",
   "metadata": {},
   "outputs": [
    {
     "data": {
      "text/plain": [
       "'eSrEvEr'"
      ]
     },
     "execution_count": 7,
     "metadata": {},
     "output_type": "execute_result"
    }
   ],
   "source": [
    "reverse(\"ReVeRsE\")"
   ]
  },
  {
   "cell_type": "code",
   "execution_count": 8,
   "id": "caede242",
   "metadata": {},
   "outputs": [
    {
     "data": {
      "text/plain": [
       "'RADAr'"
      ]
     },
     "execution_count": 8,
     "metadata": {},
     "output_type": "execute_result"
    }
   ],
   "source": [
    "reverse(\"Radar\") "
   ]
  },
  {
   "cell_type": "markdown",
   "id": "af3ec0c2",
   "metadata": {},
   "source": [
    "**Question 3**\n",
    "\n",
    "**You can assign variables from lists like this:**\n",
    "\n",
    "**lst = [1, 2, 3, 4, 5, 6]**\n",
    "\n",
    "**first = lst[0]**\n",
    "\n",
    "**middle = lst[1:-1]**\n",
    "\n",
    "**last = lst[-1]**\n",
    "\n",
    "**print(first) ➞ outputs 1**\n",
    "\n",
    "**print(middle) ➞ outputs [2, 3, 4, 5]**\n",
    "\n",
    "**print(last) ➞ outputs 6**\n",
    "\n",
    "**With Python 3, you can assign variables from lists in a much more succinct way. Create variables first, middle and last from the given list using destructuring assignment (check the Resources tab for some examples), where:**\n",
    "\n",
    "**first ➞ 1**\n",
    "\n",
    "**middle ➞ [2, 3, 4, 5]**\n",
    "\n",
    "**last ➞ 6**\n",
    "\n",
    "**Your task is to unpack the list `writeyourcodehere` into three variables, being `first`, `middle`, and `last`, with `middle` being everything in between the first and last element. Then print all three variables.**"
   ]
  },
  {
   "cell_type": "markdown",
   "id": "093932da",
   "metadata": {},
   "source": [
    "**Solution:**"
   ]
  },
  {
   "cell_type": "code",
   "execution_count": 9,
   "id": "f6d48f0e",
   "metadata": {},
   "outputs": [],
   "source": [
    "writeyourcodehere = [1, 2, 3, 4, 5, 6]\n",
    "\n",
    "# Unpack the list into variables\n",
    "first, *middle, last = writeyourcodehere"
   ]
  },
  {
   "cell_type": "code",
   "execution_count": 13,
   "id": "11ccbbb9",
   "metadata": {},
   "outputs": [
    {
     "data": {
      "text/plain": [
       "1"
      ]
     },
     "execution_count": 13,
     "metadata": {},
     "output_type": "execute_result"
    }
   ],
   "source": [
    "first"
   ]
  },
  {
   "cell_type": "code",
   "execution_count": 14,
   "id": "556de59e",
   "metadata": {},
   "outputs": [
    {
     "data": {
      "text/plain": [
       "[2, 3, 4, 5]"
      ]
     },
     "execution_count": 14,
     "metadata": {},
     "output_type": "execute_result"
    }
   ],
   "source": [
    "middle"
   ]
  },
  {
   "cell_type": "code",
   "execution_count": 15,
   "id": "785ae90b",
   "metadata": {},
   "outputs": [
    {
     "data": {
      "text/plain": [
       "6"
      ]
     },
     "execution_count": 15,
     "metadata": {},
     "output_type": "execute_result"
    }
   ],
   "source": [
    "last"
   ]
  },
  {
   "cell_type": "markdown",
   "id": "52b14a59",
   "metadata": {},
   "source": [
    "**Question 4**\n",
    "\n",
    "**Write a function that calculates the factorial of a number recursively.**\n",
    "\n",
    "**Examples**\n",
    "\n",
    "**factorial(5) ➞ 120**\n",
    "\n",
    "**factorial(3) ➞ 6**\n",
    "\n",
    "**factorial(1) ➞ 1**\n",
    "\n",
    "**factorial(0) ➞ 1**"
   ]
  },
  {
   "cell_type": "markdown",
   "id": "db373bb1",
   "metadata": {},
   "source": [
    "**Solution:**"
   ]
  },
  {
   "cell_type": "code",
   "execution_count": 16,
   "id": "de2caffc",
   "metadata": {},
   "outputs": [],
   "source": [
    "def factorial(n):\n",
    "    if n == 0:\n",
    "        return 1  # Base case: factorial of 0 is 1\n",
    "    else:\n",
    "        return n * factorial(n - 1)  # Recursive case: n! = n * (n-1)!"
   ]
  },
  {
   "cell_type": "code",
   "execution_count": 17,
   "id": "ad3aad63",
   "metadata": {},
   "outputs": [
    {
     "data": {
      "text/plain": [
       "120"
      ]
     },
     "execution_count": 17,
     "metadata": {},
     "output_type": "execute_result"
    }
   ],
   "source": [
    "factorial(5) "
   ]
  },
  {
   "cell_type": "code",
   "execution_count": 18,
   "id": "83d9e160",
   "metadata": {},
   "outputs": [
    {
     "data": {
      "text/plain": [
       "6"
      ]
     },
     "execution_count": 18,
     "metadata": {},
     "output_type": "execute_result"
    }
   ],
   "source": [
    "factorial(3)"
   ]
  },
  {
   "cell_type": "code",
   "execution_count": 19,
   "id": "15e39b39",
   "metadata": {},
   "outputs": [
    {
     "data": {
      "text/plain": [
       "1"
      ]
     },
     "execution_count": 19,
     "metadata": {},
     "output_type": "execute_result"
    }
   ],
   "source": [
    "factorial(1)"
   ]
  },
  {
   "cell_type": "code",
   "execution_count": 20,
   "id": "acabcef4",
   "metadata": {},
   "outputs": [
    {
     "data": {
      "text/plain": [
       "1"
      ]
     },
     "execution_count": 20,
     "metadata": {},
     "output_type": "execute_result"
    }
   ],
   "source": [
    "factorial(0)"
   ]
  },
  {
   "cell_type": "markdown",
   "id": "8803cee2",
   "metadata": {},
   "source": [
    "**Question 5**\n",
    "\n",
    "**Write a function that moves all elements of one type to the end of the list.**\n",
    "\n",
    "**Examples**\n",
    "\n",
    "**move_to_end([1, 3, 2, 4, 4, 1], 1) ➞ [3, 2, 4, 4, 1, 1]**\n",
    "\n",
    "**Move all the 1s to the end of the array.**\n",
    "\n",
    "**move_to_end([7, 8, 9, 1, 2, 3, 4], 9) ➞ [7, 8, 1, 2, 3, 4, 9]**\n",
    "\n",
    "**move_to_end([\"a\", \"a\", \"a\", \"b\"], \"a\") ➞ [\"b\", \"a\", \"a\", \"a\"]**"
   ]
  },
  {
   "cell_type": "markdown",
   "id": "05fca4fa",
   "metadata": {},
   "source": [
    "**Solution:**"
   ]
  },
  {
   "cell_type": "code",
   "execution_count": 25,
   "id": "d6a5283b",
   "metadata": {},
   "outputs": [],
   "source": [
    "def move_to_end(lst, element):\n",
    "    # Initialize a count for the specified element\n",
    "    count = lst.count(element)\n",
    "    \n",
    "    # Remove all occurrences of the element from the list\n",
    "    lst = [x for x in lst if x != element]\n",
    "    \n",
    "    # Append the element to the end of the list count times\n",
    "    lst.extend([element] * count)\n",
    "    \n",
    "    return lst"
   ]
  },
  {
   "cell_type": "code",
   "execution_count": 22,
   "id": "1e975144",
   "metadata": {},
   "outputs": [
    {
     "data": {
      "text/plain": [
       "[3, 2, 4, 4, 1, 1]"
      ]
     },
     "execution_count": 22,
     "metadata": {},
     "output_type": "execute_result"
    }
   ],
   "source": [
    "move_to_end([1, 3, 2, 4, 4, 1], 1)"
   ]
  },
  {
   "cell_type": "code",
   "execution_count": 23,
   "id": "c389117b",
   "metadata": {},
   "outputs": [
    {
     "data": {
      "text/plain": [
       "[7, 8, 1, 2, 3, 4, 9]"
      ]
     },
     "execution_count": 23,
     "metadata": {},
     "output_type": "execute_result"
    }
   ],
   "source": [
    "move_to_end([7, 8, 9, 1, 2, 3, 4], 9)"
   ]
  },
  {
   "cell_type": "code",
   "execution_count": 24,
   "id": "d63b6f9c",
   "metadata": {},
   "outputs": [
    {
     "data": {
      "text/plain": [
       "['b', 'a', 'a', 'a']"
      ]
     },
     "execution_count": 24,
     "metadata": {},
     "output_type": "execute_result"
    }
   ],
   "source": [
    "move_to_end([\"a\", \"a\", \"a\", \"b\"], \"a\") "
   ]
  },
  {
   "cell_type": "code",
   "execution_count": null,
   "id": "85e06ff5",
   "metadata": {},
   "outputs": [],
   "source": []
  }
 ],
 "metadata": {
  "kernelspec": {
   "display_name": "Python 3 (ipykernel)",
   "language": "python",
   "name": "python3"
  },
  "language_info": {
   "codemirror_mode": {
    "name": "ipython",
    "version": 3
   },
   "file_extension": ".py",
   "mimetype": "text/x-python",
   "name": "python",
   "nbconvert_exporter": "python",
   "pygments_lexer": "ipython3",
   "version": "3.9.7"
  }
 },
 "nbformat": 4,
 "nbformat_minor": 5
}
