{
 "cells": [
  {
   "cell_type": "markdown",
   "id": "dbdc356e",
   "metadata": {},
   "source": [
    "**Question1**\n",
    "\n",
    "**Create a function that takes a list of strings and integers, and filters out the list so that it returns a list of integers only.**\n",
    "\n",
    "**Examples**\n",
    "\n",
    "**filter_list([1, 2, 3, \"a\", \"b\", 4]) ➞ [1, 2, 3, 4]**\n",
    "\n",
    "**filter_list([\"A\", 0, \"Edabit\", 1729, \"Python\", 1729]) ➞ [0, 1729]**\n",
    "\n",
    "**filter_list([\"Nothing\", \"here\"]) ➞ []**"
   ]
  },
  {
   "cell_type": "markdown",
   "id": "6ed150bb",
   "metadata": {},
   "source": [
    "**Solution:**"
   ]
  },
  {
   "cell_type": "code",
   "execution_count": 1,
   "id": "b936d8d2",
   "metadata": {},
   "outputs": [],
   "source": [
    "def filter_list(lst):\n",
    "    # Use a list comprehension to filter out integers\n",
    "    return [x for x in lst if isinstance(x, int)]"
   ]
  },
  {
   "cell_type": "code",
   "execution_count": 2,
   "id": "11540624",
   "metadata": {},
   "outputs": [
    {
     "data": {
      "text/plain": [
       "[1, 2, 3, 4]"
      ]
     },
     "execution_count": 2,
     "metadata": {},
     "output_type": "execute_result"
    }
   ],
   "source": [
    "filter_list([1, 2, 3, \"a\", \"b\", 4]) "
   ]
  },
  {
   "cell_type": "code",
   "execution_count": 3,
   "id": "db0118fd",
   "metadata": {},
   "outputs": [
    {
     "data": {
      "text/plain": [
       "[0, 1729, 1729]"
      ]
     },
     "execution_count": 3,
     "metadata": {},
     "output_type": "execute_result"
    }
   ],
   "source": [
    "filter_list([\"A\", 0, \"Edabit\", 1729, \"Python\", 1729]) "
   ]
  },
  {
   "cell_type": "code",
   "execution_count": 4,
   "id": "22c42221",
   "metadata": {},
   "outputs": [
    {
     "data": {
      "text/plain": [
       "[0, 1729, 1729]"
      ]
     },
     "execution_count": 4,
     "metadata": {},
     "output_type": "execute_result"
    }
   ],
   "source": [
    "filter_list([\"A\", 0, \"Edabit\", 1729, \"Python\", 1729])"
   ]
  },
  {
   "cell_type": "code",
   "execution_count": 5,
   "id": "1dca46e7",
   "metadata": {},
   "outputs": [
    {
     "data": {
      "text/plain": [
       "[]"
      ]
     },
     "execution_count": 5,
     "metadata": {},
     "output_type": "execute_result"
    }
   ],
   "source": [
    "filter_list([\"Nothing\", \"here\"])"
   ]
  },
  {
   "cell_type": "markdown",
   "id": "67789541",
   "metadata": {},
   "source": [
    "**Question2**\n",
    "\n",
    "**Given a list of numbers, create a function which returns the list but with each element's index in the list added to itself. This means you add 0 to the number at index 0, add 1 to the number at index 1, etc...**\n",
    "\n",
    "**Examples**\n",
    "\n",
    "**add_indexes([0, 0, 0, 0, 0]) ➞ [0, 1, 2, 3, 4]**\n",
    "\n",
    "**add_indexes([1, 2, 3, 4, 5]) ➞ [1, 3, 5, 7, 9]**\n",
    "\n",
    "**add_indexes([5, 4, 3, 2, 1]) ➞ [5, 5, 5, 5, 5]**"
   ]
  },
  {
   "cell_type": "markdown",
   "id": "836a3544",
   "metadata": {},
   "source": [
    "**Solution:**"
   ]
  },
  {
   "cell_type": "code",
   "execution_count": 6,
   "id": "e20e04b7",
   "metadata": {},
   "outputs": [],
   "source": [
    "def add_indexes(lst):\n",
    "    # Use list comprehension to add index to each element\n",
    "    return [i + val for i, val in enumerate(lst)]"
   ]
  },
  {
   "cell_type": "code",
   "execution_count": 7,
   "id": "f3804587",
   "metadata": {},
   "outputs": [
    {
     "data": {
      "text/plain": [
       "[0, 1, 2, 3, 4]"
      ]
     },
     "execution_count": 7,
     "metadata": {},
     "output_type": "execute_result"
    }
   ],
   "source": [
    "add_indexes([0, 0, 0, 0, 0]) "
   ]
  },
  {
   "cell_type": "code",
   "execution_count": 8,
   "id": "387ef97e",
   "metadata": {},
   "outputs": [
    {
     "data": {
      "text/plain": [
       "[1, 3, 5, 7, 9]"
      ]
     },
     "execution_count": 8,
     "metadata": {},
     "output_type": "execute_result"
    }
   ],
   "source": [
    "add_indexes([1, 2, 3, 4, 5])"
   ]
  },
  {
   "cell_type": "code",
   "execution_count": 9,
   "id": "7d4983a1",
   "metadata": {},
   "outputs": [
    {
     "data": {
      "text/plain": [
       "[5, 5, 5, 5, 5]"
      ]
     },
     "execution_count": 9,
     "metadata": {},
     "output_type": "execute_result"
    }
   ],
   "source": [
    "add_indexes([5, 4, 3, 2, 1])"
   ]
  },
  {
   "cell_type": "markdown",
   "id": "553588f3",
   "metadata": {},
   "source": [
    "**Question3**\n",
    "\n",
    "**Create a function that takes the height and radius of a cone as arguments and returns the volume of the cone rounded to the nearest hundredth. See the resources tab for the formula.**\n",
    "\n",
    "**Examples**\n",
    "\n",
    "**cone_volume(3, 2) ➞ 12.57**\n",
    "\n",
    "**cone_volume(15, 6) ➞ 565.49**\n",
    "\n",
    "**cone_volume(18, 0) ➞ 0**"
   ]
  },
  {
   "cell_type": "markdown",
   "id": "248de5b6",
   "metadata": {},
   "source": [
    "**Solution:**"
   ]
  },
  {
   "cell_type": "code",
   "execution_count": 10,
   "id": "c51a8148",
   "metadata": {},
   "outputs": [],
   "source": [
    "import math\n",
    "\n",
    "def cone_volume(height, radius):\n",
    "    if radius == 0:\n",
    "        return 0\n",
    "    volume = (1/3) * math.pi * (radius**2) * height\n",
    "    return round(volume, 2)"
   ]
  },
  {
   "cell_type": "code",
   "execution_count": 11,
   "id": "77bc4beb",
   "metadata": {},
   "outputs": [
    {
     "data": {
      "text/plain": [
       "12.57"
      ]
     },
     "execution_count": 11,
     "metadata": {},
     "output_type": "execute_result"
    }
   ],
   "source": [
    "cone_volume(3, 2)"
   ]
  },
  {
   "cell_type": "code",
   "execution_count": 12,
   "id": "7c902417",
   "metadata": {},
   "outputs": [
    {
     "data": {
      "text/plain": [
       "565.49"
      ]
     },
     "execution_count": 12,
     "metadata": {},
     "output_type": "execute_result"
    }
   ],
   "source": [
    "cone_volume(15, 6)"
   ]
  },
  {
   "cell_type": "code",
   "execution_count": 13,
   "id": "74680270",
   "metadata": {},
   "outputs": [
    {
     "data": {
      "text/plain": [
       "0"
      ]
     },
     "execution_count": 13,
     "metadata": {},
     "output_type": "execute_result"
    }
   ],
   "source": [
    "cone_volume(18, 0) "
   ]
  },
  {
   "cell_type": "markdown",
   "id": "b596c246",
   "metadata": {},
   "source": [
    "**Question4**\n",
    "\n",
    "**This Triangular Number Sequence is generated from a pattern of dots that form a triangle. The first 5 numbers of the sequence, or dots, are:**\n",
    "\n",
    "**1, 3, 6, 10, 15**\n",
    "\n",
    "**This means that the first triangle has just one dot, the second one has three dots, the third one\n",
    "has 6 dots and so on.**\n",
    "\n",
    "**Write a function that gives the number of dots with its corresponding triangle number of the sequence.**\n",
    "\n",
    "**Examples**\n",
    "\n",
    "**triangle(1) ➞ 1**\n",
    "\n",
    "**triangle(6) ➞ 21**\n",
    "\n",
    "**triangle(215) ➞ 23220**"
   ]
  },
  {
   "cell_type": "markdown",
   "id": "0ce1611f",
   "metadata": {},
   "source": [
    "**Solution:**"
   ]
  },
  {
   "cell_type": "code",
   "execution_count": 14,
   "id": "23fe481c",
   "metadata": {},
   "outputs": [],
   "source": [
    "def triangle(n):\n",
    "    if n < 1:\n",
    "        return 0\n",
    "    return n * (n + 1) // 2"
   ]
  },
  {
   "cell_type": "code",
   "execution_count": 15,
   "id": "5dcacabe",
   "metadata": {},
   "outputs": [
    {
     "data": {
      "text/plain": [
       "1"
      ]
     },
     "execution_count": 15,
     "metadata": {},
     "output_type": "execute_result"
    }
   ],
   "source": [
    "triangle(1) "
   ]
  },
  {
   "cell_type": "code",
   "execution_count": 16,
   "id": "cd5dfdb2",
   "metadata": {},
   "outputs": [
    {
     "data": {
      "text/plain": [
       "21"
      ]
     },
     "execution_count": 16,
     "metadata": {},
     "output_type": "execute_result"
    }
   ],
   "source": [
    "triangle(6) "
   ]
  },
  {
   "cell_type": "code",
   "execution_count": 18,
   "id": "89a87dae",
   "metadata": {},
   "outputs": [
    {
     "data": {
      "text/plain": [
       "23220"
      ]
     },
     "execution_count": 18,
     "metadata": {},
     "output_type": "execute_result"
    }
   ],
   "source": [
    "triangle(215)"
   ]
  },
  {
   "cell_type": "markdown",
   "id": "40a91f87",
   "metadata": {},
   "source": [
    "**Question5**\n",
    "\n",
    "**Create a function that takes a list of numbers between 1 and 10 (excluding one number) and returns the missing number.**\n",
    "\n",
    "**Examples**\n",
    "\n",
    "**missing_num([1, 2, 3, 4, 6, 7, 8, 9, 10]) ➞ 5**\n",
    "\n",
    "**missing_num([7, 2, 3, 6, 5, 9, 1, 4, 8]) ➞ 10**\n",
    "\n",
    "**missing_num([10, 5, 1, 2, 4, 6, 8, 3, 9]) ➞ 7**"
   ]
  },
  {
   "cell_type": "markdown",
   "id": "54b35830",
   "metadata": {},
   "source": [
    "**Solution:**"
   ]
  },
  {
   "cell_type": "code",
   "execution_count": 19,
   "id": "faa359b8",
   "metadata": {},
   "outputs": [],
   "source": [
    "def missing_num(lst):\n",
    "    total_sum = sum(range(1, 11))  # Sum of numbers from 1 to 10\n",
    "    given_sum = sum(lst)  # Sum of the given list of numbers\n",
    "    missing = total_sum - given_sum\n",
    "    return missing"
   ]
  },
  {
   "cell_type": "code",
   "execution_count": 20,
   "id": "6a702cb1",
   "metadata": {},
   "outputs": [
    {
     "data": {
      "text/plain": [
       "5"
      ]
     },
     "execution_count": 20,
     "metadata": {},
     "output_type": "execute_result"
    }
   ],
   "source": [
    "missing_num([1, 2, 3, 4, 6, 7, 8, 9, 10])"
   ]
  },
  {
   "cell_type": "code",
   "execution_count": 21,
   "id": "2b7f0c62",
   "metadata": {},
   "outputs": [
    {
     "data": {
      "text/plain": [
       "10"
      ]
     },
     "execution_count": 21,
     "metadata": {},
     "output_type": "execute_result"
    }
   ],
   "source": [
    "missing_num([7, 2, 3, 6, 5, 9, 1, 4, 8])"
   ]
  },
  {
   "cell_type": "code",
   "execution_count": 22,
   "id": "ddcd4a63",
   "metadata": {},
   "outputs": [
    {
     "data": {
      "text/plain": [
       "7"
      ]
     },
     "execution_count": 22,
     "metadata": {},
     "output_type": "execute_result"
    }
   ],
   "source": [
    "missing_num([10, 5, 1, 2, 4, 6, 8, 3, 9])"
   ]
  },
  {
   "cell_type": "code",
   "execution_count": null,
   "id": "9122136c",
   "metadata": {},
   "outputs": [],
   "source": []
  }
 ],
 "metadata": {
  "kernelspec": {
   "display_name": "Python 3 (ipykernel)",
   "language": "python",
   "name": "python3"
  },
  "language_info": {
   "codemirror_mode": {
    "name": "ipython",
    "version": 3
   },
   "file_extension": ".py",
   "mimetype": "text/x-python",
   "name": "python",
   "nbconvert_exporter": "python",
   "pygments_lexer": "ipython3",
   "version": "3.9.7"
  }
 },
 "nbformat": 4,
 "nbformat_minor": 5
}
