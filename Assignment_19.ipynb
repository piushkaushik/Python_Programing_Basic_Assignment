{
 "cells": [
  {
   "cell_type": "markdown",
   "id": "981e9e10",
   "metadata": {},
   "source": [
    "**Question1**\n",
    "\n",
    "**Create a function that takes a string and returns a string in which each character is repeated once.**\n",
    "\n",
    "**Examples**\n",
    "\n",
    "**double_char(\"String\") ➞ \"SSttrriinngg\"**\n",
    "\n",
    "**double_char(\"Hello World!\") ➞ \"HHeelllloo WWoorrlldd!!\"**\n",
    "\n",
    "**double_char(\"1234!_ \") ➞ \"11223344!!__\"**"
   ]
  },
  {
   "cell_type": "markdown",
   "id": "34614b3f",
   "metadata": {},
   "source": [
    "**Solution:**"
   ]
  },
  {
   "cell_type": "code",
   "execution_count": 1,
   "id": "aebd2877",
   "metadata": {},
   "outputs": [],
   "source": [
    "def double_char(input_str):\n",
    "    doubled_str = \"\"\n",
    "    \n",
    "    for char in input_str:\n",
    "        doubled_str += char * 2\n",
    "    \n",
    "    return doubled_str"
   ]
  },
  {
   "cell_type": "code",
   "execution_count": 2,
   "id": "6c7355a4",
   "metadata": {},
   "outputs": [
    {
     "data": {
      "text/plain": [
       "'SSttrriinngg'"
      ]
     },
     "execution_count": 2,
     "metadata": {},
     "output_type": "execute_result"
    }
   ],
   "source": [
    "double_char(\"String\") "
   ]
  },
  {
   "cell_type": "code",
   "execution_count": 3,
   "id": "a6f91474",
   "metadata": {},
   "outputs": [
    {
     "data": {
      "text/plain": [
       "'HHeelllloo  WWoorrlldd!!'"
      ]
     },
     "execution_count": 3,
     "metadata": {},
     "output_type": "execute_result"
    }
   ],
   "source": [
    "double_char(\"Hello World!\")"
   ]
  },
  {
   "cell_type": "code",
   "execution_count": 4,
   "id": "f69c0793",
   "metadata": {},
   "outputs": [
    {
     "data": {
      "text/plain": [
       "'11223344!!__  '"
      ]
     },
     "execution_count": 4,
     "metadata": {},
     "output_type": "execute_result"
    }
   ],
   "source": [
    "double_char(\"1234!_ \")"
   ]
  },
  {
   "cell_type": "markdown",
   "id": "122d131c",
   "metadata": {},
   "source": [
    "**Question2**\n",
    "\n",
    "**Create a function that reverses a boolean value and returns the string \"boolean expected\" if another variable type is given.**\n",
    "\n",
    "**Examples**\n",
    "\n",
    "**reverse(True) ➞ False**\n",
    "\n",
    "**reverse(False) ➞ True**\n",
    "\n",
    "**reverse(0) ➞ \"boolean expected\"**\n",
    "\n",
    "**reverse(None) ➞ \"boolean expected\"**"
   ]
  },
  {
   "cell_type": "markdown",
   "id": "27af7802",
   "metadata": {},
   "source": [
    "**Solution:**"
   ]
  },
  {
   "cell_type": "code",
   "execution_count": 5,
   "id": "18e134e1",
   "metadata": {},
   "outputs": [],
   "source": [
    "def reverse(value):\n",
    "    if isinstance(value, bool):\n",
    "        return not value\n",
    "    else:\n",
    "        return \"boolean expected\""
   ]
  },
  {
   "cell_type": "code",
   "execution_count": 6,
   "id": "8faee9dd",
   "metadata": {},
   "outputs": [
    {
     "data": {
      "text/plain": [
       "False"
      ]
     },
     "execution_count": 6,
     "metadata": {},
     "output_type": "execute_result"
    }
   ],
   "source": [
    "reverse(True) "
   ]
  },
  {
   "cell_type": "code",
   "execution_count": 7,
   "id": "c9dd34fe",
   "metadata": {},
   "outputs": [
    {
     "data": {
      "text/plain": [
       "True"
      ]
     },
     "execution_count": 7,
     "metadata": {},
     "output_type": "execute_result"
    }
   ],
   "source": [
    "reverse(False) "
   ]
  },
  {
   "cell_type": "code",
   "execution_count": 8,
   "id": "cce04f8d",
   "metadata": {},
   "outputs": [
    {
     "data": {
      "text/plain": [
       "'boolean expected'"
      ]
     },
     "execution_count": 8,
     "metadata": {},
     "output_type": "execute_result"
    }
   ],
   "source": [
    "reverse(0) "
   ]
  },
  {
   "cell_type": "code",
   "execution_count": 9,
   "id": "ab57eae5",
   "metadata": {},
   "outputs": [
    {
     "data": {
      "text/plain": [
       "'boolean expected'"
      ]
     },
     "execution_count": 9,
     "metadata": {},
     "output_type": "execute_result"
    }
   ],
   "source": [
    "reverse(None) "
   ]
  },
  {
   "cell_type": "markdown",
   "id": "4e944181",
   "metadata": {},
   "source": [
    "**Question3**\n",
    "\n",
    "**Create a function that returns the thickness (in meters) of a piece of paper after folding it n number of times. The paper starts off with a thickness of 0.5mm.**\n",
    "\n",
    "**Examples**\n",
    "\n",
    "**num_layers(1) ➞ \"0.001m\"**\n",
    "\n",
    "**- Paper folded once is 1mm (equal to 0.001m)**\n",
    "\n",
    "**num_layers(4) ➞ \"0.008m\"**\n",
    "\n",
    "**- Paper folded 4 times is 8mm (equal to 0.008m)**\n",
    "\n",
    "**num_layers(21) ➞ \"1048.576m\"**\n",
    "\n",
    "**- Paper folded 21 times is 1048576mm (equal to 1048.576m)**"
   ]
  },
  {
   "cell_type": "markdown",
   "id": "64e19fd3",
   "metadata": {},
   "source": [
    "**Solution:**"
   ]
  },
  {
   "cell_type": "code",
   "execution_count": 10,
   "id": "47843645",
   "metadata": {},
   "outputs": [],
   "source": [
    "def num_layers(n):\n",
    "    initial_thickness_mm = 0.5  # Initial thickness in millimeters\n",
    "    final_thickness_mm = initial_thickness_mm * (2 ** n)\n",
    "    final_thickness_m = final_thickness_mm / 1000  # Convert millimeters to meters\n",
    "    return f\"{final_thickness_m:.3f}m\""
   ]
  },
  {
   "cell_type": "code",
   "execution_count": 11,
   "id": "73e93052",
   "metadata": {},
   "outputs": [
    {
     "data": {
      "text/plain": [
       "'0.001m'"
      ]
     },
     "execution_count": 11,
     "metadata": {},
     "output_type": "execute_result"
    }
   ],
   "source": [
    "num_layers(1)"
   ]
  },
  {
   "cell_type": "code",
   "execution_count": 13,
   "id": "96d83cc9",
   "metadata": {},
   "outputs": [
    {
     "data": {
      "text/plain": [
       "'0.008m'"
      ]
     },
     "execution_count": 13,
     "metadata": {},
     "output_type": "execute_result"
    }
   ],
   "source": [
    "num_layers(4)"
   ]
  },
  {
   "cell_type": "code",
   "execution_count": 12,
   "id": "229b0827",
   "metadata": {},
   "outputs": [
    {
     "data": {
      "text/plain": [
       "'1048.576m'"
      ]
     },
     "execution_count": 12,
     "metadata": {},
     "output_type": "execute_result"
    }
   ],
   "source": [
    "num_layers(21)"
   ]
  },
  {
   "cell_type": "markdown",
   "id": "c4328704",
   "metadata": {},
   "source": [
    "**Question4**\n",
    "\n",
    "**Create a function that takes a single string as argument and returns an ordered list containing the indices of all capital letters in the string.**\n",
    "\n",
    "**Examples**\n",
    "\n",
    "**index_of_caps(\"eDaBiT\") ➞ [1, 3, 5]**\n",
    "\n",
    "**index_of_caps(\"eQuINoX\") ➞ [1, 3, 4, 6]**\n",
    "\n",
    "**index_of_caps(\"determine\") ➞ []**\n",
    "\n",
    "**index_of_caps(\"STRIKE\") ➞ [0, 1, 2, 3, 4, 5]**\n",
    "\n",
    "**index_of_caps(\"sUn\") ➞ [1]**"
   ]
  },
  {
   "cell_type": "markdown",
   "id": "886a1617",
   "metadata": {},
   "source": [
    "**Solution**"
   ]
  },
  {
   "cell_type": "code",
   "execution_count": 14,
   "id": "7dde37f0",
   "metadata": {},
   "outputs": [],
   "source": [
    "def index_of_caps(word):\n",
    "    # Use list comprehension to find indices of capital letters\n",
    "    return [i for i, char in enumerate(word) if char.isupper()]"
   ]
  },
  {
   "cell_type": "code",
   "execution_count": 15,
   "id": "61d37135",
   "metadata": {},
   "outputs": [
    {
     "data": {
      "text/plain": [
       "[1, 3, 5]"
      ]
     },
     "execution_count": 15,
     "metadata": {},
     "output_type": "execute_result"
    }
   ],
   "source": [
    "index_of_caps(\"eDaBiT\")"
   ]
  },
  {
   "cell_type": "code",
   "execution_count": 16,
   "id": "a7c83b41",
   "metadata": {},
   "outputs": [
    {
     "data": {
      "text/plain": [
       "[1, 3, 4, 6]"
      ]
     },
     "execution_count": 16,
     "metadata": {},
     "output_type": "execute_result"
    }
   ],
   "source": [
    "index_of_caps(\"eQuINoX\") "
   ]
  },
  {
   "cell_type": "code",
   "execution_count": 17,
   "id": "d542523e",
   "metadata": {},
   "outputs": [
    {
     "data": {
      "text/plain": [
       "[]"
      ]
     },
     "execution_count": 17,
     "metadata": {},
     "output_type": "execute_result"
    }
   ],
   "source": [
    "index_of_caps(\"determine\")"
   ]
  },
  {
   "cell_type": "code",
   "execution_count": 18,
   "id": "a2fae053",
   "metadata": {},
   "outputs": [
    {
     "data": {
      "text/plain": [
       "[0, 1, 2, 3, 4, 5]"
      ]
     },
     "execution_count": 18,
     "metadata": {},
     "output_type": "execute_result"
    }
   ],
   "source": [
    "index_of_caps(\"STRIKE\")"
   ]
  },
  {
   "cell_type": "code",
   "execution_count": 19,
   "id": "c3ec1e9a",
   "metadata": {},
   "outputs": [
    {
     "data": {
      "text/plain": [
       "[1]"
      ]
     },
     "execution_count": 19,
     "metadata": {},
     "output_type": "execute_result"
    }
   ],
   "source": [
    "index_of_caps(\"sUn\")"
   ]
  },
  {
   "cell_type": "markdown",
   "id": "303b6695",
   "metadata": {},
   "source": [
    "**Question5**\n",
    "\n",
    "**Using list comprehensions, create a function that finds all even numbers from 1 to the given number.**\n",
    "\n",
    "**Examples**\n",
    "\n",
    "**find_even_nums(8) ➞ [2, 4, 6, 8]**\n",
    "\n",
    "**find_even_nums(4) ➞ [2, 4]**\n",
    "\n",
    "**find_even_nums(2) ➞ [2]**"
   ]
  },
  {
   "cell_type": "markdown",
   "id": "038b2bc0",
   "metadata": {},
   "source": [
    "**Solution:**"
   ]
  },
  {
   "cell_type": "code",
   "execution_count": 20,
   "id": "674b3625",
   "metadata": {},
   "outputs": [],
   "source": [
    "def find_even_nums(num):\n",
    "    # Use a list comprehension to generate even numbers from 1 to num\n",
    "    return [x for x in range(1, num + 1) if x % 2 == 0]"
   ]
  },
  {
   "cell_type": "code",
   "execution_count": 21,
   "id": "fcf0f954",
   "metadata": {},
   "outputs": [
    {
     "data": {
      "text/plain": [
       "[2, 4, 6, 8]"
      ]
     },
     "execution_count": 21,
     "metadata": {},
     "output_type": "execute_result"
    }
   ],
   "source": [
    "find_even_nums(8)"
   ]
  },
  {
   "cell_type": "code",
   "execution_count": 22,
   "id": "fc834d18",
   "metadata": {},
   "outputs": [
    {
     "data": {
      "text/plain": [
       "[2, 4]"
      ]
     },
     "execution_count": 22,
     "metadata": {},
     "output_type": "execute_result"
    }
   ],
   "source": [
    "find_even_nums(4)"
   ]
  },
  {
   "cell_type": "code",
   "execution_count": 23,
   "id": "346b8392",
   "metadata": {},
   "outputs": [
    {
     "data": {
      "text/plain": [
       "[2]"
      ]
     },
     "execution_count": 23,
     "metadata": {},
     "output_type": "execute_result"
    }
   ],
   "source": [
    "find_even_nums(2)"
   ]
  },
  {
   "cell_type": "code",
   "execution_count": null,
   "id": "75616817",
   "metadata": {},
   "outputs": [],
   "source": []
  }
 ],
 "metadata": {
  "kernelspec": {
   "display_name": "Python 3 (ipykernel)",
   "language": "python",
   "name": "python3"
  },
  "language_info": {
   "codemirror_mode": {
    "name": "ipython",
    "version": 3
   },
   "file_extension": ".py",
   "mimetype": "text/x-python",
   "name": "python",
   "nbconvert_exporter": "python",
   "pygments_lexer": "ipython3",
   "version": "3.9.7"
  }
 },
 "nbformat": 4,
 "nbformat_minor": 5
}
