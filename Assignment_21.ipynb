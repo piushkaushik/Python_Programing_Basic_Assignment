{
 "cells": [
  {
   "cell_type": "markdown",
   "id": "3bbf0871",
   "metadata": {},
   "source": [
    "**Question1**\n",
    "\n",
    "**Write a function that takes a list and a number as arguments. Add the number to the end of the list, then remove the first element of the list. The function should then return the updated list.**\n",
    "\n",
    "**Examples**\n",
    "\n",
    "**next_in_line([5, 6, 7, 8, 9], 1) ➞ [6, 7, 8, 9, 1]**\n",
    "\n",
    "**next_in_line([7, 6, 3, 23, 17], 10) ➞ [6, 3, 23, 17, 10]**\n",
    "\n",
    "**next_in_line([1, 10, 20, 42 ], 6) ➞ [10, 20, 42, 6]**\n",
    "\n",
    "**next_in_line([], 6) ➞ \"No list has been selected\"**"
   ]
  },
  {
   "cell_type": "markdown",
   "id": "73065f4d",
   "metadata": {},
   "source": [
    "**Solution:**"
   ]
  },
  {
   "cell_type": "code",
   "execution_count": 1,
   "id": "d617ddf3",
   "metadata": {},
   "outputs": [],
   "source": [
    "def next_in_line(lst, num):\n",
    "    if lst:\n",
    "        lst.pop(0)  # Remove the first element\n",
    "        lst.append(num)  # Add the number to the end\n",
    "        return lst\n",
    "    else:\n",
    "        return \"No list has been selected\""
   ]
  },
  {
   "cell_type": "code",
   "execution_count": 2,
   "id": "1e6a3d7a",
   "metadata": {},
   "outputs": [
    {
     "data": {
      "text/plain": [
       "[6, 7, 8, 9, 1]"
      ]
     },
     "execution_count": 2,
     "metadata": {},
     "output_type": "execute_result"
    }
   ],
   "source": [
    "next_in_line([5, 6, 7, 8, 9], 1) "
   ]
  },
  {
   "cell_type": "code",
   "execution_count": 3,
   "id": "ddaea97b",
   "metadata": {},
   "outputs": [
    {
     "data": {
      "text/plain": [
       "[6, 3, 23, 17, 10]"
      ]
     },
     "execution_count": 3,
     "metadata": {},
     "output_type": "execute_result"
    }
   ],
   "source": [
    "next_in_line([7, 6, 3, 23, 17], 10)"
   ]
  },
  {
   "cell_type": "code",
   "execution_count": 4,
   "id": "e9063642",
   "metadata": {},
   "outputs": [
    {
     "data": {
      "text/plain": [
       "[10, 20, 42, 6]"
      ]
     },
     "execution_count": 4,
     "metadata": {},
     "output_type": "execute_result"
    }
   ],
   "source": [
    "next_in_line([1, 10, 20, 42 ], 6)"
   ]
  },
  {
   "cell_type": "code",
   "execution_count": 5,
   "id": "6d5e4ad2",
   "metadata": {},
   "outputs": [
    {
     "data": {
      "text/plain": [
       "'No list has been selected'"
      ]
     },
     "execution_count": 5,
     "metadata": {},
     "output_type": "execute_result"
    }
   ],
   "source": [
    "next_in_line([], 6)"
   ]
  },
  {
   "cell_type": "markdown",
   "id": "84f8d8c3",
   "metadata": {},
   "source": [
    "**Question2**\n",
    "\n",
    "**Create the function that takes a list of dictionaries and returns the sum of people's budgets.**\n",
    "\n",
    "**Examples**\n",
    "\n",
    "**get_budgets([**\n",
    "               \n",
    "**{ 'name': 'John', 'age': 21, 'budget': 23000 },**\n",
    "               \n",
    "**{ 'name': 'Steve', 'age': 32, 'budget': 40000 },**\n",
    "               \n",
    "**{ 'name': 'Martin', 'age': 16, 'budget': 2700 }**\n",
    "               \n",
    "**]) ➞ 65700**\n",
    "\n",
    "**get_budgets([**\n",
    "               \n",
    "**{ 'name': 'John', 'age': 21, 'budget': 29000 },**\n",
    "               \n",
    "**{ 'name': 'Steve', 'age': 32, 'budget': 32000 },**\n",
    "               \n",
    "**{ 'name': 'Martin', 'age': 16, 'budget': 1600 }**\n",
    "               \n",
    "**]) ➞ 62600**"
   ]
  },
  {
   "cell_type": "markdown",
   "id": "8a97a050",
   "metadata": {},
   "source": [
    "**Solution:**"
   ]
  },
  {
   "cell_type": "code",
   "execution_count": 7,
   "id": "aa0dc14d",
   "metadata": {},
   "outputs": [],
   "source": [
    "def get_budgets(lst):\n",
    "    total_budget = sum(person['budget'] for person in lst)\n",
    "    return total_budget\n",
    "\n",
    "# Test cases\n",
    "budgets1 = [\n",
    "    {'name': 'John', 'age': 21, 'budget': 23000},\n",
    "    {'name': 'Steve', 'age': 32, 'budget': 40000},\n",
    "    {'name': 'Martin', 'age': 16, 'budget': 2700}\n",
    "]\n",
    "\n",
    "budgets2 = [\n",
    "    {'name': 'John', 'age': 21, 'budget': 29000},\n",
    "    {'name': 'Steve', 'age': 32, 'budget': 32000},\n",
    "    {'name': 'Martin', 'age': 16, 'budget': 1600}\n",
    "]\n"
   ]
  },
  {
   "cell_type": "code",
   "execution_count": 8,
   "id": "d193e557",
   "metadata": {},
   "outputs": [
    {
     "data": {
      "text/plain": [
       "65700"
      ]
     },
     "execution_count": 8,
     "metadata": {},
     "output_type": "execute_result"
    }
   ],
   "source": [
    "get_budgets(budgets1)"
   ]
  },
  {
   "cell_type": "code",
   "execution_count": 9,
   "id": "cac4210f",
   "metadata": {},
   "outputs": [
    {
     "data": {
      "text/plain": [
       "62600"
      ]
     },
     "execution_count": 9,
     "metadata": {},
     "output_type": "execute_result"
    }
   ],
   "source": [
    "get_budgets(budgets2)"
   ]
  },
  {
   "cell_type": "markdown",
   "id": "1d1a58bd",
   "metadata": {},
   "source": [
    "**Question3**\n",
    "\n",
    "**Create a function that takes a string and returns a string with its letters in alphabetical order.**\n",
    "\n",
    "**Examples**\n",
    "\n",
    "**alphabet_soup(\"hello\") ➞ \"ehllo\"**\n",
    "\n",
    "**alphabet_soup(\"edabit\") ➞ \"abdeit\"**\n",
    "\n",
    "**alphabet_soup(\"hacker\") ➞ \"acehkr\"**\n",
    "\n",
    "**alphabet_soup(\"geek\") ➞ \"eegk\"**\n",
    "\n",
    "**alphabet_soup(\"javascript\") ➞ \"aacijprstv\"**"
   ]
  },
  {
   "cell_type": "markdown",
   "id": "a6ece4d8",
   "metadata": {},
   "source": [
    "**Solution:**"
   ]
  },
  {
   "cell_type": "code",
   "execution_count": 10,
   "id": "5f653384",
   "metadata": {},
   "outputs": [],
   "source": [
    "def alphabet_soup(txt):\n",
    "    return ''.join(sorted(txt))"
   ]
  },
  {
   "cell_type": "code",
   "execution_count": 11,
   "id": "37dd64d5",
   "metadata": {},
   "outputs": [
    {
     "data": {
      "text/plain": [
       "'ehllo'"
      ]
     },
     "execution_count": 11,
     "metadata": {},
     "output_type": "execute_result"
    }
   ],
   "source": [
    "alphabet_soup(\"hello\") "
   ]
  },
  {
   "cell_type": "code",
   "execution_count": 12,
   "id": "f7df3e63",
   "metadata": {},
   "outputs": [
    {
     "data": {
      "text/plain": [
       "'abdeit'"
      ]
     },
     "execution_count": 12,
     "metadata": {},
     "output_type": "execute_result"
    }
   ],
   "source": [
    "alphabet_soup(\"edabit\")"
   ]
  },
  {
   "cell_type": "code",
   "execution_count": 13,
   "id": "c21a1049",
   "metadata": {},
   "outputs": [
    {
     "data": {
      "text/plain": [
       "'acehkr'"
      ]
     },
     "execution_count": 13,
     "metadata": {},
     "output_type": "execute_result"
    }
   ],
   "source": [
    "alphabet_soup(\"hacker\")"
   ]
  },
  {
   "cell_type": "code",
   "execution_count": 14,
   "id": "1ccc87fd",
   "metadata": {},
   "outputs": [
    {
     "data": {
      "text/plain": [
       "'eegk'"
      ]
     },
     "execution_count": 14,
     "metadata": {},
     "output_type": "execute_result"
    }
   ],
   "source": [
    "alphabet_soup(\"geek\")"
   ]
  },
  {
   "cell_type": "code",
   "execution_count": 15,
   "id": "41c82d46",
   "metadata": {},
   "outputs": [
    {
     "data": {
      "text/plain": [
       "'aacijprstv'"
      ]
     },
     "execution_count": 15,
     "metadata": {},
     "output_type": "execute_result"
    }
   ],
   "source": [
    "alphabet_soup(\"javascript\") "
   ]
  },
  {
   "cell_type": "markdown",
   "id": "9ecbb9e4",
   "metadata": {},
   "source": [
    "**Question4**\n",
    "\n",
    "**Suppose that you invest $10,000 for 10 years at an interest rate of 6% compounded monthly. What will be the value of your investment at the end of the 10 year period?**\n",
    "\n",
    "**Create a function that accepts the principal p, the term in years t, the interest rate r, and the number of compounding periods per year n. The function returns the value at the end of term rounded to the nearest cent.**\n",
    "\n",
    "**For the example:**\n",
    "\n",
    "**compound_interest(10000, 10, 0.06, 12) ➞ 18193.97**\n",
    "\n",
    "**Note that the interest rate is given as a decimal and n=12 because with monthly compounding there are 12 periods per year. Compounding can also be done annually, quarterly, weekly, or daily.**\n",
    "\n",
    "**Examples**\n",
    "\n",
    "**compound_interest(100, 1, 0.05, 1) ➞ 105.0**\n",
    "\n",
    "**compound_interest(3500, 15, 0.1, 4) ➞ 15399.26**\n",
    "\n",
    "**compound_interest(100000, 20, 0.15, 365) ➞ 2007316.26**"
   ]
  },
  {
   "cell_type": "markdown",
   "id": "a9dbb5fa",
   "metadata": {},
   "source": [
    "**Solution:**"
   ]
  },
  {
   "cell_type": "code",
   "execution_count": 16,
   "id": "47ba6c90",
   "metadata": {},
   "outputs": [],
   "source": [
    "def compound_interest(p, t, r, n):\n",
    "    # Calculate the compound interest using the formula\n",
    "    a = p * (1 + (r / n)) ** (n * t)\n",
    "    # Round the result to the nearest cent\n",
    "    return round(a, 2)"
   ]
  },
  {
   "cell_type": "code",
   "execution_count": 17,
   "id": "d7c9504c",
   "metadata": {},
   "outputs": [
    {
     "data": {
      "text/plain": [
       "18193.97"
      ]
     },
     "execution_count": 17,
     "metadata": {},
     "output_type": "execute_result"
    }
   ],
   "source": [
    "compound_interest(10000, 10, 0.06, 12)"
   ]
  },
  {
   "cell_type": "code",
   "execution_count": 18,
   "id": "75b4d888",
   "metadata": {},
   "outputs": [
    {
     "data": {
      "text/plain": [
       "105.0"
      ]
     },
     "execution_count": 18,
     "metadata": {},
     "output_type": "execute_result"
    }
   ],
   "source": [
    "compound_interest(100, 1, 0.05, 1)"
   ]
  },
  {
   "cell_type": "code",
   "execution_count": 19,
   "id": "51444bc3",
   "metadata": {},
   "outputs": [
    {
     "data": {
      "text/plain": [
       "15399.26"
      ]
     },
     "execution_count": 19,
     "metadata": {},
     "output_type": "execute_result"
    }
   ],
   "source": [
    "compound_interest(3500, 15, 0.1, 4)"
   ]
  },
  {
   "cell_type": "code",
   "execution_count": 20,
   "id": "fee22a87",
   "metadata": {},
   "outputs": [
    {
     "data": {
      "text/plain": [
       "2007316.26"
      ]
     },
     "execution_count": 20,
     "metadata": {},
     "output_type": "execute_result"
    }
   ],
   "source": [
    "compound_interest(100000, 20, 0.15, 365)"
   ]
  },
  {
   "cell_type": "markdown",
   "id": "c961144e",
   "metadata": {},
   "source": [
    "**Question5**\n",
    "\n",
    "**Write a function that takes a list of elements and returns only the integers.**\n",
    "\n",
    "**Examples**\n",
    "\n",
    "**return_only_integer([9, 2, \"space\", \"car\", \"lion\", 16]) ➞ [9, 2, 16]**\n",
    "\n",
    "**return_only_integer([\"hello\", 81, \"basketball\", 123, \"fox\"]) ➞ [81, 123]**\n",
    "\n",
    "**return_only_integer([10, \"121\", 56, 20, \"car\", 3, \"lion\"]) ➞ [10, 56, 20,3]**\n",
    "\n",
    "**return_only_integer([\"String\", True, 3.3, 1]) ➞ [1]**"
   ]
  },
  {
   "cell_type": "markdown",
   "id": "795f58df",
   "metadata": {},
   "source": [
    "**Solution:**"
   ]
  },
  {
   "cell_type": "code",
   "execution_count": 29,
   "id": "35a41e77",
   "metadata": {},
   "outputs": [],
   "source": [
    "def return_only_integer(lst):\n",
    "    # Use list comprehension to filter out integers\n",
    "    return [x for x in lst if isinstance(x, int) and not isinstance(x, bool)]"
   ]
  },
  {
   "cell_type": "code",
   "execution_count": 30,
   "id": "96a416ea",
   "metadata": {},
   "outputs": [
    {
     "data": {
      "text/plain": [
       "[9, 2, 16]"
      ]
     },
     "execution_count": 30,
     "metadata": {},
     "output_type": "execute_result"
    }
   ],
   "source": [
    "return_only_integer([9, 2, \"space\", \"car\", \"lion\", 16])"
   ]
  },
  {
   "cell_type": "code",
   "execution_count": 31,
   "id": "d5520d70",
   "metadata": {},
   "outputs": [
    {
     "data": {
      "text/plain": [
       "[81, 123]"
      ]
     },
     "execution_count": 31,
     "metadata": {},
     "output_type": "execute_result"
    }
   ],
   "source": [
    "return_only_integer([\"hello\", 81, \"basketball\", 123, \"fox\"]) "
   ]
  },
  {
   "cell_type": "code",
   "execution_count": 32,
   "id": "d669c1d9",
   "metadata": {},
   "outputs": [
    {
     "data": {
      "text/plain": [
       "[10, 56, 20, 3]"
      ]
     },
     "execution_count": 32,
     "metadata": {},
     "output_type": "execute_result"
    }
   ],
   "source": [
    "return_only_integer([10, \"121\", 56, 20, \"car\", 3, \"lion\"]) "
   ]
  },
  {
   "cell_type": "code",
   "execution_count": 33,
   "id": "0095bb82",
   "metadata": {},
   "outputs": [
    {
     "data": {
      "text/plain": [
       "[1]"
      ]
     },
     "execution_count": 33,
     "metadata": {},
     "output_type": "execute_result"
    }
   ],
   "source": [
    "return_only_integer([\"String\", True, 3.3, 1])"
   ]
  },
  {
   "cell_type": "code",
   "execution_count": null,
   "id": "72df3719",
   "metadata": {},
   "outputs": [],
   "source": []
  },
  {
   "cell_type": "code",
   "execution_count": null,
   "id": "e5bc03fb",
   "metadata": {},
   "outputs": [],
   "source": []
  }
 ],
 "metadata": {
  "kernelspec": {
   "display_name": "Python 3 (ipykernel)",
   "language": "python",
   "name": "python3"
  },
  "language_info": {
   "codemirror_mode": {
    "name": "ipython",
    "version": 3
   },
   "file_extension": ".py",
   "mimetype": "text/x-python",
   "name": "python",
   "nbconvert_exporter": "python",
   "pygments_lexer": "ipython3",
   "version": "3.9.7"
  }
 },
 "nbformat": 4,
 "nbformat_minor": 5
}
