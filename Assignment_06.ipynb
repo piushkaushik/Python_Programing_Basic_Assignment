{
 "cells": [
  {
   "cell_type": "markdown",
   "id": "84677e37",
   "metadata": {},
   "source": [
    "# 1. Write a Python Program to Display Fibonacci Sequence Using Recursion?"
   ]
  },
  {
   "cell_type": "code",
   "execution_count": 4,
   "id": "6fbc4f80",
   "metadata": {},
   "outputs": [
    {
     "name": "stdout",
     "output_type": "stream",
     "text": [
      "Enter the number of terms (greater than 0): 10\n",
      "Fibonacci sequence:\n",
      "0\n",
      "1\n",
      "1\n",
      "2\n",
      "3\n",
      "5\n",
      "8\n",
      "13\n",
      "21\n",
      "34\n"
     ]
    }
   ],
   "source": [
    "# Python program to display the Fibonacci sequence\n",
    "\n",
    "def recur_fibo(n):\n",
    "    if n <= 1:\n",
    "        return n\n",
    "    else:\n",
    "        return(recur_fibo(n-1) + recur_fibo(n-2))\n",
    "\n",
    "nterms = int(input(\"Enter the number of terms (greater than 0): \"))\n",
    "\n",
    "# check if the number of terms is valid\n",
    "if nterms <= 0:\n",
    "    print(\"Plese enter a positive integer\")\n",
    "else:\n",
    "    print(\"Fibonacci sequence:\")\n",
    "    for i in range(nterms):\n",
    "        print(recur_fibo(i))\n"
   ]
  },
  {
   "cell_type": "markdown",
   "id": "38b31dfb",
   "metadata": {},
   "source": [
    "# 2. Write a Python Program to Find Factorial of Number Using Recursion?"
   ]
  },
  {
   "cell_type": "code",
   "execution_count": 5,
   "id": "a1b3c54f",
   "metadata": {},
   "outputs": [
    {
     "name": "stdout",
     "output_type": "stream",
     "text": [
      "Enter the number: 7\n",
      "The factorial of 7 is 5040\n"
     ]
    }
   ],
   "source": [
    "# Factorial of a number using recursion\n",
    "\n",
    "def recur_factorial(n):\n",
    "    if n == 1:\n",
    "        return n\n",
    "    else:\n",
    "        return n*recur_factorial(n-1)\n",
    "\n",
    "num = int(input(\"Enter the number: \"))\n",
    "\n",
    "# check if the number is negative\n",
    "if num < 0:\n",
    "    print(\"Sorry, factorial does not exist for negative numbers\")\n",
    "elif num == 0:\n",
    "    print(\"The factorial of 0 is 1\")\n",
    "else:\n",
    "    print(\"The factorial of\", num, \"is\", recur_factorial(num))\n"
   ]
  },
  {
   "cell_type": "markdown",
   "id": "895d6f3f",
   "metadata": {},
   "source": [
    "# 3. Write a Python Program to calculate your Body Mass Index?"
   ]
  },
  {
   "cell_type": "code",
   "execution_count": 11,
   "id": "8bbc58d5",
   "metadata": {},
   "outputs": [
    {
     "name": "stdout",
     "output_type": "stream",
     "text": [
      "Enter your height in meters: 1.8\n",
      "Enter your weight in kg: 70\n",
      "Welcome to the BMI calculator.\n",
      "Your BMI is:  21.6\n",
      "Your weight is normal.\n"
     ]
    }
   ],
   "source": [
    "def bodymassindex(height, weight):\n",
    "    return round((weight / height**2),2)\n",
    "\n",
    "\n",
    "h = float(input(\"Enter your height in meters: \"))\n",
    "w = float(input(\"Enter your weight in kg: \"))\n",
    "\n",
    "\n",
    "print(\"Welcome to the BMI calculator.\")\n",
    "\n",
    "bmi = bodymassindex(h, w)\n",
    "print(\"Your BMI is: \", bmi)\n",
    "\n",
    "\n",
    "if bmi <= 18.5:\n",
    "    print(\"You are underweight.\")\n",
    "elif 18.5 < bmi <= 24.9:\n",
    "    print(\"Your weight is normal.\")\n",
    "elif 25 < bmi <= 29.29:\n",
    "    print(\"You are overweight.\")\n",
    "else:\n",
    "    print(\"You are obese.\")"
   ]
  },
  {
   "cell_type": "markdown",
   "id": "006f99a7",
   "metadata": {},
   "source": [
    "# 4. Write a Python Program to calculate the natural logarithm of any number?"
   ]
  },
  {
   "cell_type": "code",
   "execution_count": 14,
   "id": "1453ac18",
   "metadata": {},
   "outputs": [
    {
     "name": "stdout",
     "output_type": "stream",
     "text": [
      "Enter a number: 1.4\n",
      "The natural logarithm of 1.4 is: 0.3364722366212129\n"
     ]
    }
   ],
   "source": [
    "import math\n",
    "\n",
    "num = float(input(\"Enter a number: \"))\n",
    "\n",
    "if num <= 0:\n",
    "    print(\"Please enter a positive number.\")\n",
    "else:\n",
    "    # Calculate the natural logarithm (base e) of the number\n",
    "    result = math.log(num)\n",
    "    print(f\"The natural logarithm of {num} is: {result}\")\n"
   ]
  },
  {
   "cell_type": "markdown",
   "id": "729e819d",
   "metadata": {},
   "source": [
    "# 5. Write a Python Program for cube sum of first n natural numbers?"
   ]
  },
  {
   "cell_type": "code",
   "execution_count": 10,
   "id": "de8546be",
   "metadata": {},
   "outputs": [
    {
     "name": "stdout",
     "output_type": "stream",
     "text": [
      "Enter the value of n: 7\n",
      "The cube sum of the first 7 natural numbers is: 784\n"
     ]
    }
   ],
   "source": [
    "def cube_sum_of_natural_numbers(n):\n",
    "    if n <= 0:\n",
    "        return 0\n",
    "    else:\n",
    "        total = sum([i**3 for i in range(1, n + 1)])\n",
    "        return total\n",
    "\n",
    "# Input the number of natural numbers\n",
    "n = int(input(\"Enter the value of n: \"))\n",
    "\n",
    "if n <= 0:\n",
    "    print(\"Please enter a positive integer.\")\n",
    "else:\n",
    "    result = cube_sum_of_natural_numbers(n)\n",
    "    print(f\"The cube sum of the first {n} natural numbers is: {result}\")\n"
   ]
  },
  {
   "cell_type": "code",
   "execution_count": null,
   "id": "7b528706",
   "metadata": {},
   "outputs": [],
   "source": []
  }
 ],
 "metadata": {
  "kernelspec": {
   "display_name": "Python 3 (ipykernel)",
   "language": "python",
   "name": "python3"
  },
  "language_info": {
   "codemirror_mode": {
    "name": "ipython",
    "version": 3
   },
   "file_extension": ".py",
   "mimetype": "text/x-python",
   "name": "python",
   "nbconvert_exporter": "python",
   "pygments_lexer": "ipython3",
   "version": "3.9.7"
  }
 },
 "nbformat": 4,
 "nbformat_minor": 5
}
