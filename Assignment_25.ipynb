{
 "cells": [
  {
   "cell_type": "markdown",
   "id": "099a91aa",
   "metadata": {},
   "source": [
    "**Question1**\n",
    "\n",
    "**Create a function that takes three integer arguments (a, b, c) and returns the amount of integers which are of equal value.**\n",
    "\n",
    "**Examples**\n",
    "\n",
    "**equal(3, 4, 3) ➞ 2**\n",
    "\n",
    "**equal(1, 1, 1) ➞ 3**\n",
    "\n",
    "**equal(3, 4, 1) ➞ 0**\n",
    "\n",
    "**Notes**\n",
    "\n",
    "**Your function must return 0, 2 or 3.**"
   ]
  },
  {
   "cell_type": "markdown",
   "id": "365c2cb2",
   "metadata": {},
   "source": [
    "**Solution:**"
   ]
  },
  {
   "cell_type": "code",
   "execution_count": 1,
   "id": "8830d6b6",
   "metadata": {},
   "outputs": [],
   "source": [
    "def equal(a, b, c):\n",
    "    if a == b == c:\n",
    "        return 3\n",
    "    elif a == b or b == c or a == c:\n",
    "        return 2\n",
    "    else:\n",
    "        return 0"
   ]
  },
  {
   "cell_type": "code",
   "execution_count": 2,
   "id": "259352fc",
   "metadata": {},
   "outputs": [
    {
     "data": {
      "text/plain": [
       "2"
      ]
     },
     "execution_count": 2,
     "metadata": {},
     "output_type": "execute_result"
    }
   ],
   "source": [
    "equal(3, 4, 3)"
   ]
  },
  {
   "cell_type": "code",
   "execution_count": 3,
   "id": "77358142",
   "metadata": {},
   "outputs": [
    {
     "data": {
      "text/plain": [
       "3"
      ]
     },
     "execution_count": 3,
     "metadata": {},
     "output_type": "execute_result"
    }
   ],
   "source": [
    "equal(1, 1, 1) "
   ]
  },
  {
   "cell_type": "code",
   "execution_count": 4,
   "id": "c0dd2ec9",
   "metadata": {},
   "outputs": [
    {
     "data": {
      "text/plain": [
       "0"
      ]
     },
     "execution_count": 4,
     "metadata": {},
     "output_type": "execute_result"
    }
   ],
   "source": [
    "equal(3, 4, 1)"
   ]
  },
  {
   "cell_type": "markdown",
   "id": "c15d8a68",
   "metadata": {},
   "source": [
    "**Question2**\n",
    "\n",
    "**Write a function that converts a dictionary into a list of keys-values tuples.**\n",
    "\n",
    "**Examples**\n",
    "\n",
    "**dict_to_list({**\n",
    "                \n",
    "**\"D\": 1,**\n",
    "                \n",
    "**\"B\": 2**\n",
    "                \n",
    "**\"C\": 3**\n",
    "                \n",
    "**}) ➞ [(\"B\", 2), (\"C\", 3), (\"D\", 1)]**\n",
    "\n",
    "**dict_to_list({**\n",
    "                \n",
    "**\"likes\": 2,**\n",
    "                \n",
    "**\"dislikes\": 3,**\n",
    "                \n",
    "**\"followers\": 10**\n",
    "                \n",
    "**}) ➞ [(\"dislikes\", 3), (\"followers\", 10), (\"likes\", 2)]**\n",
    "\n",
    "**Notes**\n",
    "\n",
    "**Return the elements in the list in alphabetical order.**"
   ]
  },
  {
   "cell_type": "code",
   "execution_count": 5,
   "id": "5c448927",
   "metadata": {},
   "outputs": [],
   "source": [
    "def dict_to_list(input_dict):\n",
    "    # Sort the dictionary by keys in alphabetical order\n",
    "    sorted_dict = sorted(input_dict.items())\n",
    "    \n",
    "    # Convert the sorted dictionary to a list of tuples\n",
    "    result = [(key, value) for key, value in sorted_dict]\n",
    "    \n",
    "    return result"
   ]
  },
  {
   "cell_type": "code",
   "execution_count": 9,
   "id": "306fae6a",
   "metadata": {},
   "outputs": [
    {
     "data": {
      "text/plain": [
       "[('B', 2), ('C', 3), ('D', 1)]"
      ]
     },
     "execution_count": 9,
     "metadata": {},
     "output_type": "execute_result"
    }
   ],
   "source": [
    "dict_to_list({\n",
    "    \"D\": 1, \n",
    "    \"B\": 2, \n",
    "    \"C\": 3\n",
    "})"
   ]
  },
  {
   "cell_type": "code",
   "execution_count": 10,
   "id": "35db7550",
   "metadata": {},
   "outputs": [
    {
     "data": {
      "text/plain": [
       "[('dislikes', 3), ('followers', 10), ('likes', 2)]"
      ]
     },
     "execution_count": 10,
     "metadata": {},
     "output_type": "execute_result"
    }
   ],
   "source": [
    "dict_to_list({\n",
    "\n",
    "\"likes\": 2,\n",
    "\n",
    "\"dislikes\": 3,\n",
    "\n",
    "\"followers\": 10\n",
    "\n",
    "})"
   ]
  },
  {
   "cell_type": "markdown",
   "id": "2c146f98",
   "metadata": {},
   "source": [
    "**Question3**\n",
    "\n",
    "**Write a function that creates a dictionary with each (key, value) pair being the (lower case, upper case) versions of a letter, respectively.**\n",
    "\n",
    "**Examples**\n",
    "\n",
    "**mapping([\"p\", \"s\"]) ➞ { \"p\": \"P\", \"s\": \"S\" }**\n",
    "\n",
    "**mapping([\"a\", \"b\", \"c\"]) ➞ { \"a\": \"A\", \"b\": \"B\", \"c\": \"C\" }**\n",
    "\n",
    "**mapping([\"a\", \"v\", \"y\", \"z\"]) ➞ { \"a\": \"A\", \"v\": \"V\", \"y\": \"Y\", \"z\": \"Z\" }**\n",
    "\n",
    "**Notes**\n",
    "\n",
    "**All of the letters in the input list will always be lowercase.**"
   ]
  },
  {
   "cell_type": "markdown",
   "id": "6cf3e42d",
   "metadata": {},
   "source": [
    "**Solution:**"
   ]
  },
  {
   "cell_type": "code",
   "execution_count": 11,
   "id": "2e41f3e4",
   "metadata": {},
   "outputs": [],
   "source": [
    "def mapping(letters):\n",
    "    result = {}\n",
    "    for letter in letters:\n",
    "        result[letter] = letter.upper()\n",
    "    return result"
   ]
  },
  {
   "cell_type": "code",
   "execution_count": 12,
   "id": "ed2c5a3d",
   "metadata": {},
   "outputs": [
    {
     "data": {
      "text/plain": [
       "{'p': 'P', 's': 'S'}"
      ]
     },
     "execution_count": 12,
     "metadata": {},
     "output_type": "execute_result"
    }
   ],
   "source": [
    "mapping([\"p\", \"s\"]) "
   ]
  },
  {
   "cell_type": "code",
   "execution_count": 13,
   "id": "1c8aac61",
   "metadata": {},
   "outputs": [
    {
     "data": {
      "text/plain": [
       "{'a': 'A', 'b': 'B', 'c': 'C'}"
      ]
     },
     "execution_count": 13,
     "metadata": {},
     "output_type": "execute_result"
    }
   ],
   "source": [
    "mapping([\"a\", \"b\", \"c\"]) "
   ]
  },
  {
   "cell_type": "code",
   "execution_count": 14,
   "id": "6d73d9a3",
   "metadata": {},
   "outputs": [
    {
     "data": {
      "text/plain": [
       "{'a': 'A', 'v': 'V', 'y': 'Y', 'z': 'Z'}"
      ]
     },
     "execution_count": 14,
     "metadata": {},
     "output_type": "execute_result"
    }
   ],
   "source": [
    "mapping([\"a\", \"v\", \"y\", \"z\"]) "
   ]
  },
  {
   "cell_type": "markdown",
   "id": "4bf6f30c",
   "metadata": {},
   "source": [
    "**Question4**\n",
    "\n",
    "**Write a function, that replaces all vowels in a string with a specified vowel.**\n",
    "\n",
    "**Examples**\n",
    "\n",
    "**vow_replace(\"apples and bananas\", \"u\") ➞ \"upplus und bununus\"**\n",
    "\n",
    "**vow_replace(\"cheese casserole\", \"o\") ➞ \"chooso cossorolo\"**\n",
    "\n",
    "**vow_replace(\"stuffed jalapeno poppers\", \"e\") ➞ \"steffed jelepene peppers\"**\n",
    "\n",
    "**Notes**\n",
    "\n",
    "**All words will be lowercase. Y is not considered a vowel.**"
   ]
  },
  {
   "cell_type": "markdown",
   "id": "030e119d",
   "metadata": {},
   "source": [
    "**Solution:**"
   ]
  },
  {
   "cell_type": "code",
   "execution_count": 16,
   "id": "2f7ec2df",
   "metadata": {},
   "outputs": [],
   "source": [
    "def vow_replace(string, vowel):\n",
    "    vowels = \"aeiou\"\n",
    "    result = \"\"\n",
    "    \n",
    "    for char in string:\n",
    "        if char in vowels:\n",
    "            result += vowel\n",
    "        else:\n",
    "            result += char\n",
    "    \n",
    "    return result\n"
   ]
  },
  {
   "cell_type": "code",
   "execution_count": 17,
   "id": "66e10038",
   "metadata": {},
   "outputs": [
    {
     "data": {
      "text/plain": [
       "'upplus und bununus'"
      ]
     },
     "execution_count": 17,
     "metadata": {},
     "output_type": "execute_result"
    }
   ],
   "source": [
    "vow_replace(\"apples and bananas\", \"u\")"
   ]
  },
  {
   "cell_type": "code",
   "execution_count": 18,
   "id": "b8b9f42c",
   "metadata": {},
   "outputs": [
    {
     "data": {
      "text/plain": [
       "'chooso cossorolo'"
      ]
     },
     "execution_count": 18,
     "metadata": {},
     "output_type": "execute_result"
    }
   ],
   "source": [
    "vow_replace(\"cheese casserole\", \"o\")"
   ]
  },
  {
   "cell_type": "code",
   "execution_count": 19,
   "id": "ce8ad25f",
   "metadata": {},
   "outputs": [
    {
     "data": {
      "text/plain": [
       "'steffed jelepene peppers'"
      ]
     },
     "execution_count": 19,
     "metadata": {},
     "output_type": "execute_result"
    }
   ],
   "source": [
    "vow_replace(\"stuffed jalapeno poppers\", \"e\") "
   ]
  },
  {
   "cell_type": "markdown",
   "id": "ba78ee4b",
   "metadata": {},
   "source": [
    "**Question5**\n",
    "\n",
    "**Create a function that takes a string as input and capitalizes a letter if its ASCII code is even and returns its lower case version if its ASCII code is odd.**\n",
    "\n",
    "**Examples**\n",
    "\n",
    "**ascii_capitalize(\"to be or not to be!\") ➞ \"To Be oR NoT To Be!\"**\n",
    "\n",
    "**ascii_capitalize(\"THE LITTLE MERMAID\") ➞ \"THe LiTTLe meRmaiD\"**\n",
    "\n",
    "**ascii_capitalize(\"Oh what a beautiful morning.\") ➞ \"oH wHaT a BeauTiFuL moRNiNg.\"**"
   ]
  },
  {
   "cell_type": "markdown",
   "id": "ef7b4a3d",
   "metadata": {},
   "source": [
    "**Solution:**"
   ]
  },
  {
   "cell_type": "code",
   "execution_count": 21,
   "id": "00a1c075",
   "metadata": {},
   "outputs": [],
   "source": [
    "def ascii_capitalize(input_str):\n",
    "    result = \"\"\n",
    "    \n",
    "    for char in input_str:\n",
    "        if ord(char) % 2 == 0:\n",
    "            result += char.upper()\n",
    "        else:\n",
    "            result += char.lower()\n",
    "    \n",
    "    return result"
   ]
  },
  {
   "cell_type": "code",
   "execution_count": 22,
   "id": "28230d3d",
   "metadata": {},
   "outputs": [
    {
     "data": {
      "text/plain": [
       "'To Be oR NoT To Be!'"
      ]
     },
     "execution_count": 22,
     "metadata": {},
     "output_type": "execute_result"
    }
   ],
   "source": [
    "ascii_capitalize(\"to be or not to be!\") "
   ]
  },
  {
   "cell_type": "code",
   "execution_count": 23,
   "id": "e5401b33",
   "metadata": {},
   "outputs": [
    {
     "data": {
      "text/plain": [
       "'THe LiTTLe meRmaiD'"
      ]
     },
     "execution_count": 23,
     "metadata": {},
     "output_type": "execute_result"
    }
   ],
   "source": [
    "ascii_capitalize(\"THE LITTLE MERMAID\") "
   ]
  },
  {
   "cell_type": "code",
   "execution_count": 24,
   "id": "61825d39",
   "metadata": {},
   "outputs": [
    {
     "data": {
      "text/plain": [
       "'oH wHaT a BeauTiFuL moRNiNg.'"
      ]
     },
     "execution_count": 24,
     "metadata": {},
     "output_type": "execute_result"
    }
   ],
   "source": [
    "ascii_capitalize(\"Oh what a beautiful morning.\") "
   ]
  },
  {
   "cell_type": "code",
   "execution_count": null,
   "id": "47c65546",
   "metadata": {},
   "outputs": [],
   "source": []
  }
 ],
 "metadata": {
  "kernelspec": {
   "display_name": "Python 3 (ipykernel)",
   "language": "python",
   "name": "python3"
  },
  "language_info": {
   "codemirror_mode": {
    "name": "ipython",
    "version": 3
   },
   "file_extension": ".py",
   "mimetype": "text/x-python",
   "name": "python",
   "nbconvert_exporter": "python",
   "pygments_lexer": "ipython3",
   "version": "3.9.7"
  }
 },
 "nbformat": 4,
 "nbformat_minor": 5
}
