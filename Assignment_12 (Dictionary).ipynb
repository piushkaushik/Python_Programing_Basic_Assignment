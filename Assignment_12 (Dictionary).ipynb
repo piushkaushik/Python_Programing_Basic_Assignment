{
 "cells": [
  {
   "cell_type": "markdown",
   "id": "25dff05d",
   "metadata": {},
   "source": [
    "# 1. Write a Python program to Extract Unique values dictionary values?"
   ]
  },
  {
   "cell_type": "code",
   "execution_count": 9,
   "id": "c574a96b",
   "metadata": {},
   "outputs": [
    {
     "name": "stdout",
     "output_type": "stream",
     "text": [
      "Unique values in the dictionary: [10, 20, 30]\n"
     ]
    }
   ],
   "source": [
    "# Sample dictionary\n",
    "my_dict = {\n",
    "    'a': 10,\n",
    "    'b': 20,\n",
    "    'c': 10,\n",
    "    'd': 30,\n",
    "    'e': 20\n",
    "}\n",
    "\n",
    "# Initialize an empty set to store unique values\n",
    "uni_val = set()\n",
    "\n",
    "# Iterate through the values of the dictionary\n",
    "for i in my_dict.values():\n",
    "    # Add each value to the set\n",
    "    uni_val.add(i)\n",
    "\n",
    "# Convert the set of unique values back to a list (if needed)\n",
    "unique_values_list = list(uni_val)\n",
    "\n",
    "# Print the unique values\n",
    "print(\"Unique values in the dictionary:\", unique_values_list)"
   ]
  },
  {
   "cell_type": "markdown",
   "id": "a2ed35d4",
   "metadata": {},
   "source": [
    "# 2. Write a Python program to find the sum of all items in a dictionary?"
   ]
  },
  {
   "cell_type": "code",
   "execution_count": 10,
   "id": "4ef902a8",
   "metadata": {},
   "outputs": [
    {
     "name": "stdout",
     "output_type": "stream",
     "text": [
      "Sum of all items in the dictionary: 150\n"
     ]
    }
   ],
   "source": [
    "# Sample dictionary\n",
    "my_dict = {\n",
    "    'a': 10,\n",
    "    'b': 20,\n",
    "    'c': 30,\n",
    "    'd': 40,\n",
    "    'e': 50\n",
    "}\n",
    "\n",
    "# Initialize a variable to store the sum\n",
    "total_sum = 0\n",
    "\n",
    "# Iterate through the values of the dictionary and add them to the total_sum\n",
    "for i in my_dict.values():\n",
    "    total_sum += i\n",
    "\n",
    "# Print the sum of all items in the dictionary\n",
    "print(\"Sum of all items in the dictionary:\", total_sum)"
   ]
  },
  {
   "cell_type": "markdown",
   "id": "89817338",
   "metadata": {},
   "source": [
    "# 3. Write a Python program to Merging two Dictionaries?"
   ]
  },
  {
   "cell_type": "code",
   "execution_count": 12,
   "id": "7012f158",
   "metadata": {},
   "outputs": [
    {
     "name": "stdout",
     "output_type": "stream",
     "text": [
      "Merged Dictionary (using update()): {'a': 1, 'b': 2, 'c': 3, 'd': 4}\n"
     ]
    }
   ],
   "source": [
    "# Using the update() method:\n",
    "\n",
    "dict1 = {'a': 1, 'b': 2}\n",
    "dict2 = {'c': 3, 'd': 4}\n",
    "\n",
    "dict1.update(dict2)\n",
    "\n",
    "# The merged dictionary is now in dict1\n",
    "print(\"Merged Dictionary (using update()):\", dict1)"
   ]
  },
  {
   "cell_type": "code",
   "execution_count": 14,
   "id": "334c2828",
   "metadata": {},
   "outputs": [
    {
     "name": "stdout",
     "output_type": "stream",
     "text": [
      "Merged Dictionary (using dictionary unpacking): {'a': 1, 'b': 2, 'c': 3, 'd': 4}\n"
     ]
    }
   ],
   "source": [
    "# Using dictionary unpacking\n",
    "\n",
    "dict1 = {'a': 1, 'b': 2}\n",
    "dict2 = {'c': 3, 'd': 4}\n",
    "\n",
    "# Merge dict2 into dict1 using dictionary unpacking\n",
    "merged_dict = {**dict1, **dict2}\n",
    "\n",
    "# The merged dictionary is now in merged_dict\n",
    "print(\"Merged Dictionary (using dictionary unpacking):\", merged_dict)\n"
   ]
  },
  {
   "cell_type": "markdown",
   "id": "1706079a",
   "metadata": {},
   "source": [
    "# 4. Write a Python program to convert key-values list to flat dictionary?"
   ]
  },
  {
   "cell_type": "code",
   "execution_count": 15,
   "id": "445b303f",
   "metadata": {},
   "outputs": [
    {
     "name": "stdout",
     "output_type": "stream",
     "text": [
      "Flat Dictionary: {'a': 1, 'b': 2, 'c': 3, 'd': 4}\n"
     ]
    }
   ],
   "source": [
    "key_values_list = [('a', 1), ('b', 2), ('c', 3), ('d', 4)]\n",
    "\n",
    "# Initialize an empty dictionary\n",
    "flat_dict = {}\n",
    "\n",
    "# Iterate through the list and add key-value pairs to the dictionary\n",
    "for key, value in key_values_list:\n",
    "    flat_dict[key] = value\n",
    "\n",
    "# Print the resulting flat dictionary\n",
    "print(\"Flat Dictionary:\", flat_dict)"
   ]
  },
  {
   "cell_type": "markdown",
   "id": "f0bcb0b6",
   "metadata": {},
   "source": [
    "# 5. Write a Python program to insertion at the beginning in OrderedDict?"
   ]
  },
  {
   "cell_type": "code",
   "execution_count": 16,
   "id": "666bbe08",
   "metadata": {},
   "outputs": [
    {
     "name": "stdout",
     "output_type": "stream",
     "text": [
      "Updated OrderedDict: OrderedDict([('a', 1), ('b', 2), ('c', 3), ('d', 4)])\n"
     ]
    }
   ],
   "source": [
    "from collections import OrderedDict\n",
    "\n",
    "# Create an OrderedDict\n",
    "ordered_dict = OrderedDict([('b', 2), ('c', 3), ('d', 4)])\n",
    "\n",
    "# Item to insert at the beginning\n",
    "new_item = ('a', 1)\n",
    "\n",
    "# Create a new OrderedDict with the new item as the first element\n",
    "new_ordered_dict = OrderedDict([new_item])\n",
    "\n",
    "# Merge the new OrderedDict with the original OrderedDict\n",
    "new_ordered_dict.update(ordered_dict)\n",
    "\n",
    "# Print the updated OrderedDict\n",
    "print(\"Updated OrderedDict:\", new_ordered_dict)"
   ]
  },
  {
   "cell_type": "markdown",
   "id": "e2d7a897",
   "metadata": {},
   "source": [
    "# 6. Write a Python program to check order of character in string using OrderedDict()?"
   ]
  },
  {
   "cell_type": "code",
   "execution_count": 17,
   "id": "dd683516",
   "metadata": {},
   "outputs": [
    {
     "name": "stdout",
     "output_type": "stream",
     "text": [
      "The order of characters in the input string matches the reference string.\n"
     ]
    }
   ],
   "source": [
    "from collections import OrderedDict\n",
    "\n",
    "def check_order(string, reference):\n",
    "    # Create OrderedDicts for both strings\n",
    "    string_dict = OrderedDict.fromkeys(string)\n",
    "    reference_dict = OrderedDict.fromkeys(reference)\n",
    "    \n",
    "    # Check if the OrderedDict for the string matches the OrderedDict for the reference\n",
    "    return string_dict == reference_dict\n",
    "\n",
    "# Input strings\n",
    "input_string = \"hello world\"\n",
    "reference_string = \"helo wrd\"\n",
    "\n",
    "# Check if the order of characters in input_string matches reference_string\n",
    "if check_order(input_string, reference_string):\n",
    "    print(\"The order of characters in the input string matches the reference string.\")\n",
    "else:\n",
    "    print(\"The order of characters in the input string does not match the reference string.\")\n"
   ]
  },
  {
   "cell_type": "markdown",
   "id": "ac1f92f0",
   "metadata": {},
   "source": [
    "# 7. Write a Python program to sort Python Dictionaries by Key or Value?"
   ]
  },
  {
   "cell_type": "code",
   "execution_count": 19,
   "id": "3bec0739",
   "metadata": {},
   "outputs": [
    {
     "name": "stdout",
     "output_type": "stream",
     "text": [
      "Sorted by keys:\n",
      "apple: 3\n",
      "banana: 1\n",
      "cherry: 2\n",
      "date: 4\n"
     ]
    }
   ],
   "source": [
    "# Sort by Keys:\n",
    "\n",
    "sample_dict = {'apple': 3, 'banana': 1, 'cherry': 2, 'date': 4}\n",
    "\n",
    "sorted_dict_by_keys = dict(sorted(sample_dict.items()))\n",
    "\n",
    "print(\"Sorted by keys:\")\n",
    "for key, value in sorted_dict_by_keys.items():\n",
    "    print(f\"{key}: {value}\")"
   ]
  },
  {
   "cell_type": "code",
   "execution_count": 21,
   "id": "bef29142",
   "metadata": {},
   "outputs": [
    {
     "name": "stdout",
     "output_type": "stream",
     "text": [
      "Sorted by values:\n",
      "banana: 1\n",
      "cherry: 2\n",
      "apple: 3\n",
      "date: 4\n"
     ]
    }
   ],
   "source": [
    "# Sort by values\n",
    "\n",
    "sample_dict = {'apple': 3, 'banana': 1, 'cherry': 2, 'date': 4}\n",
    "\n",
    "sorted_dict_by_values = dict(sorted(sample_dict.items(), key=lambda item: item[1]))\n",
    "\n",
    "print(\"Sorted by values:\")\n",
    "for key, value in sorted_dict_by_values.items():\n",
    "    print(f\"{key}: {value}\")"
   ]
  },
  {
   "cell_type": "code",
   "execution_count": null,
   "id": "428c6702",
   "metadata": {},
   "outputs": [],
   "source": []
  }
 ],
 "metadata": {
  "kernelspec": {
   "display_name": "Python 3 (ipykernel)",
   "language": "python",
   "name": "python3"
  },
  "language_info": {
   "codemirror_mode": {
    "name": "ipython",
    "version": 3
   },
   "file_extension": ".py",
   "mimetype": "text/x-python",
   "name": "python",
   "nbconvert_exporter": "python",
   "pygments_lexer": "ipython3",
   "version": "3.9.7"
  }
 },
 "nbformat": 4,
 "nbformat_minor": 5
}
